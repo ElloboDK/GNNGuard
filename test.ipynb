{
 "cells": [
  {
   "cell_type": "markdown",
   "metadata": {},
   "source": [
    "图结构数据的度"
   ]
  },
  {
   "cell_type": "code",
   "execution_count": 20,
   "metadata": {},
   "outputs": [
    {
     "name": "stdout",
     "output_type": "stream",
     "text": [
      "Loading cora dataset...\n",
      "Selecting 1 largest connected components\n"
     ]
    }
   ],
   "source": [
    "from deeprobust.graph.data import Dataset\n",
    "import pandas as pd\n",
    "\n",
    "data = Dataset(root='./Datasets/', name='cora')\n",
    "\n",
    "adj, features, labels = data.adj, data.features, data.labels\n",
    "\n",
    "degrees = []\n",
    "\n",
    "for i in range(adj.shape[0]):\n",
    "    degrees.append(adj[i].nnz)\n",
    "\n",
    "# print(degrees)\n",
    "ser = pd.Series(degrees)\n",
    "# ser.unique()\n",
    "# ser.value_counts()\n",
    "\n",
    "# ser.plot(kind=\"hist\")"
   ]
  },
  {
   "cell_type": "code",
   "execution_count": 36,
   "metadata": {},
   "outputs": [
    {
     "name": "stdout",
     "output_type": "stream",
     "text": [
      "2      545\n",
      "3      525\n",
      "4      375\n",
      "1      354\n",
      "5      275\n",
      "6      128\n",
      "7       81\n",
      "8       55\n",
      "10      26\n",
      "9       25\n",
      "12      18\n",
      "11      14\n",
      "17       8\n",
      "16       7\n",
      "15       6\n",
      "14       6\n",
      "19       5\n",
      "13       5\n",
      "21       3\n",
      "23       3\n",
      "18       3\n",
      "30       2\n",
      "32       2\n",
      "22       1\n",
      "26       1\n",
      "65       1\n",
      "34       1\n",
      "36       1\n",
      "40       1\n",
      "42       1\n",
      "44       1\n",
      "33       1\n",
      "78       1\n",
      "168      1\n",
      "29       1\n",
      "31       1\n",
      "74       1\n",
      "dtype: int64\n"
     ]
    }
   ],
   "source": [
    "print(ser.value_counts())\n"
   ]
  },
  {
   "cell_type": "code",
   "execution_count": 30,
   "metadata": {},
   "outputs": [
    {
     "data": {
      "text/plain": [
       "<AxesSubplot:>"
      ]
     },
     "execution_count": 30,
     "metadata": {},
     "output_type": "execute_result"
    },
    {
     "data": {
      "image/png": "[encoded data removed]",
      "text/plain": [
       "<Figure size 432x288 with 1 Axes>"
      ]
     },
     "metadata": {
      "needs_background": "light"
     },
     "output_type": "display_data"
    }
   ],
   "source": [
    "ser.plot.line()"
   ]
  },
  {
   "cell_type": "code",
   "execution_count": 34,
   "metadata": {},
   "outputs": [
    {
     "data": {
      "text/plain": [
       "<AxesSubplot:ylabel='Frequency'>"
      ]
     },
     "execution_count": 34,
     "metadata": {},
     "output_type": "execute_result"
    },
    {
     "data": {
      "image/png": "[encoded data removed]",
      "text/plain": [
       "<Figure size 432x288 with 1 Axes>"
      ]
     },
     "metadata": {
      "needs_background": "light"
     },
     "output_type": "display_data"
    }
   ],
   "source": [
    "ser.plot.hist()"
   ]
  }
 ],
 "metadata": {
  "interpreter": {
   "hash": "a56855c9ea11010bc304316a44db751546a045ca14ebeaff59a03465560bb0ff"
  },
  "kernelspec": {
   "display_name": "Python 3.7.11 ('torch-py37')",
   "language": "python",
   "name": "python3"
  },
  "language_info": {
   "codemirror_mode": {
    "name": "ipython",
    "version": 3
   },
   "file_extension": ".py",
   "mimetype": "text/x-python",
   "name": "python",
   "nbconvert_exporter": "python",
   "pygments_lexer": "ipython3",
   "version": "3.7.0"
  },
  "orig_nbformat": 4
 },
 "nbformat": 4,
 "nbformat_minor": 2
}
