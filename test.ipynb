{
 "cells": [
  {
   "cell_type": "code",
   "execution_count": 23,
   "metadata": {},
   "outputs": [
    {
     "name": "stdout",
     "output_type": "stream",
     "text": [
      "Loading cora dataset...\n",
      "Selecting 1 largest connected components\n"
     ]
    }
   ],
   "source": [
    "import torch\n",
    "import sys\n",
    "import numpy as np\n",
    "import torch.nn.functional as F\n",
    "import torch.optim as optim\n",
    "from deeprobust.graph.global_attack import MetaApprox, Metattack\n",
    "from deeprobust.graph.utils import *\n",
    "from deeprobust.graph.defense import *\n",
    "from deeprobust.graph.data import Dataset\n",
    "import argparse\n",
    "from scipy.sparse import csr_matrix\n",
    "import pickle\n",
    "from sklearn.metrics import jaccard_score\n",
    "from sklearn.preprocessing import normalize\n",
    "import scipy\n",
    "import numpy as np\n",
    "from defense import GCN_attack\n",
    "\n",
    "# parser = argparse.ArgumentParser()\n",
    "# parser.add_argument('--no-cuda', action='store_true', default=False,\n",
    "#                     help='Disables CUDA training.')\n",
    "# parser.add_argument('--seed', type=int, default=15, help='Random seed.')\n",
    "# parser.add_argument('--epochs', type=int, default=200,\n",
    "#                     help='Number of epochs to train.')\n",
    "# parser.add_argument('--lr', type=float, default=0.01,\n",
    "#                     help='Initial learning rate.')\n",
    "# parser.add_argument('--weight_decay', type=float, default=5e-4,\n",
    "#                     help='Weight decay (L2 loss on parameters).')\n",
    "# parser.add_argument('--hidden', type=int, default=16,\n",
    "#                     help='Number of hidden units.')\n",
    "# parser.add_argument('--dropout', type=float, default=0.5,\n",
    "#                     help='Dropout rate (1 - keep probability).')\n",
    "# parser.add_argument('--dataset', type=str, default='cora', choices=['cora', 'cora_ml', 'citeseer', 'polblogs', 'pubmed'], help='dataset')\n",
    "# parser.add_argument('--ptb_rate', type=float, default=0.05,  help='pertubation rate')\n",
    "# parser.add_argument('--model', type=str, default='Meta-Self', choices=['A-Meta-Self', 'Meta-Self'], help='model variant')\n",
    "\n",
    "# parser.add_argument('--modelname', type=str, default='GCN',  choices=['GCN', 'GAT','GIN', 'JK'])\n",
    "# parser.add_argument('--defensemodel', type=str, default='GCNJaccard',  choices=['GCNJaccard', 'RGCN', 'GCNSVD'])\n",
    "# parser.add_argument('--GNNGuard', type=bool, default=False,  choices=[True, False])\n",
    "\n",
    "# args = parser.parse_args()\n",
    "\n",
    "SEED = 15\n",
    "DATASET = 'cora'\n",
    "PTB_RATE = 0.2\n",
    "MODEL = 'Meta-Self'\n",
    "GNNGUARD = False\n",
    "MODELNAME = 'GCN'\n",
    "\n",
    "device = torch.device(\"cuda\" if torch.cuda.is_available() else \"cpu\")\n",
    "\n",
    "np.random.seed(SEED)\n",
    "torch.manual_seed(SEED)\n",
    "if device != 'cpu':\n",
    "    torch.cuda.manual_seed(SEED)\n",
    "\n",
    "data = Dataset(root='./Datasets/', name=DATASET)\n",
    "\n",
    "adj, features, labels = data.adj, data.features, data.labels\n",
    "idx_train, idx_val, idx_test = data.idx_train, data.idx_val, data.idx_test\n",
    "idx_unlabeled = np.union1d(idx_val, idx_test)\n",
    "\n",
    "# 判断稀疏矩阵\n",
    "if scipy.sparse.issparse(features)==False:\n",
    "    features = scipy.sparse.csr_matrix(features)\n",
    "\n",
    "perturbations = int(PTB_RATE * (adj.sum()//2))\n",
    "adj, features, labels = preprocess(adj, features, labels, preprocess_adj=False)\n",
    "\n",
    "#1. to CSR sparse\n",
    "adj, features = csr_matrix(adj), csr_matrix(features)\n",
    "\n",
    "\"\"\"add undirected edges, orgn-arxiv is directed graph, we transfer it to undirected closely following \n",
    "https://ogb.stanford.edu/docs/leader_nodeprop/#ogbn-arxiv\n",
    "\"\"\"\n",
    "adj = adj + adj.T\n",
    "adj[adj>1] = 1\n",
    "\n",
    "modified_adj = pickle.load(open('saved_pk/mettack_modified_adj_cora2484_0.05fake.pk', 'rb'))\n",
    "modified_adj = csr_matrix(modified_adj)\n",
    "attention = GNNGUARD # if True, our method; if False, run baselines\n"
   ]
  },
  {
   "cell_type": "code",
   "execution_count": 24,
   "metadata": {},
   "outputs": [
    {
     "name": "stderr",
     "output_type": "stream",
     "text": [
      "Perturbing graph:   0%|          | 0/1013 [00:00<?, ?it/s]"
     ]
    },
    {
     "name": "stdout",
     "output_type": "stream",
     "text": [
      "GCN loss on unlabled data: 0.5256392359733582\n",
      "GCN acc on unlabled data: 0.8270004470272687\n",
      "attack loss: 0.34636449813842773\n"
     ]
    },
    {
     "name": "stderr",
     "output_type": "stream",
     "text": [
      "C:\\Users\\Banana\\.conda\\envs\\torch-py37\\lib\\site-packages\\deeprobust\\graph\\utils.py:541: UserWarning: __floordiv__ is deprecated, and its behavior will change in a future version of pytorch. It currently rounds toward 0 (like the 'trunc' function NOT 'floor'). This results in incorrect rounding for negative values. To keep the current behavior, use torch.div(a, b, rounding_mode='trunc'), or for actual floor division, use torch.div(a, b, rounding_mode='floor').\n",
      "  rows = index // array_shape[1]\n",
      "Perturbing graph:   0%|          | 1/1013 [00:08<2:16:01,  8.06s/it]"
     ]
    },
    {
     "name": "stdout",
     "output_type": "stream",
     "text": [
      "GCN loss on unlabled data: 0.5196269750595093\n",
      "GCN acc on unlabled data: 0.8363880196691998\n",
      "attack loss: 0.3322211503982544\n"
     ]
    },
    {
     "name": "stderr",
     "output_type": "stream",
     "text": [
      "Perturbing graph:   0%|          | 2/1013 [00:16<2:17:19,  8.15s/it]"
     ]
    },
    {
     "name": "stdout",
     "output_type": "stream",
     "text": [
      "GCN loss on unlabled data: 0.523428201675415\n",
      "GCN acc on unlabled data: 0.8363880196691998\n",
      "attack loss: 0.36184144020080566\n"
     ]
    },
    {
     "name": "stderr",
     "output_type": "stream",
     "text": [
      "Perturbing graph:   0%|          | 3/1013 [00:24<2:19:11,  8.27s/it]"
     ]
    },
    {
     "name": "stdout",
     "output_type": "stream",
     "text": [
      "GCN loss on unlabled data: 0.5084439516067505\n",
      "GCN acc on unlabled data: 0.8426464014304873\n",
      "attack loss: 0.39731359481811523\n"
     ]
    },
    {
     "name": "stderr",
     "output_type": "stream",
     "text": [
      "Perturbing graph:   0%|          | 4/1013 [00:33<2:19:37,  8.30s/it]"
     ]
    },
    {
     "name": "stdout",
     "output_type": "stream",
     "text": [
      "GCN loss on unlabled data: 0.5308880805969238\n",
      "GCN acc on unlabled data: 0.8337058560572195\n",
      "attack loss: 0.37005358934402466\n"
     ]
    },
    {
     "name": "stderr",
     "output_type": "stream",
     "text": [
      "Perturbing graph:   0%|          | 5/1013 [00:41<2:17:43,  8.20s/it]"
     ]
    },
    {
     "name": "stdout",
     "output_type": "stream",
     "text": [
      "GCN loss on unlabled data: 0.5290098786354065\n",
      "GCN acc on unlabled data: 0.8359409924005364\n",
      "attack loss: 0.39872288703918457\n"
     ]
    },
    {
     "name": "stderr",
     "output_type": "stream",
     "text": [
      "Perturbing graph:   1%|          | 6/1013 [00:49<2:17:58,  8.22s/it]"
     ]
    },
    {
     "name": "stdout",
     "output_type": "stream",
     "text": [
      "GCN loss on unlabled data: 0.552384078502655\n",
      "GCN acc on unlabled data: 0.8310236924452392\n",
      "attack loss: 0.42506518959999084\n"
     ]
    },
    {
     "name": "stderr",
     "output_type": "stream",
     "text": [
      "Perturbing graph:   1%|          | 7/1013 [00:57<2:18:03,  8.23s/it]"
     ]
    },
    {
     "name": "stdout",
     "output_type": "stream",
     "text": [
      "GCN loss on unlabled data: 0.5435854196548462\n",
      "GCN acc on unlabled data: 0.8305766651765758\n",
      "attack loss: 0.40307390689849854\n"
     ]
    },
    {
     "name": "stderr",
     "output_type": "stream",
     "text": [
      "Perturbing graph:   1%|          | 8/1013 [01:05<2:17:02,  8.18s/it]"
     ]
    },
    {
     "name": "stdout",
     "output_type": "stream",
     "text": [
      "GCN loss on unlabled data: 0.5328577160835266\n",
      "GCN acc on unlabled data: 0.8314707197139025\n",
      "attack loss: 0.40999743342399597\n"
     ]
    },
    {
     "name": "stderr",
     "output_type": "stream",
     "text": [
      "Perturbing graph:   1%|          | 9/1013 [01:13<2:15:56,  8.12s/it]"
     ]
    },
    {
     "name": "stdout",
     "output_type": "stream",
     "text": [
      "GCN loss on unlabled data: 0.5598021149635315\n",
      "GCN acc on unlabled data: 0.8220831470719714\n",
      "attack loss: 0.45430076122283936\n"
     ]
    },
    {
     "name": "stderr",
     "output_type": "stream",
     "text": [
      "Perturbing graph:   1%|          | 10/1013 [01:21<2:14:39,  8.06s/it]"
     ]
    },
    {
     "name": "stdout",
     "output_type": "stream",
     "text": [
      "GCN loss on unlabled data: 0.5699076056480408\n",
      "GCN acc on unlabled data: 0.8252123379526151\n",
      "attack loss: 0.4040074050426483\n"
     ]
    },
    {
     "name": "stderr",
     "output_type": "stream",
     "text": [
      "Perturbing graph:   1%|          | 11/1013 [01:29<2:14:26,  8.05s/it]"
     ]
    },
    {
     "name": "stdout",
     "output_type": "stream",
     "text": [
      "GCN loss on unlabled data: 0.5841845870018005\n",
      "GCN acc on unlabled data: 0.819400983459991\n",
      "attack loss: 0.45144426822662354\n"
     ]
    },
    {
     "name": "stderr",
     "output_type": "stream",
     "text": [
      "Perturbing graph:   1%|          | 12/1013 [01:37<2:14:41,  8.07s/it]"
     ]
    },
    {
     "name": "stdout",
     "output_type": "stream",
     "text": [
      "GCN loss on unlabled data: 0.565907895565033\n",
      "GCN acc on unlabled data: 0.8220831470719714\n",
      "attack loss: 0.45247942209243774\n"
     ]
    },
    {
     "name": "stderr",
     "output_type": "stream",
     "text": [
      "Perturbing graph:   1%|▏         | 13/1013 [01:45<2:14:22,  8.06s/it]"
     ]
    },
    {
     "name": "stdout",
     "output_type": "stream",
     "text": [
      "GCN loss on unlabled data: 0.6129724383354187\n",
      "GCN acc on unlabled data: 0.8211890925346446\n",
      "attack loss: 0.48886561393737793\n"
     ]
    },
    {
     "name": "stderr",
     "output_type": "stream",
     "text": [
      "Perturbing graph:   1%|▏         | 14/1013 [01:53<2:13:12,  8.00s/it]"
     ]
    },
    {
     "name": "stdout",
     "output_type": "stream",
     "text": [
      "GCN loss on unlabled data: 0.5716933608055115\n",
      "GCN acc on unlabled data: 0.813589628967367\n",
      "attack loss: 0.458243727684021\n"
     ]
    },
    {
     "name": "stderr",
     "output_type": "stream",
     "text": [
      "Perturbing graph:   1%|▏         | 15/1013 [02:01<2:12:47,  7.98s/it]"
     ]
    },
    {
     "name": "stdout",
     "output_type": "stream",
     "text": [
      "GCN loss on unlabled data: 0.5618573427200317\n",
      "GCN acc on unlabled data: 0.8220831470719714\n",
      "attack loss: 0.46528226137161255\n"
     ]
    },
    {
     "name": "stderr",
     "output_type": "stream",
     "text": [
      "Perturbing graph:   2%|▏         | 16/1013 [02:09<2:12:46,  7.99s/it]"
     ]
    },
    {
     "name": "stdout",
     "output_type": "stream",
     "text": [
      "GCN loss on unlabled data: 0.5783966183662415\n",
      "GCN acc on unlabled data: 0.8256593652212785\n",
      "attack loss: 0.47226178646087646\n"
     ]
    },
    {
     "name": "stderr",
     "output_type": "stream",
     "text": [
      "Perturbing graph:   2%|▏         | 17/1013 [02:17<2:13:14,  8.03s/it]"
     ]
    },
    {
     "name": "stdout",
     "output_type": "stream",
     "text": [
      "GCN loss on unlabled data: 0.5875458717346191\n",
      "GCN acc on unlabled data: 0.8202950379973178\n",
      "attack loss: 0.47064048051834106\n"
     ]
    },
    {
     "name": "stderr",
     "output_type": "stream",
     "text": [
      "Perturbing graph:   2%|▏         | 18/1013 [02:25<2:12:57,  8.02s/it]"
     ]
    },
    {
     "name": "stdout",
     "output_type": "stream",
     "text": [
      "GCN loss on unlabled data: 0.6042126417160034\n",
      "GCN acc on unlabled data: 0.8144836835046938\n",
      "attack loss: 0.4773905277252197\n"
     ]
    },
    {
     "name": "stderr",
     "output_type": "stream",
     "text": [
      "Perturbing graph:   2%|▏         | 19/1013 [02:33<2:12:13,  7.98s/it]"
     ]
    },
    {
     "name": "stdout",
     "output_type": "stream",
     "text": [
      "GCN loss on unlabled data: 0.5843484997749329\n",
      "GCN acc on unlabled data: 0.8149307107733572\n",
      "attack loss: 0.48527035117149353\n"
     ]
    },
    {
     "name": "stderr",
     "output_type": "stream",
     "text": [
      "Perturbing graph:   2%|▏         | 20/1013 [02:41<2:13:49,  8.09s/it]"
     ]
    },
    {
     "name": "stdout",
     "output_type": "stream",
     "text": [
      "GCN loss on unlabled data: 0.5951029658317566\n",
      "GCN acc on unlabled data: 0.8180599016540009\n",
      "attack loss: 0.5079132914543152\n"
     ]
    },
    {
     "name": "stderr",
     "output_type": "stream",
     "text": [
      "Perturbing graph:   2%|▏         | 21/1013 [02:49<2:13:14,  8.06s/it]"
     ]
    },
    {
     "name": "stdout",
     "output_type": "stream",
     "text": [
      "GCN loss on unlabled data: 0.5916544795036316\n",
      "GCN acc on unlabled data: 0.8176128743853375\n",
      "attack loss: 0.4809727370738983\n"
     ]
    },
    {
     "name": "stderr",
     "output_type": "stream",
     "text": [
      "Perturbing graph:   2%|▏         | 22/1013 [02:57<2:12:12,  8.00s/it]"
     ]
    },
    {
     "name": "stdout",
     "output_type": "stream",
     "text": [
      "GCN loss on unlabled data: 0.5717148780822754\n",
      "GCN acc on unlabled data: 0.8100134108180599\n",
      "attack loss: 0.4758518934249878\n"
     ]
    },
    {
     "name": "stderr",
     "output_type": "stream",
     "text": [
      "Perturbing graph:   2%|▏         | 23/1013 [03:05<2:11:41,  7.98s/it]"
     ]
    },
    {
     "name": "stdout",
     "output_type": "stream",
     "text": [
      "GCN loss on unlabled data: 0.6025466322898865\n",
      "GCN acc on unlabled data: 0.8158247653106839\n",
      "attack loss: 0.5087431073188782\n"
     ]
    },
    {
     "name": "stderr",
     "output_type": "stream",
     "text": [
      "Perturbing graph:   2%|▏         | 24/1013 [03:13<2:10:14,  7.90s/it]"
     ]
    },
    {
     "name": "stdout",
     "output_type": "stream",
     "text": [
      "GCN loss on unlabled data: 0.5669479966163635\n",
      "GCN acc on unlabled data: 0.8211890925346446\n",
      "attack loss: 0.47537463903427124\n"
     ]
    },
    {
     "name": "stderr",
     "output_type": "stream",
     "text": [
      "Perturbing graph:   2%|▏         | 25/1013 [03:21<2:10:19,  7.91s/it]"
     ]
    },
    {
     "name": "stdout",
     "output_type": "stream",
     "text": [
      "GCN loss on unlabled data: 0.5788741111755371\n",
      "GCN acc on unlabled data: 0.8207420652659813\n",
      "attack loss: 0.531527042388916\n"
     ]
    },
    {
     "name": "stderr",
     "output_type": "stream",
     "text": [
      "Perturbing graph:   3%|▎         | 26/1013 [03:29<2:12:35,  8.06s/it]"
     ]
    },
    {
     "name": "stdout",
     "output_type": "stream",
     "text": [
      "GCN loss on unlabled data: 0.6028139591217041\n",
      "GCN acc on unlabled data: 0.8185069289226643\n",
      "attack loss: 0.5311508774757385\n"
     ]
    },
    {
     "name": "stderr",
     "output_type": "stream",
     "text": [
      "Perturbing graph:   3%|▎         | 27/1013 [03:37<2:12:03,  8.04s/it]"
     ]
    },
    {
     "name": "stdout",
     "output_type": "stream",
     "text": [
      "GCN loss on unlabled data: 0.5922191143035889\n",
      "GCN acc on unlabled data: 0.8225301743406348\n",
      "attack loss: 0.5238585472106934\n"
     ]
    },
    {
     "name": "stderr",
     "output_type": "stream",
     "text": [
      "Perturbing graph:   3%|▎         | 28/1013 [03:45<2:11:23,  8.00s/it]"
     ]
    },
    {
     "name": "stdout",
     "output_type": "stream",
     "text": [
      "GCN loss on unlabled data: 0.6415581107139587\n",
      "GCN acc on unlabled data: 0.8006258381761288\n",
      "attack loss: 0.568854808807373\n"
     ]
    },
    {
     "name": "stderr",
     "output_type": "stream",
     "text": [
      "Perturbing graph:   3%|▎         | 29/1013 [03:53<2:10:58,  7.99s/it]"
     ]
    },
    {
     "name": "stdout",
     "output_type": "stream",
     "text": [
      "GCN loss on unlabled data: 0.6763254404067993\n",
      "GCN acc on unlabled data: 0.7979436745641484\n",
      "attack loss: 0.5669267773628235\n"
     ]
    },
    {
     "name": "stderr",
     "output_type": "stream",
     "text": [
      "Perturbing graph:   3%|▎         | 30/1013 [04:01<2:10:20,  7.96s/it]"
     ]
    },
    {
     "name": "stdout",
     "output_type": "stream",
     "text": [
      "GCN loss on unlabled data: 0.6058263182640076\n",
      "GCN acc on unlabled data: 0.8140366562360304\n",
      "attack loss: 0.5351555347442627\n"
     ]
    },
    {
     "name": "stderr",
     "output_type": "stream",
     "text": [
      "Perturbing graph:   3%|▎         | 31/1013 [04:09<2:10:16,  7.96s/it]"
     ]
    },
    {
     "name": "stdout",
     "output_type": "stream",
     "text": [
      "GCN loss on unlabled data: 0.6160287261009216\n",
      "GCN acc on unlabled data: 0.819400983459991\n",
      "attack loss: 0.5395932197570801\n"
     ]
    },
    {
     "name": "stderr",
     "output_type": "stream",
     "text": [
      "Perturbing graph:   3%|▎         | 32/1013 [04:17<2:10:05,  7.96s/it]"
     ]
    },
    {
     "name": "stdout",
     "output_type": "stream",
     "text": [
      "GCN loss on unlabled data: 0.6055968403816223\n",
      "GCN acc on unlabled data: 0.813589628967367\n",
      "attack loss: 0.5419031977653503\n"
     ]
    },
    {
     "name": "stderr",
     "output_type": "stream",
     "text": [
      "Perturbing graph:   3%|▎         | 33/1013 [04:25<2:10:22,  7.98s/it]"
     ]
    },
    {
     "name": "stdout",
     "output_type": "stream",
     "text": [
      "GCN loss on unlabled data: 0.6220923662185669\n",
      "GCN acc on unlabled data: 0.8158247653106839\n",
      "attack loss: 0.5443667769432068\n"
     ]
    },
    {
     "name": "stderr",
     "output_type": "stream",
     "text": [
      "Perturbing graph:   3%|▎         | 34/1013 [04:33<2:11:02,  8.03s/it]"
     ]
    },
    {
     "name": "stdout",
     "output_type": "stream",
     "text": [
      "GCN loss on unlabled data: 0.610313355922699\n",
      "GCN acc on unlabled data: 0.8144836835046938\n",
      "attack loss: 0.5775697231292725\n"
     ]
    },
    {
     "name": "stderr",
     "output_type": "stream",
     "text": [
      "Perturbing graph:   3%|▎         | 35/1013 [04:41<2:10:55,  8.03s/it]"
     ]
    },
    {
     "name": "stdout",
     "output_type": "stream",
     "text": [
      "GCN loss on unlabled data: 0.6671808362007141\n",
      "GCN acc on unlabled data: 0.8046490835940993\n",
      "attack loss: 0.5972419381141663\n"
     ]
    },
    {
     "name": "stderr",
     "output_type": "stream",
     "text": [
      "Perturbing graph:   4%|▎         | 36/1013 [04:49<2:12:06,  8.11s/it]"
     ]
    },
    {
     "name": "stdout",
     "output_type": "stream",
     "text": [
      "GCN loss on unlabled data: 0.6853450536727905\n",
      "GCN acc on unlabled data: 0.7961555654894948\n",
      "attack loss: 0.6148754954338074\n"
     ]
    },
    {
     "name": "stderr",
     "output_type": "stream",
     "text": [
      "Perturbing graph:   4%|▎         | 37/1013 [04:58<2:14:02,  8.24s/it]"
     ]
    },
    {
     "name": "stdout",
     "output_type": "stream",
     "text": [
      "GCN loss on unlabled data: 0.6414397954940796\n",
      "GCN acc on unlabled data: 0.8109074653553867\n",
      "attack loss: 0.6073175668716431\n"
     ]
    },
    {
     "name": "stderr",
     "output_type": "stream",
     "text": [
      "Perturbing graph:   4%|▍         | 38/1013 [05:06<2:14:57,  8.31s/it]"
     ]
    },
    {
     "name": "stdout",
     "output_type": "stream",
     "text": [
      "GCN loss on unlabled data: 0.6637211441993713\n",
      "GCN acc on unlabled data: 0.8073312472060795\n",
      "attack loss: 0.592793881893158\n"
     ]
    },
    {
     "name": "stderr",
     "output_type": "stream",
     "text": [
      "Perturbing graph:   4%|▍         | 39/1013 [05:15<2:14:23,  8.28s/it]"
     ]
    },
    {
     "name": "stdout",
     "output_type": "stream",
     "text": [
      "GCN loss on unlabled data: 0.6537474989891052\n",
      "GCN acc on unlabled data: 0.8019669199821189\n",
      "attack loss: 0.5797605514526367\n"
     ]
    },
    {
     "name": "stderr",
     "output_type": "stream",
     "text": [
      "Perturbing graph:   4%|▍         | 40/1013 [05:23<2:14:08,  8.27s/it]"
     ]
    },
    {
     "name": "stdout",
     "output_type": "stream",
     "text": [
      "GCN loss on unlabled data: 0.6587996482849121\n",
      "GCN acc on unlabled data: 0.8028609745194457\n",
      "attack loss: 0.586970329284668\n"
     ]
    },
    {
     "name": "stderr",
     "output_type": "stream",
     "text": [
      "Perturbing graph:   4%|▍         | 41/1013 [05:31<2:13:23,  8.23s/it]"
     ]
    },
    {
     "name": "stdout",
     "output_type": "stream",
     "text": [
      "GCN loss on unlabled data: 0.6929917335510254\n",
      "GCN acc on unlabled data: 0.7916852928028609\n",
      "attack loss: 0.6130290627479553\n"
     ]
    },
    {
     "name": "stderr",
     "output_type": "stream",
     "text": [
      "Perturbing graph:   4%|▍         | 42/1013 [05:39<2:12:35,  8.19s/it]"
     ]
    },
    {
     "name": "stdout",
     "output_type": "stream",
     "text": [
      "GCN loss on unlabled data: 0.6589739918708801\n",
      "GCN acc on unlabled data: 0.8100134108180599\n",
      "attack loss: 0.5952709913253784\n"
     ]
    },
    {
     "name": "stderr",
     "output_type": "stream",
     "text": [
      "Perturbing graph:   4%|▍         | 43/1013 [05:47<2:12:02,  8.17s/it]"
     ]
    },
    {
     "name": "stdout",
     "output_type": "stream",
     "text": [
      "GCN loss on unlabled data: 0.7033470869064331\n",
      "GCN acc on unlabled data: 0.8001788109074653\n",
      "attack loss: 0.6574423313140869\n"
     ]
    },
    {
     "name": "stderr",
     "output_type": "stream",
     "text": [
      "Perturbing graph:   4%|▍         | 44/1013 [05:55<2:12:05,  8.18s/it]"
     ]
    },
    {
     "name": "stdout",
     "output_type": "stream",
     "text": [
      "GCN loss on unlabled data: 0.6411393880844116\n",
      "GCN acc on unlabled data: 0.8082253017434063\n",
      "attack loss: 0.5918260812759399\n"
     ]
    },
    {
     "name": "stderr",
     "output_type": "stream",
     "text": [
      "Perturbing graph:   4%|▍         | 45/1013 [06:04<2:11:21,  8.14s/it]"
     ]
    },
    {
     "name": "stdout",
     "output_type": "stream",
     "text": [
      "GCN loss on unlabled data: 0.7065854668617249\n",
      "GCN acc on unlabled data: 0.8010728654447922\n",
      "attack loss: 0.6537434458732605\n"
     ]
    },
    {
     "name": "stderr",
     "output_type": "stream",
     "text": [
      "Perturbing graph:   5%|▍         | 46/1013 [06:12<2:10:51,  8.12s/it]"
     ]
    },
    {
     "name": "stdout",
     "output_type": "stream",
     "text": [
      "GCN loss on unlabled data: 0.7045708894729614\n",
      "GCN acc on unlabled data: 0.8006258381761288\n",
      "attack loss: 0.6444037556648254\n"
     ]
    },
    {
     "name": "stderr",
     "output_type": "stream",
     "text": [
      "Perturbing graph:   5%|▍         | 47/1013 [06:20<2:10:48,  8.12s/it]"
     ]
    },
    {
     "name": "stdout",
     "output_type": "stream",
     "text": [
      "GCN loss on unlabled data: 0.6967158317565918\n",
      "GCN acc on unlabled data: 0.805543138131426\n",
      "attack loss: 0.6586078405380249\n"
     ]
    },
    {
     "name": "stderr",
     "output_type": "stream",
     "text": [
      "Perturbing graph:   5%|▍         | 48/1013 [06:28<2:10:21,  8.10s/it]"
     ]
    },
    {
     "name": "stdout",
     "output_type": "stream",
     "text": [
      "GCN loss on unlabled data: 0.7106189727783203\n",
      "GCN acc on unlabled data: 0.7912382655341976\n",
      "attack loss: 0.6221437454223633\n"
     ]
    },
    {
     "name": "stderr",
     "output_type": "stream",
     "text": [
      "Perturbing graph:   5%|▍         | 49/1013 [06:36<2:09:42,  8.07s/it]"
     ]
    },
    {
     "name": "stdout",
     "output_type": "stream",
     "text": [
      "GCN loss on unlabled data: 0.7340299487113953\n",
      "GCN acc on unlabled data: 0.7983907018328118\n",
      "attack loss: 0.6875969171524048\n"
     ]
    },
    {
     "name": "stderr",
     "output_type": "stream",
     "text": [
      "Perturbing graph:   5%|▍         | 50/1013 [06:44<2:09:29,  8.07s/it]"
     ]
    },
    {
     "name": "stdout",
     "output_type": "stream",
     "text": [
      "GCN loss on unlabled data: 0.7368263602256775\n",
      "GCN acc on unlabled data: 0.7907912382655342\n",
      "attack loss: 0.6647345423698425\n"
     ]
    },
    {
     "name": "stderr",
     "output_type": "stream",
     "text": [
      "Perturbing graph:   5%|▌         | 51/1013 [06:52<2:11:21,  8.19s/it]"
     ]
    },
    {
     "name": "stdout",
     "output_type": "stream",
     "text": [
      "GCN loss on unlabled data: 0.6723813414573669\n",
      "GCN acc on unlabled data: 0.8068842199374162\n",
      "attack loss: 0.6089474558830261\n"
     ]
    },
    {
     "name": "stderr",
     "output_type": "stream",
     "text": [
      "Perturbing graph:   5%|▌         | 52/1013 [07:00<2:10:16,  8.13s/it]"
     ]
    },
    {
     "name": "stdout",
     "output_type": "stream",
     "text": [
      "GCN loss on unlabled data: 0.7537626028060913\n",
      "GCN acc on unlabled data: 0.7800625838176128\n",
      "attack loss: 0.715029776096344\n"
     ]
    },
    {
     "name": "stderr",
     "output_type": "stream",
     "text": [
      "Perturbing graph:   5%|▌         | 53/1013 [07:08<2:09:36,  8.10s/it]"
     ]
    },
    {
     "name": "stdout",
     "output_type": "stream",
     "text": [
      "GCN loss on unlabled data: 0.7800816893577576\n",
      "GCN acc on unlabled data: 0.7921323200715243\n",
      "attack loss: 0.7388423085212708\n"
     ]
    },
    {
     "name": "stderr",
     "output_type": "stream",
     "text": [
      "Perturbing graph:   5%|▌         | 54/1013 [07:16<2:08:54,  8.07s/it]"
     ]
    },
    {
     "name": "stdout",
     "output_type": "stream",
     "text": [
      "GCN loss on unlabled data: 0.75313401222229\n",
      "GCN acc on unlabled data: 0.7939204291461779\n",
      "attack loss: 0.6895095705986023\n"
     ]
    },
    {
     "name": "stderr",
     "output_type": "stream",
     "text": [
      "Perturbing graph:   5%|▌         | 55/1013 [07:24<2:08:26,  8.04s/it]"
     ]
    },
    {
     "name": "stdout",
     "output_type": "stream",
     "text": [
      "GCN loss on unlabled data: 0.6890352368354797\n",
      "GCN acc on unlabled data: 0.8028609745194457\n",
      "attack loss: 0.6476386785507202\n"
     ]
    },
    {
     "name": "stderr",
     "output_type": "stream",
     "text": [
      "Perturbing graph:   6%|▌         | 56/1013 [07:32<2:07:29,  7.99s/it]"
     ]
    },
    {
     "name": "stdout",
     "output_type": "stream",
     "text": [
      "GCN loss on unlabled data: 0.7038601040840149\n",
      "GCN acc on unlabled data: 0.7912382655341976\n",
      "attack loss: 0.6700015664100647\n"
     ]
    },
    {
     "name": "stderr",
     "output_type": "stream",
     "text": [
      "Perturbing graph:   6%|▌         | 57/1013 [07:40<2:06:57,  7.97s/it]"
     ]
    },
    {
     "name": "stdout",
     "output_type": "stream",
     "text": [
      "GCN loss on unlabled data: 0.7383043169975281\n",
      "GCN acc on unlabled data: 0.7952615109521681\n",
      "attack loss: 0.6923044323921204\n"
     ]
    },
    {
     "name": "stderr",
     "output_type": "stream",
     "text": [
      "Perturbing graph:   6%|▌         | 58/1013 [07:48<2:06:57,  7.98s/it]"
     ]
    },
    {
     "name": "stdout",
     "output_type": "stream",
     "text": [
      "GCN loss on unlabled data: 0.7767102122306824\n",
      "GCN acc on unlabled data: 0.7885561019222173\n",
      "attack loss: 0.7445900440216064\n"
     ]
    },
    {
     "name": "stderr",
     "output_type": "stream",
     "text": [
      "Perturbing graph:   6%|▌         | 59/1013 [07:56<2:06:43,  7.97s/it]"
     ]
    },
    {
     "name": "stdout",
     "output_type": "stream",
     "text": [
      "GCN loss on unlabled data: 0.761866569519043\n",
      "GCN acc on unlabled data: 0.7916852928028609\n",
      "attack loss: 0.7118284702301025\n"
     ]
    },
    {
     "name": "stderr",
     "output_type": "stream",
     "text": [
      "Perturbing graph:   6%|▌         | 60/1013 [08:04<2:06:27,  7.96s/it]"
     ]
    },
    {
     "name": "stdout",
     "output_type": "stream",
     "text": [
      "GCN loss on unlabled data: 0.7353032231330872\n",
      "GCN acc on unlabled data: 0.7939204291461779\n",
      "attack loss: 0.669226884841919\n"
     ]
    },
    {
     "name": "stderr",
     "output_type": "stream",
     "text": [
      "Perturbing graph:   6%|▌         | 61/1013 [08:12<2:06:20,  7.96s/it]"
     ]
    },
    {
     "name": "stdout",
     "output_type": "stream",
     "text": [
      "GCN loss on unlabled data: 0.7773066163063049\n",
      "GCN acc on unlabled data: 0.7840858292355833\n",
      "attack loss: 0.738220751285553\n"
     ]
    },
    {
     "name": "stderr",
     "output_type": "stream",
     "text": [
      "Perturbing graph:   6%|▌         | 62/1013 [08:20<2:06:37,  7.99s/it]"
     ]
    },
    {
     "name": "stdout",
     "output_type": "stream",
     "text": [
      "GCN loss on unlabled data: 0.8072777390480042\n",
      "GCN acc on unlabled data: 0.7903442109968708\n",
      "attack loss: 0.7688669562339783\n"
     ]
    },
    {
     "name": "stderr",
     "output_type": "stream",
     "text": [
      "Perturbing graph:   6%|▌         | 63/1013 [08:28<2:06:13,  7.97s/it]"
     ]
    },
    {
     "name": "stdout",
     "output_type": "stream",
     "text": [
      "GCN loss on unlabled data: 0.7301650643348694\n",
      "GCN acc on unlabled data: 0.7907912382655342\n",
      "attack loss: 0.6799662709236145\n"
     ]
    },
    {
     "name": "stderr",
     "output_type": "stream",
     "text": [
      "Perturbing graph:   6%|▋         | 64/1013 [08:36<2:05:47,  7.95s/it]"
     ]
    },
    {
     "name": "stdout",
     "output_type": "stream",
     "text": [
      "GCN loss on unlabled data: 0.7233675718307495\n",
      "GCN acc on unlabled data: 0.7858739383102369\n",
      "attack loss: 0.6502709984779358\n"
     ]
    },
    {
     "name": "stderr",
     "output_type": "stream",
     "text": [
      "Perturbing graph:   6%|▋         | 65/1013 [08:44<2:05:16,  7.93s/it]"
     ]
    },
    {
     "name": "stdout",
     "output_type": "stream",
     "text": [
      "GCN loss on unlabled data: 0.7725377082824707\n",
      "GCN acc on unlabled data: 0.7907912382655342\n",
      "attack loss: 0.7499775886535645\n"
     ]
    },
    {
     "name": "stderr",
     "output_type": "stream",
     "text": [
      "Perturbing graph:   7%|▋         | 66/1013 [08:52<2:05:13,  7.93s/it]"
     ]
    },
    {
     "name": "stdout",
     "output_type": "stream",
     "text": [
      "GCN loss on unlabled data: 0.7890689969062805\n",
      "GCN acc on unlabled data: 0.7939204291461779\n",
      "attack loss: 0.7696555852890015\n"
     ]
    },
    {
     "name": "stderr",
     "output_type": "stream",
     "text": [
      "Perturbing graph:   7%|▋         | 67/1013 [09:00<2:05:12,  7.94s/it]"
     ]
    },
    {
     "name": "stdout",
     "output_type": "stream",
     "text": [
      "GCN loss on unlabled data: 0.7933163046836853\n",
      "GCN acc on unlabled data: 0.7881090746535538\n",
      "attack loss: 0.7498591542243958\n"
     ]
    },
    {
     "name": "stderr",
     "output_type": "stream",
     "text": [
      "Perturbing graph:   7%|▋         | 68/1013 [09:08<2:05:09,  7.95s/it]"
     ]
    },
    {
     "name": "stdout",
     "output_type": "stream",
     "text": [
      "GCN loss on unlabled data: 0.8509459495544434\n",
      "GCN acc on unlabled data: 0.7836388019669199\n",
      "attack loss: 0.8348901271820068\n"
     ]
    },
    {
     "name": "stderr",
     "output_type": "stream",
     "text": [
      "Perturbing graph:   7%|▋         | 69/1013 [09:15<2:04:52,  7.94s/it]"
     ]
    },
    {
     "name": "stdout",
     "output_type": "stream",
     "text": [
      "GCN loss on unlabled data: 0.8121233582496643\n",
      "GCN acc on unlabled data: 0.7836388019669199\n",
      "attack loss: 0.7602022290229797\n"
     ]
    },
    {
     "name": "stderr",
     "output_type": "stream",
     "text": [
      "Perturbing graph:   7%|▋         | 70/1013 [09:23<2:04:56,  7.95s/it]"
     ]
    },
    {
     "name": "stdout",
     "output_type": "stream",
     "text": [
      "GCN loss on unlabled data: 0.8079995512962341\n",
      "GCN acc on unlabled data: 0.7881090746535538\n",
      "attack loss: 0.7513216733932495\n"
     ]
    },
    {
     "name": "stderr",
     "output_type": "stream",
     "text": [
      "Perturbing graph:   7%|▋         | 71/1013 [09:31<2:05:00,  7.96s/it]"
     ]
    },
    {
     "name": "stdout",
     "output_type": "stream",
     "text": [
      "GCN loss on unlabled data: 0.7825012803077698\n",
      "GCN acc on unlabled data: 0.7760393383996423\n",
      "attack loss: 0.7596805691719055\n"
     ]
    },
    {
     "name": "stderr",
     "output_type": "stream",
     "text": [
      "Perturbing graph:   7%|▋         | 72/1013 [09:39<2:04:48,  7.96s/it]"
     ]
    },
    {
     "name": "stdout",
     "output_type": "stream",
     "text": [
      "GCN loss on unlabled data: 0.7814808487892151\n",
      "GCN acc on unlabled data: 0.7907912382655342\n",
      "attack loss: 0.7353938221931458\n"
     ]
    },
    {
     "name": "stderr",
     "output_type": "stream",
     "text": [
      "Perturbing graph:   7%|▋         | 73/1013 [09:47<2:04:49,  7.97s/it]"
     ]
    },
    {
     "name": "stdout",
     "output_type": "stream",
     "text": [
      "GCN loss on unlabled data: 0.8070840835571289\n",
      "GCN acc on unlabled data: 0.7827447474295932\n",
      "attack loss: 0.740763247013092\n"
     ]
    },
    {
     "name": "stderr",
     "output_type": "stream",
     "text": [
      "Perturbing graph:   7%|▋         | 74/1013 [09:55<2:04:31,  7.96s/it]"
     ]
    },
    {
     "name": "stdout",
     "output_type": "stream",
     "text": [
      "GCN loss on unlabled data: 0.8068212270736694\n",
      "GCN acc on unlabled data: 0.7849798837729102\n",
      "attack loss: 0.7591026425361633\n"
     ]
    },
    {
     "name": "stderr",
     "output_type": "stream",
     "text": [
      "Perturbing graph:   7%|▋         | 75/1013 [10:03<2:04:13,  7.95s/it]"
     ]
    },
    {
     "name": "stdout",
     "output_type": "stream",
     "text": [
      "GCN loss on unlabled data: 0.8313465118408203\n",
      "GCN acc on unlabled data: 0.7778274474742959\n",
      "attack loss: 0.7859733700752258\n"
     ]
    },
    {
     "name": "stderr",
     "output_type": "stream",
     "text": [
      "Perturbing graph:   8%|▊         | 76/1013 [10:11<2:04:04,  7.95s/it]"
     ]
    },
    {
     "name": "stdout",
     "output_type": "stream",
     "text": [
      "GCN loss on unlabled data: 0.8578997254371643\n",
      "GCN acc on unlabled data: 0.7760393383996423\n",
      "attack loss: 0.8660996556282043\n"
     ]
    },
    {
     "name": "stderr",
     "output_type": "stream",
     "text": [
      "Perturbing graph:   8%|▊         | 77/1013 [10:19<2:03:56,  7.94s/it]"
     ]
    },
    {
     "name": "stdout",
     "output_type": "stream",
     "text": [
      "GCN loss on unlabled data: 0.8084556460380554\n",
      "GCN acc on unlabled data: 0.7894501564595441\n",
      "attack loss: 0.7762318849563599\n"
     ]
    },
    {
     "name": "stderr",
     "output_type": "stream",
     "text": [
      "Perturbing graph:   8%|▊         | 78/1013 [10:27<2:03:52,  7.95s/it]"
     ]
    },
    {
     "name": "stdout",
     "output_type": "stream",
     "text": [
      "GCN loss on unlabled data: 0.8070744872093201\n",
      "GCN acc on unlabled data: 0.7787215020116227\n",
      "attack loss: 0.7799203395843506\n"
     ]
    },
    {
     "name": "stderr",
     "output_type": "stream",
     "text": [
      "Perturbing graph:   8%|▊         | 79/1013 [10:35<2:03:32,  7.94s/it]"
     ]
    },
    {
     "name": "stdout",
     "output_type": "stream",
     "text": [
      "GCN loss on unlabled data: 0.8164724707603455\n",
      "GCN acc on unlabled data: 0.7822977201609298\n",
      "attack loss: 0.7924575209617615\n"
     ]
    },
    {
     "name": "stderr",
     "output_type": "stream",
     "text": [
      "Perturbing graph:   8%|▊         | 80/1013 [10:43<2:03:20,  7.93s/it]"
     ]
    },
    {
     "name": "stdout",
     "output_type": "stream",
     "text": [
      "GCN loss on unlabled data: 0.890628457069397\n",
      "GCN acc on unlabled data: 0.7800625838176128\n",
      "attack loss: 0.8489426970481873\n"
     ]
    },
    {
     "name": "stderr",
     "output_type": "stream",
     "text": [
      "Perturbing graph:   8%|▊         | 81/1013 [10:51<2:03:30,  7.95s/it]"
     ]
    },
    {
     "name": "stdout",
     "output_type": "stream",
     "text": [
      "GCN loss on unlabled data: 0.8606714010238647\n",
      "GCN acc on unlabled data: 0.7724631202503353\n",
      "attack loss: 0.8121520280838013\n"
     ]
    },
    {
     "name": "stderr",
     "output_type": "stream",
     "text": [
      "Perturbing graph:   8%|▊         | 82/1013 [10:59<2:03:23,  7.95s/it]"
     ]
    },
    {
     "name": "stdout",
     "output_type": "stream",
     "text": [
      "GCN loss on unlabled data: 0.8545816540718079\n",
      "GCN acc on unlabled data: 0.7711220384443451\n",
      "attack loss: 0.840212881565094\n"
     ]
    },
    {
     "name": "stderr",
     "output_type": "stream",
     "text": [
      "Perturbing graph:   8%|▊         | 83/1013 [11:07<2:03:24,  7.96s/it]"
     ]
    },
    {
     "name": "stdout",
     "output_type": "stream",
     "text": [
      "GCN loss on unlabled data: 0.8734456300735474\n",
      "GCN acc on unlabled data: 0.7662047384890478\n",
      "attack loss: 0.8315324783325195\n"
     ]
    },
    {
     "name": "stderr",
     "output_type": "stream",
     "text": [
      "Perturbing graph:   8%|▊         | 84/1013 [11:15<2:03:11,  7.96s/it]"
     ]
    },
    {
     "name": "stdout",
     "output_type": "stream",
     "text": [
      "GCN loss on unlabled data: 0.826273500919342\n",
      "GCN acc on unlabled data: 0.7720160929816718\n",
      "attack loss: 0.7855347990989685\n"
     ]
    },
    {
     "name": "stderr",
     "output_type": "stream",
     "text": [
      "Perturbing graph:   8%|▊         | 85/1013 [11:23<2:03:13,  7.97s/it]"
     ]
    },
    {
     "name": "stdout",
     "output_type": "stream",
     "text": [
      "GCN loss on unlabled data: 0.8735167384147644\n",
      "GCN acc on unlabled data: 0.7729101475189987\n",
      "attack loss: 0.836265504360199\n"
     ]
    },
    {
     "name": "stderr",
     "output_type": "stream",
     "text": [
      "Perturbing graph:   8%|▊         | 86/1013 [11:31<2:03:10,  7.97s/it]"
     ]
    },
    {
     "name": "stdout",
     "output_type": "stream",
     "text": [
      "GCN loss on unlabled data: 0.8246158957481384\n",
      "GCN acc on unlabled data: 0.7796155565489495\n",
      "attack loss: 0.781848132610321\n"
     ]
    },
    {
     "name": "stderr",
     "output_type": "stream",
     "text": [
      "Perturbing graph:   9%|▊         | 87/1013 [11:39<2:03:26,  8.00s/it]"
     ]
    },
    {
     "name": "stdout",
     "output_type": "stream",
     "text": [
      "GCN loss on unlabled data: 0.8443800210952759\n",
      "GCN acc on unlabled data: 0.775592311130979\n",
      "attack loss: 0.7951457500457764\n"
     ]
    },
    {
     "name": "stderr",
     "output_type": "stream",
     "text": [
      "Perturbing graph:   9%|▊         | 88/1013 [11:47<2:03:57,  8.04s/it]"
     ]
    },
    {
     "name": "stdout",
     "output_type": "stream",
     "text": [
      "GCN loss on unlabled data: 0.8623082041740417\n",
      "GCN acc on unlabled data: 0.7715690657130085\n",
      "attack loss: 0.8193472623825073\n"
     ]
    },
    {
     "name": "stderr",
     "output_type": "stream",
     "text": [
      "Perturbing graph:   9%|▉         | 89/1013 [11:55<2:04:24,  8.08s/it]"
     ]
    },
    {
     "name": "stdout",
     "output_type": "stream",
     "text": [
      "GCN loss on unlabled data: 0.8605303764343262\n",
      "GCN acc on unlabled data: 0.7858739383102369\n",
      "attack loss: 0.8418997526168823\n"
     ]
    },
    {
     "name": "stderr",
     "output_type": "stream",
     "text": [
      "Perturbing graph:   9%|▉         | 90/1013 [12:03<2:05:27,  8.16s/it]"
     ]
    },
    {
     "name": "stdout",
     "output_type": "stream",
     "text": [
      "GCN loss on unlabled data: 0.8773464560508728\n",
      "GCN acc on unlabled data: 0.7702279839070183\n",
      "attack loss: 0.8400974869728088\n"
     ]
    },
    {
     "name": "stderr",
     "output_type": "stream",
     "text": [
      "Perturbing graph:   9%|▉         | 91/1013 [12:12<2:05:11,  8.15s/it]"
     ]
    },
    {
     "name": "stdout",
     "output_type": "stream",
     "text": [
      "GCN loss on unlabled data: 0.8603144288063049\n",
      "GCN acc on unlabled data: 0.7827447474295932\n",
      "attack loss: 0.8268012404441833\n"
     ]
    },
    {
     "name": "stderr",
     "output_type": "stream",
     "text": [
      "Perturbing graph:   9%|▉         | 92/1013 [12:20<2:04:04,  8.08s/it]"
     ]
    },
    {
     "name": "stdout",
     "output_type": "stream",
     "text": [
      "GCN loss on unlabled data: 0.8655011057853699\n",
      "GCN acc on unlabled data: 0.7760393383996423\n",
      "attack loss: 0.8790530562400818\n"
     ]
    },
    {
     "name": "stderr",
     "output_type": "stream",
     "text": [
      "Perturbing graph:   9%|▉         | 93/1013 [12:27<2:03:17,  8.04s/it]"
     ]
    },
    {
     "name": "stdout",
     "output_type": "stream",
     "text": [
      "GCN loss on unlabled data: 0.8961423635482788\n",
      "GCN acc on unlabled data: 0.7742512293249888\n",
      "attack loss: 0.8686014413833618\n"
     ]
    },
    {
     "name": "stderr",
     "output_type": "stream",
     "text": [
      "Perturbing graph:   9%|▉         | 94/1013 [12:35<2:02:42,  8.01s/it]"
     ]
    },
    {
     "name": "stdout",
     "output_type": "stream",
     "text": [
      "GCN loss on unlabled data: 0.9021905064582825\n",
      "GCN acc on unlabled data: 0.7791685292802861\n",
      "attack loss: 0.8778402209281921\n"
     ]
    },
    {
     "name": "stderr",
     "output_type": "stream",
     "text": [
      "Perturbing graph:   9%|▉         | 95/1013 [12:43<2:02:20,  8.00s/it]"
     ]
    },
    {
     "name": "stdout",
     "output_type": "stream",
     "text": [
      "GCN loss on unlabled data: 0.8890630006790161\n",
      "GCN acc on unlabled data: 0.7738042020563254\n",
      "attack loss: 0.8619872331619263\n"
     ]
    },
    {
     "name": "stderr",
     "output_type": "stream",
     "text": [
      "Perturbing graph:   9%|▉         | 96/1013 [12:51<2:02:33,  8.02s/it]"
     ]
    },
    {
     "name": "stdout",
     "output_type": "stream",
     "text": [
      "GCN loss on unlabled data: 0.8971017599105835\n",
      "GCN acc on unlabled data: 0.7800625838176128\n",
      "attack loss: 0.8931071758270264\n"
     ]
    },
    {
     "name": "stderr",
     "output_type": "stream",
     "text": [
      "Perturbing graph:  10%|▉         | 97/1013 [13:00<2:03:27,  8.09s/it]"
     ]
    },
    {
     "name": "stdout",
     "output_type": "stream",
     "text": [
      "GCN loss on unlabled data: 0.8922811150550842\n",
      "GCN acc on unlabled data: 0.7688869021010282\n",
      "attack loss: 0.8629661202430725\n"
     ]
    },
    {
     "name": "stderr",
     "output_type": "stream",
     "text": [
      "Perturbing graph:  10%|▉         | 98/1013 [13:08<2:02:43,  8.05s/it]"
     ]
    },
    {
     "name": "stdout",
     "output_type": "stream",
     "text": [
      "GCN loss on unlabled data: 0.8924980759620667\n",
      "GCN acc on unlabled data: 0.7773804202056326\n",
      "attack loss: 0.8561736345291138\n"
     ]
    },
    {
     "name": "stderr",
     "output_type": "stream",
     "text": [
      "Perturbing graph:  10%|▉         | 99/1013 [13:16<2:02:16,  8.03s/it]"
     ]
    },
    {
     "name": "stdout",
     "output_type": "stream",
     "text": [
      "GCN loss on unlabled data: 0.9292389154434204\n",
      "GCN acc on unlabled data: 0.7693339293696916\n",
      "attack loss: 0.9257054924964905\n"
     ]
    },
    {
     "name": "stderr",
     "output_type": "stream",
     "text": [
      "Perturbing graph:  10%|▉         | 100/1013 [13:24<2:01:51,  8.01s/it]"
     ]
    },
    {
     "name": "stdout",
     "output_type": "stream",
     "text": [
      "GCN loss on unlabled data: 0.9134741425514221\n",
      "GCN acc on unlabled data: 0.7742512293249888\n",
      "attack loss: 0.9013946652412415\n"
     ]
    },
    {
     "name": "stderr",
     "output_type": "stream",
     "text": [
      "Perturbing graph:  10%|▉         | 101/1013 [13:32<2:01:13,  7.97s/it]"
     ]
    },
    {
     "name": "stdout",
     "output_type": "stream",
     "text": [
      "GCN loss on unlabled data: 0.9082595705986023\n",
      "GCN acc on unlabled data: 0.7742512293249888\n",
      "attack loss: 0.9197279214859009\n"
     ]
    },
    {
     "name": "stderr",
     "output_type": "stream",
     "text": [
      "Perturbing graph:  10%|█         | 102/1013 [13:39<2:00:31,  7.94s/it]"
     ]
    },
    {
     "name": "stdout",
     "output_type": "stream",
     "text": [
      "GCN loss on unlabled data: 0.936614453792572\n",
      "GCN acc on unlabled data: 0.7666517657577112\n",
      "attack loss: 0.9287695288658142\n"
     ]
    },
    {
     "name": "stderr",
     "output_type": "stream",
     "text": [
      "Perturbing graph:  10%|█         | 103/1013 [13:47<2:00:19,  7.93s/it]"
     ]
    },
    {
     "name": "stdout",
     "output_type": "stream",
     "text": [
      "GCN loss on unlabled data: 0.9668548107147217\n",
      "GCN acc on unlabled data: 0.7563701385784533\n",
      "attack loss: 0.9401653409004211\n"
     ]
    },
    {
     "name": "stderr",
     "output_type": "stream",
     "text": [
      "Perturbing graph:  10%|█         | 104/1013 [13:55<2:00:04,  7.93s/it]"
     ]
    },
    {
     "name": "stdout",
     "output_type": "stream",
     "text": [
      "GCN loss on unlabled data: 0.913579523563385\n",
      "GCN acc on unlabled data: 0.7644166294143943\n",
      "attack loss: 0.8920873403549194\n"
     ]
    },
    {
     "name": "stderr",
     "output_type": "stream",
     "text": [
      "Perturbing graph:  10%|█         | 105/1013 [14:03<1:59:39,  7.91s/it]"
     ]
    },
    {
     "name": "stdout",
     "output_type": "stream",
     "text": [
      "GCN loss on unlabled data: 0.9072871208190918\n",
      "GCN acc on unlabled data: 0.7742512293249888\n",
      "attack loss: 0.8871796727180481\n"
     ]
    },
    {
     "name": "stderr",
     "output_type": "stream",
     "text": [
      "Perturbing graph:  10%|█         | 106/1013 [14:11<1:59:29,  7.90s/it]"
     ]
    },
    {
     "name": "stdout",
     "output_type": "stream",
     "text": [
      "GCN loss on unlabled data: 0.9932411313056946\n",
      "GCN acc on unlabled data: 0.7653106839517211\n",
      "attack loss: 0.9665949940681458\n"
     ]
    },
    {
     "name": "stderr",
     "output_type": "stream",
     "text": [
      "Perturbing graph:  11%|█         | 107/1013 [14:19<1:59:24,  7.91s/it]"
     ]
    },
    {
     "name": "stdout",
     "output_type": "stream",
     "text": [
      "GCN loss on unlabled data: 0.9247581958770752\n",
      "GCN acc on unlabled data: 0.7670987930263746\n",
      "attack loss: 0.9004303812980652\n"
     ]
    },
    {
     "name": "stderr",
     "output_type": "stream",
     "text": [
      "Perturbing graph:  11%|█         | 108/1013 [14:27<1:59:25,  7.92s/it]"
     ]
    },
    {
     "name": "stdout",
     "output_type": "stream",
     "text": [
      "GCN loss on unlabled data: 0.9719707369804382\n",
      "GCN acc on unlabled data: 0.7657577112203845\n",
      "attack loss: 0.9745094180107117\n"
     ]
    },
    {
     "name": "stderr",
     "output_type": "stream",
     "text": [
      "Perturbing graph:  11%|█         | 109/1013 [14:35<1:59:30,  7.93s/it]"
     ]
    },
    {
     "name": "stdout",
     "output_type": "stream",
     "text": [
      "GCN loss on unlabled data: 1.0022846460342407\n",
      "GCN acc on unlabled data: 0.7572641931157801\n",
      "attack loss: 0.9936740398406982\n"
     ]
    },
    {
     "name": "stderr",
     "output_type": "stream",
     "text": [
      "Perturbing graph:  11%|█         | 110/1013 [14:43<1:59:22,  7.93s/it]"
     ]
    },
    {
     "name": "stdout",
     "output_type": "stream",
     "text": [
      "GCN loss on unlabled data: 0.9510446190834045\n",
      "GCN acc on unlabled data: 0.7612874385337506\n",
      "attack loss: 0.9338830709457397\n"
     ]
    },
    {
     "name": "stderr",
     "output_type": "stream",
     "text": [
      "Perturbing graph:  11%|█         | 111/1013 [14:51<1:59:12,  7.93s/it]"
     ]
    },
    {
     "name": "stdout",
     "output_type": "stream",
     "text": [
      "GCN loss on unlabled data: 1.0105029344558716\n",
      "GCN acc on unlabled data: 0.7639696021457308\n",
      "attack loss: 0.9975243210792542\n"
     ]
    },
    {
     "name": "stderr",
     "output_type": "stream",
     "text": [
      "Perturbing graph:  11%|█         | 112/1013 [14:59<1:59:03,  7.93s/it]"
     ]
    },
    {
     "name": "stdout",
     "output_type": "stream",
     "text": [
      "GCN loss on unlabled data: 0.9702160358428955\n",
      "GCN acc on unlabled data: 0.7626285203397407\n",
      "attack loss: 0.9718495011329651\n"
     ]
    },
    {
     "name": "stderr",
     "output_type": "stream",
     "text": [
      "Perturbing graph:  11%|█         | 113/1013 [15:06<1:58:57,  7.93s/it]"
     ]
    },
    {
     "name": "stdout",
     "output_type": "stream",
     "text": [
      "GCN loss on unlabled data: 0.9380714297294617\n",
      "GCN acc on unlabled data: 0.7662047384890478\n",
      "attack loss: 0.9193918108940125\n"
     ]
    },
    {
     "name": "stderr",
     "output_type": "stream",
     "text": [
      "Perturbing graph:  11%|█▏        | 114/1013 [15:14<1:58:53,  7.93s/it]"
     ]
    },
    {
     "name": "stdout",
     "output_type": "stream",
     "text": [
      "GCN loss on unlabled data: 0.9674863815307617\n",
      "GCN acc on unlabled data: 0.7581582476531068\n",
      "attack loss: 0.9468633532524109\n"
     ]
    },
    {
     "name": "stderr",
     "output_type": "stream",
     "text": [
      "Perturbing graph:  11%|█▏        | 115/1013 [15:22<1:58:54,  7.95s/it]"
     ]
    },
    {
     "name": "stdout",
     "output_type": "stream",
     "text": [
      "GCN loss on unlabled data: 0.986059308052063\n",
      "GCN acc on unlabled data: 0.759499329459097\n",
      "attack loss: 0.9677367806434631\n"
     ]
    },
    {
     "name": "stderr",
     "output_type": "stream",
     "text": [
      "Perturbing graph:  11%|█▏        | 116/1013 [15:30<1:58:41,  7.94s/it]"
     ]
    },
    {
     "name": "stdout",
     "output_type": "stream",
     "text": [
      "GCN loss on unlabled data: 0.9473816156387329\n",
      "GCN acc on unlabled data: 0.7653106839517211\n",
      "attack loss: 0.9044962525367737\n"
     ]
    },
    {
     "name": "stderr",
     "output_type": "stream",
     "text": [
      "Perturbing graph:  12%|█▏        | 117/1013 [15:38<1:58:18,  7.92s/it]"
     ]
    },
    {
     "name": "stdout",
     "output_type": "stream",
     "text": [
      "GCN loss on unlabled data: 0.9727880954742432\n",
      "GCN acc on unlabled data: 0.7603933839964238\n",
      "attack loss: 0.9718421101570129\n"
     ]
    },
    {
     "name": "stderr",
     "output_type": "stream",
     "text": [
      "Perturbing graph:  12%|█▏        | 118/1013 [15:46<1:58:13,  7.93s/it]"
     ]
    },
    {
     "name": "stdout",
     "output_type": "stream",
     "text": [
      "GCN loss on unlabled data: 1.0544066429138184\n",
      "GCN acc on unlabled data: 0.7621814930710773\n",
      "attack loss: 1.0810699462890625\n"
     ]
    },
    {
     "name": "stderr",
     "output_type": "stream",
     "text": [
      "Perturbing graph:  12%|█▏        | 119/1013 [15:54<1:58:12,  7.93s/it]"
     ]
    },
    {
     "name": "stdout",
     "output_type": "stream",
     "text": [
      "GCN loss on unlabled data: 0.9608306288719177\n",
      "GCN acc on unlabled data: 0.7541350022351363\n",
      "attack loss: 0.9419234395027161\n"
     ]
    },
    {
     "name": "stderr",
     "output_type": "stream",
     "text": [
      "Perturbing graph:  12%|█▏        | 120/1013 [16:02<1:58:08,  7.94s/it]"
     ]
    },
    {
     "name": "stdout",
     "output_type": "stream",
     "text": [
      "GCN loss on unlabled data: 1.0005595684051514\n",
      "GCN acc on unlabled data: 0.7523468931604828\n",
      "attack loss: 0.9904713034629822\n"
     ]
    },
    {
     "name": "stderr",
     "output_type": "stream",
     "text": [
      "Perturbing graph:  12%|█▏        | 121/1013 [16:10<1:58:05,  7.94s/it]"
     ]
    },
    {
     "name": "stdout",
     "output_type": "stream",
     "text": [
      "GCN loss on unlabled data: 1.013251543045044\n",
      "GCN acc on unlabled data: 0.753687974966473\n",
      "attack loss: 0.9978153109550476\n"
     ]
    },
    {
     "name": "stderr",
     "output_type": "stream",
     "text": [
      "Perturbing graph:  12%|█▏        | 122/1013 [16:18<1:58:36,  7.99s/it]"
     ]
    },
    {
     "name": "stdout",
     "output_type": "stream",
     "text": [
      "GCN loss on unlabled data: 1.0368037223815918\n",
      "GCN acc on unlabled data: 0.7572641931157801\n",
      "attack loss: 1.0160918235778809\n"
     ]
    },
    {
     "name": "stderr",
     "output_type": "stream",
     "text": [
      "Perturbing graph:  12%|█▏        | 123/1013 [16:26<1:59:21,  8.05s/it]"
     ]
    },
    {
     "name": "stdout",
     "output_type": "stream",
     "text": [
      "GCN loss on unlabled data: 0.9500102400779724\n",
      "GCN acc on unlabled data: 0.761734465802414\n",
      "attack loss: 0.9514308571815491\n"
     ]
    },
    {
     "name": "stderr",
     "output_type": "stream",
     "text": [
      "Perturbing graph:  12%|█▏        | 124/1013 [16:34<1:58:34,  8.00s/it]"
     ]
    },
    {
     "name": "stdout",
     "output_type": "stream",
     "text": [
      "GCN loss on unlabled data: 0.9815918803215027\n",
      "GCN acc on unlabled data: 0.767545820295038\n",
      "attack loss: 0.9937882423400879\n"
     ]
    },
    {
     "name": "stderr",
     "output_type": "stream",
     "text": [
      "Perturbing graph:  12%|█▏        | 125/1013 [16:42<1:58:02,  7.98s/it]"
     ]
    },
    {
     "name": "stdout",
     "output_type": "stream",
     "text": [
      "GCN loss on unlabled data: 0.969699501991272\n",
      "GCN acc on unlabled data: 0.7679928475637013\n",
      "attack loss: 0.9716005921363831\n"
     ]
    },
    {
     "name": "stderr",
     "output_type": "stream",
     "text": [
      "Perturbing graph:  12%|█▏        | 126/1013 [16:50<1:57:43,  7.96s/it]"
     ]
    },
    {
     "name": "stdout",
     "output_type": "stream",
     "text": [
      "GCN loss on unlabled data: 1.0119500160217285\n",
      "GCN acc on unlabled data: 0.7465355386678587\n",
      "attack loss: 0.9865809082984924\n"
     ]
    },
    {
     "name": "stderr",
     "output_type": "stream",
     "text": [
      "Perturbing graph:  13%|█▎        | 127/1013 [16:58<1:57:17,  7.94s/it]"
     ]
    },
    {
     "name": "stdout",
     "output_type": "stream",
     "text": [
      "GCN loss on unlabled data: 1.03069269657135\n",
      "GCN acc on unlabled data: 0.7639696021457308\n",
      "attack loss: 1.0453801155090332\n"
     ]
    },
    {
     "name": "stderr",
     "output_type": "stream",
     "text": [
      "Perturbing graph:  13%|█▎        | 128/1013 [17:06<1:57:06,  7.94s/it]"
     ]
    },
    {
     "name": "stdout",
     "output_type": "stream",
     "text": [
      "GCN loss on unlabled data: 1.1159882545471191\n",
      "GCN acc on unlabled data: 0.7492177022798391\n",
      "attack loss: 1.1270052194595337\n"
     ]
    },
    {
     "name": "stderr",
     "output_type": "stream",
     "text": [
      "Perturbing graph:  13%|█▎        | 129/1013 [17:14<1:56:38,  7.92s/it]"
     ]
    },
    {
     "name": "stdout",
     "output_type": "stream",
     "text": [
      "GCN loss on unlabled data: 1.0033644437789917\n",
      "GCN acc on unlabled data: 0.75592311130979\n",
      "attack loss: 0.9822222590446472\n"
     ]
    },
    {
     "name": "stderr",
     "output_type": "stream",
     "text": [
      "Perturbing graph:  13%|█▎        | 130/1013 [17:22<1:56:18,  7.90s/it]"
     ]
    },
    {
     "name": "stdout",
     "output_type": "stream",
     "text": [
      "GCN loss on unlabled data: 1.0321111679077148\n",
      "GCN acc on unlabled data: 0.7460885113991953\n",
      "attack loss: 1.0071873664855957\n"
     ]
    },
    {
     "name": "stderr",
     "output_type": "stream",
     "text": [
      "Perturbing graph:  13%|█▎        | 131/1013 [17:29<1:56:09,  7.90s/it]"
     ]
    },
    {
     "name": "stdout",
     "output_type": "stream",
     "text": [
      "GCN loss on unlabled data: 1.0518074035644531\n",
      "GCN acc on unlabled data: 0.753687974966473\n",
      "attack loss: 1.028444766998291\n"
     ]
    },
    {
     "name": "stderr",
     "output_type": "stream",
     "text": [
      "Perturbing graph:  13%|█▎        | 132/1013 [17:37<1:56:19,  7.92s/it]"
     ]
    },
    {
     "name": "stdout",
     "output_type": "stream",
     "text": [
      "GCN loss on unlabled data: 1.0180447101593018\n",
      "GCN acc on unlabled data: 0.7612874385337506\n",
      "attack loss: 1.0106253623962402\n"
     ]
    },
    {
     "name": "stderr",
     "output_type": "stream",
     "text": [
      "Perturbing graph:  13%|█▎        | 133/1013 [17:46<1:57:04,  7.98s/it]"
     ]
    },
    {
     "name": "stdout",
     "output_type": "stream",
     "text": [
      "GCN loss on unlabled data: 1.0221558809280396\n",
      "GCN acc on unlabled data: 0.7599463567277603\n",
      "attack loss: 1.0208228826522827\n"
     ]
    },
    {
     "name": "stderr",
     "output_type": "stream",
     "text": [
      "Perturbing graph:  13%|█▎        | 134/1013 [17:54<1:56:56,  7.98s/it]"
     ]
    },
    {
     "name": "stdout",
     "output_type": "stream",
     "text": [
      "GCN loss on unlabled data: 1.0622594356536865\n",
      "GCN acc on unlabled data: 0.7541350022351363\n",
      "attack loss: 1.0532777309417725\n"
     ]
    },
    {
     "name": "stderr",
     "output_type": "stream",
     "text": [
      "Perturbing graph:  13%|█▎        | 135/1013 [18:02<1:56:51,  7.99s/it]"
     ]
    },
    {
     "name": "stdout",
     "output_type": "stream",
     "text": [
      "GCN loss on unlabled data: 1.0746978521347046\n",
      "GCN acc on unlabled data: 0.7523468931604828\n",
      "attack loss: 1.0419830083847046\n"
     ]
    },
    {
     "name": "stderr",
     "output_type": "stream",
     "text": [
      "Perturbing graph:  13%|█▎        | 136/1013 [18:10<1:57:06,  8.01s/it]"
     ]
    },
    {
     "name": "stdout",
     "output_type": "stream",
     "text": [
      "GCN loss on unlabled data: 1.0695819854736328\n",
      "GCN acc on unlabled data: 0.7541350022351363\n",
      "attack loss: 1.0621843338012695\n"
     ]
    },
    {
     "name": "stderr",
     "output_type": "stream",
     "text": [
      "Perturbing graph:  14%|█▎        | 137/1013 [18:18<1:58:05,  8.09s/it]"
     ]
    },
    {
     "name": "stdout",
     "output_type": "stream",
     "text": [
      "GCN loss on unlabled data: 1.052012324333191\n",
      "GCN acc on unlabled data: 0.7630755476084041\n",
      "attack loss: 1.041058897972107\n"
     ]
    },
    {
     "name": "stderr",
     "output_type": "stream",
     "text": [
      "Perturbing graph:  14%|█▎        | 138/1013 [18:26<1:57:15,  8.04s/it]"
     ]
    },
    {
     "name": "stdout",
     "output_type": "stream",
     "text": [
      "GCN loss on unlabled data: 1.0615017414093018\n",
      "GCN acc on unlabled data: 0.7626285203397407\n",
      "attack loss: 1.0652059316635132\n"
     ]
    },
    {
     "name": "stderr",
     "output_type": "stream",
     "text": [
      "Perturbing graph:  14%|█▎        | 139/1013 [18:34<1:58:07,  8.11s/it]"
     ]
    },
    {
     "name": "stdout",
     "output_type": "stream",
     "text": [
      "GCN loss on unlabled data: 1.0640255212783813\n",
      "GCN acc on unlabled data: 0.7518998658918195\n",
      "attack loss: 1.070299744606018\n"
     ]
    },
    {
     "name": "stderr",
     "output_type": "stream",
     "text": [
      "Perturbing graph:  14%|█▍        | 140/1013 [18:42<1:58:02,  8.11s/it]"
     ]
    },
    {
     "name": "stdout",
     "output_type": "stream",
     "text": [
      "GCN loss on unlabled data: 1.0614285469055176\n",
      "GCN acc on unlabled data: 0.7666517657577112\n",
      "attack loss: 1.0754671096801758\n"
     ]
    },
    {
     "name": "stderr",
     "output_type": "stream",
     "text": [
      "Perturbing graph:  14%|█▍        | 141/1013 [18:51<1:59:34,  8.23s/it]"
     ]
    },
    {
     "name": "stdout",
     "output_type": "stream",
     "text": [
      "GCN loss on unlabled data: 1.1353130340576172\n",
      "GCN acc on unlabled data: 0.751452838623156\n",
      "attack loss: 1.1482908725738525\n"
     ]
    },
    {
     "name": "stderr",
     "output_type": "stream",
     "text": [
      "Perturbing graph:  14%|█▍        | 142/1013 [18:59<2:00:14,  8.28s/it]"
     ]
    },
    {
     "name": "stdout",
     "output_type": "stream",
     "text": [
      "GCN loss on unlabled data: 1.0268224477767944\n",
      "GCN acc on unlabled data: 0.7635225748770675\n",
      "attack loss: 1.0495836734771729\n"
     ]
    },
    {
     "name": "stderr",
     "output_type": "stream",
     "text": [
      "Perturbing graph:  14%|█▍        | 143/1013 [19:08<2:02:11,  8.43s/it]"
     ]
    },
    {
     "name": "stdout",
     "output_type": "stream",
     "text": [
      "GCN loss on unlabled data: 1.0386356115341187\n",
      "GCN acc on unlabled data: 0.7586052749217702\n",
      "attack loss: 1.0538297891616821\n"
     ]
    },
    {
     "name": "stderr",
     "output_type": "stream",
     "text": [
      "Perturbing graph:  14%|█▍        | 144/1013 [19:16<2:01:44,  8.41s/it]"
     ]
    },
    {
     "name": "stdout",
     "output_type": "stream",
     "text": [
      "GCN loss on unlabled data: 1.0071327686309814\n",
      "GCN acc on unlabled data: 0.7541350022351363\n",
      "attack loss: 0.9861049652099609\n"
     ]
    },
    {
     "name": "stderr",
     "output_type": "stream",
     "text": [
      "Perturbing graph:  14%|█▍        | 145/1013 [19:25<2:01:45,  8.42s/it]"
     ]
    },
    {
     "name": "stdout",
     "output_type": "stream",
     "text": [
      "GCN loss on unlabled data: 1.075314998626709\n",
      "GCN acc on unlabled data: 0.7635225748770675\n",
      "attack loss: 1.091790795326233\n"
     ]
    },
    {
     "name": "stderr",
     "output_type": "stream",
     "text": [
      "Perturbing graph:  14%|█▍        | 146/1013 [19:33<1:59:24,  8.26s/it]"
     ]
    },
    {
     "name": "stdout",
     "output_type": "stream",
     "text": [
      "GCN loss on unlabled data: 0.9850063323974609\n",
      "GCN acc on unlabled data: 0.7532409476978096\n",
      "attack loss: 0.9820741415023804\n"
     ]
    },
    {
     "name": "stderr",
     "output_type": "stream",
     "text": [
      "Perturbing graph:  15%|█▍        | 147/1013 [19:40<1:57:32,  8.14s/it]"
     ]
    },
    {
     "name": "stdout",
     "output_type": "stream",
     "text": [
      "GCN loss on unlabled data: 1.108949899673462\n",
      "GCN acc on unlabled data: 0.7532409476978096\n",
      "attack loss: 1.1261850595474243\n"
     ]
    },
    {
     "name": "stderr",
     "output_type": "stream",
     "text": [
      "Perturbing graph:  15%|█▍        | 148/1013 [19:48<1:56:34,  8.09s/it]"
     ]
    },
    {
     "name": "stdout",
     "output_type": "stream",
     "text": [
      "GCN loss on unlabled data: 1.0314265489578247\n",
      "GCN acc on unlabled data: 0.7657577112203845\n",
      "attack loss: 1.0398845672607422\n"
     ]
    },
    {
     "name": "stderr",
     "output_type": "stream",
     "text": [
      "Perturbing graph:  15%|█▍        | 149/1013 [19:56<1:53:26,  7.88s/it]"
     ]
    },
    {
     "name": "stdout",
     "output_type": "stream",
     "text": [
      "GCN loss on unlabled data: 1.1034380197525024\n",
      "GCN acc on unlabled data: 0.75592311130979\n",
      "attack loss: 1.1207659244537354\n"
     ]
    },
    {
     "name": "stderr",
     "output_type": "stream",
     "text": [
      "Perturbing graph:  15%|█▍        | 150/1013 [20:03<1:52:23,  7.81s/it]"
     ]
    },
    {
     "name": "stdout",
     "output_type": "stream",
     "text": [
      "GCN loss on unlabled data: 1.0867441892623901\n",
      "GCN acc on unlabled data: 0.7554760840411265\n",
      "attack loss: 1.0909929275512695\n"
     ]
    },
    {
     "name": "stderr",
     "output_type": "stream",
     "text": [
      "Perturbing graph:  15%|█▍        | 151/1013 [20:12<1:53:27,  7.90s/it]"
     ]
    },
    {
     "name": "stdout",
     "output_type": "stream",
     "text": [
      "GCN loss on unlabled data: 1.1070663928985596\n",
      "GCN acc on unlabled data: 0.7505587840858292\n",
      "attack loss: 1.1131001710891724\n"
     ]
    },
    {
     "name": "stderr",
     "output_type": "stream",
     "text": [
      "Perturbing graph:  15%|█▌        | 152/1013 [20:20<1:54:03,  7.95s/it]"
     ]
    },
    {
     "name": "stdout",
     "output_type": "stream",
     "text": [
      "GCN loss on unlabled data: 1.0940508842468262\n",
      "GCN acc on unlabled data: 0.7550290567724631\n",
      "attack loss: 1.0942175388336182\n"
     ]
    },
    {
     "name": "stderr",
     "output_type": "stream",
     "text": [
      "Perturbing graph:  15%|█▌        | 153/1013 [20:27<1:53:06,  7.89s/it]"
     ]
    },
    {
     "name": "stdout",
     "output_type": "stream",
     "text": [
      "GCN loss on unlabled data: 1.1239789724349976\n",
      "GCN acc on unlabled data: 0.7518998658918195\n",
      "attack loss: 1.1504207849502563\n"
     ]
    },
    {
     "name": "stderr",
     "output_type": "stream",
     "text": [
      "Perturbing graph:  15%|█▌        | 154/1013 [20:35<1:51:28,  7.79s/it]"
     ]
    },
    {
     "name": "stdout",
     "output_type": "stream",
     "text": [
      "GCN loss on unlabled data: 1.044603705406189\n",
      "GCN acc on unlabled data: 0.751452838623156\n",
      "attack loss: 1.0516912937164307\n"
     ]
    },
    {
     "name": "stderr",
     "output_type": "stream",
     "text": [
      "Perturbing graph:  15%|█▌        | 155/1013 [20:43<1:51:26,  7.79s/it]"
     ]
    },
    {
     "name": "stdout",
     "output_type": "stream",
     "text": [
      "GCN loss on unlabled data: 1.158700704574585\n",
      "GCN acc on unlabled data: 0.7581582476531068\n",
      "attack loss: 1.188683032989502\n"
     ]
    },
    {
     "name": "stderr",
     "output_type": "stream",
     "text": [
      "Perturbing graph:  15%|█▌        | 156/1013 [20:50<1:50:53,  7.76s/it]"
     ]
    },
    {
     "name": "stdout",
     "output_type": "stream",
     "text": [
      "GCN loss on unlabled data: 1.1511510610580444\n",
      "GCN acc on unlabled data: 0.7527939204291462\n",
      "attack loss: 1.1527409553527832\n"
     ]
    },
    {
     "name": "stderr",
     "output_type": "stream",
     "text": [
      "Perturbing graph:  15%|█▌        | 157/1013 [20:58<1:49:16,  7.66s/it]"
     ]
    },
    {
     "name": "stdout",
     "output_type": "stream",
     "text": [
      "GCN loss on unlabled data: 1.1421434879302979\n",
      "GCN acc on unlabled data: 0.7518998658918195\n",
      "attack loss: 1.1452784538269043\n"
     ]
    },
    {
     "name": "stderr",
     "output_type": "stream",
     "text": [
      "Perturbing graph:  16%|█▌        | 158/1013 [21:06<1:51:17,  7.81s/it]"
     ]
    },
    {
     "name": "stdout",
     "output_type": "stream",
     "text": [
      "GCN loss on unlabled data: 1.083604097366333\n",
      "GCN acc on unlabled data: 0.7545820295037997\n",
      "attack loss: 1.0956178903579712\n"
     ]
    },
    {
     "name": "stderr",
     "output_type": "stream",
     "text": [
      "Perturbing graph:  16%|█▌        | 159/1013 [21:14<1:50:20,  7.75s/it]"
     ]
    },
    {
     "name": "stdout",
     "output_type": "stream",
     "text": [
      "GCN loss on unlabled data: 1.1285232305526733\n",
      "GCN acc on unlabled data: 0.7563701385784533\n",
      "attack loss: 1.1538429260253906\n"
     ]
    },
    {
     "name": "stderr",
     "output_type": "stream",
     "text": [
      "Perturbing graph:  16%|█▌        | 160/1013 [21:21<1:49:16,  7.69s/it]"
     ]
    },
    {
     "name": "stdout",
     "output_type": "stream",
     "text": [
      "GCN loss on unlabled data: 1.175865888595581\n",
      "GCN acc on unlabled data: 0.7407241841752347\n",
      "attack loss: 1.1817841529846191\n"
     ]
    },
    {
     "name": "stderr",
     "output_type": "stream",
     "text": [
      "Perturbing graph:  16%|█▌        | 161/1013 [21:29<1:50:38,  7.79s/it]"
     ]
    },
    {
     "name": "stdout",
     "output_type": "stream",
     "text": [
      "GCN loss on unlabled data: 1.153525710105896\n",
      "GCN acc on unlabled data: 0.7550290567724631\n",
      "attack loss: 1.155232548713684\n"
     ]
    },
    {
     "name": "stderr",
     "output_type": "stream",
     "text": [
      "Perturbing graph:  16%|█▌        | 162/1013 [21:37<1:49:00,  7.69s/it]"
     ]
    },
    {
     "name": "stdout",
     "output_type": "stream",
     "text": [
      "GCN loss on unlabled data: 1.138964056968689\n",
      "GCN acc on unlabled data: 0.7496647295485025\n",
      "attack loss: 1.1451594829559326\n"
     ]
    },
    {
     "name": "stderr",
     "output_type": "stream",
     "text": [
      "Perturbing graph:  16%|█▌        | 163/1013 [21:44<1:48:27,  7.66s/it]"
     ]
    },
    {
     "name": "stdout",
     "output_type": "stream",
     "text": [
      "GCN loss on unlabled data: 1.234471082687378\n",
      "GCN acc on unlabled data: 0.737594993294591\n",
      "attack loss: 1.2451218366622925\n"
     ]
    },
    {
     "name": "stderr",
     "output_type": "stream",
     "text": [
      "Perturbing graph:  16%|█▌        | 164/1013 [21:52<1:48:25,  7.66s/it]"
     ]
    },
    {
     "name": "stdout",
     "output_type": "stream",
     "text": [
      "GCN loss on unlabled data: 1.1190741062164307\n",
      "GCN acc on unlabled data: 0.7657577112203845\n",
      "attack loss: 1.160154104232788\n"
     ]
    },
    {
     "name": "stderr",
     "output_type": "stream",
     "text": [
      "Perturbing graph:  16%|█▋        | 165/1013 [22:00<1:49:40,  7.76s/it]"
     ]
    },
    {
     "name": "stdout",
     "output_type": "stream",
     "text": [
      "GCN loss on unlabled data: 1.1603460311889648\n",
      "GCN acc on unlabled data: 0.7612874385337506\n",
      "attack loss: 1.1828665733337402\n"
     ]
    },
    {
     "name": "stderr",
     "output_type": "stream",
     "text": [
      "Perturbing graph:  16%|█▋        | 166/1013 [22:08<1:51:04,  7.87s/it]"
     ]
    },
    {
     "name": "stdout",
     "output_type": "stream",
     "text": [
      "GCN loss on unlabled data: 1.1017383337020874\n",
      "GCN acc on unlabled data: 0.7563701385784533\n",
      "attack loss: 1.1159747838974\n"
     ]
    },
    {
     "name": "stderr",
     "output_type": "stream",
     "text": [
      "Perturbing graph:  16%|█▋        | 167/1013 [22:16<1:52:09,  7.95s/it]"
     ]
    },
    {
     "name": "stdout",
     "output_type": "stream",
     "text": [
      "GCN loss on unlabled data: 1.1538485288619995\n",
      "GCN acc on unlabled data: 0.7532409476978096\n",
      "attack loss: 1.1497102975845337\n"
     ]
    },
    {
     "name": "stderr",
     "output_type": "stream",
     "text": [
      "Perturbing graph:  17%|█▋        | 168/1013 [22:24<1:51:29,  7.92s/it]"
     ]
    },
    {
     "name": "stdout",
     "output_type": "stream",
     "text": [
      "GCN loss on unlabled data: 1.1433751583099365\n",
      "GCN acc on unlabled data: 0.7483236477425123\n",
      "attack loss: 1.1756912469863892\n"
     ]
    },
    {
     "name": "stderr",
     "output_type": "stream",
     "text": [
      "Perturbing graph:  17%|█▋        | 169/1013 [22:32<1:51:34,  7.93s/it]"
     ]
    },
    {
     "name": "stdout",
     "output_type": "stream",
     "text": [
      "GCN loss on unlabled data: 1.1048575639724731\n",
      "GCN acc on unlabled data: 0.7496647295485025\n",
      "attack loss: 1.1492646932601929\n"
     ]
    },
    {
     "name": "stderr",
     "output_type": "stream",
     "text": [
      "Perturbing graph:  17%|█▋        | 170/1013 [22:40<1:50:52,  7.89s/it]"
     ]
    },
    {
     "name": "stdout",
     "output_type": "stream",
     "text": [
      "GCN loss on unlabled data: 1.186280369758606\n",
      "GCN acc on unlabled data: 0.7393831023692445\n",
      "attack loss: 1.2217541933059692\n"
     ]
    },
    {
     "name": "stderr",
     "output_type": "stream",
     "text": [
      "Perturbing graph:  17%|█▋        | 171/1013 [22:48<1:50:25,  7.87s/it]"
     ]
    },
    {
     "name": "stdout",
     "output_type": "stream",
     "text": [
      "GCN loss on unlabled data: 1.1701455116271973\n",
      "GCN acc on unlabled data: 0.7469825659365221\n",
      "attack loss: 1.179816484451294\n"
     ]
    },
    {
     "name": "stderr",
     "output_type": "stream",
     "text": [
      "Perturbing graph:  17%|█▋        | 172/1013 [22:56<1:50:38,  7.89s/it]"
     ]
    },
    {
     "name": "stdout",
     "output_type": "stream",
     "text": [
      "GCN loss on unlabled data: 1.1085256338119507\n",
      "GCN acc on unlabled data: 0.7510058113544926\n",
      "attack loss: 1.1145446300506592\n"
     ]
    },
    {
     "name": "stderr",
     "output_type": "stream",
     "text": [
      "Perturbing graph:  17%|█▋        | 173/1013 [23:04<1:52:33,  8.04s/it]"
     ]
    },
    {
     "name": "stdout",
     "output_type": "stream",
     "text": [
      "GCN loss on unlabled data: 1.1686419248580933\n",
      "GCN acc on unlabled data: 0.745641484130532\n",
      "attack loss: 1.1879152059555054\n"
     ]
    },
    {
     "name": "stderr",
     "output_type": "stream",
     "text": [
      "Perturbing graph:  17%|█▋        | 174/1013 [23:12<1:53:39,  8.13s/it]"
     ]
    },
    {
     "name": "stdout",
     "output_type": "stream",
     "text": [
      "GCN loss on unlabled data: 1.1969449520111084\n",
      "GCN acc on unlabled data: 0.7541350022351363\n",
      "attack loss: 1.2320536375045776\n"
     ]
    },
    {
     "name": "stderr",
     "output_type": "stream",
     "text": [
      "Perturbing graph:  17%|█▋        | 175/1013 [23:22<1:58:19,  8.47s/it]"
     ]
    },
    {
     "name": "stdout",
     "output_type": "stream",
     "text": [
      "GCN loss on unlabled data: 1.1942319869995117\n",
      "GCN acc on unlabled data: 0.743406347787215\n",
      "attack loss: 1.2194863557815552\n"
     ]
    },
    {
     "name": "stderr",
     "output_type": "stream",
     "text": [
      "Perturbing graph:  17%|█▋        | 176/1013 [23:31<2:03:02,  8.82s/it]"
     ]
    },
    {
     "name": "stdout",
     "output_type": "stream",
     "text": [
      "GCN loss on unlabled data: 1.1384990215301514\n",
      "GCN acc on unlabled data: 0.7523468931604828\n",
      "attack loss: 1.1539942026138306\n"
     ]
    },
    {
     "name": "stderr",
     "output_type": "stream",
     "text": [
      "Perturbing graph:  17%|█▋        | 177/1013 [23:40<2:04:25,  8.93s/it]"
     ]
    },
    {
     "name": "stdout",
     "output_type": "stream",
     "text": [
      "GCN loss on unlabled data: 1.1554350852966309\n",
      "GCN acc on unlabled data: 0.7492177022798391\n",
      "attack loss: 1.168086051940918\n"
     ]
    },
    {
     "name": "stderr",
     "output_type": "stream",
     "text": [
      "Perturbing graph:  18%|█▊        | 178/1013 [23:49<2:03:16,  8.86s/it]"
     ]
    },
    {
     "name": "stdout",
     "output_type": "stream",
     "text": [
      "GCN loss on unlabled data: 1.143831491470337\n",
      "GCN acc on unlabled data: 0.7487706750111757\n",
      "attack loss: 1.1634747982025146\n"
     ]
    },
    {
     "name": "stderr",
     "output_type": "stream",
     "text": [
      "Perturbing graph:  18%|█▊        | 179/1013 [23:57<1:59:49,  8.62s/it]"
     ]
    },
    {
     "name": "stdout",
     "output_type": "stream",
     "text": [
      "GCN loss on unlabled data: 1.2909475564956665\n",
      "GCN acc on unlabled data: 0.7340187751452839\n",
      "attack loss: 1.3170889616012573\n"
     ]
    },
    {
     "name": "stderr",
     "output_type": "stream",
     "text": [
      "Perturbing graph:  18%|█▊        | 180/1013 [24:05<1:55:32,  8.32s/it]"
     ]
    },
    {
     "name": "stdout",
     "output_type": "stream",
     "text": [
      "GCN loss on unlabled data: 1.2489300966262817\n",
      "GCN acc on unlabled data: 0.7402771569065713\n",
      "attack loss: 1.285508155822754\n"
     ]
    },
    {
     "name": "stderr",
     "output_type": "stream",
     "text": [
      "Perturbing graph:  18%|█▊        | 181/1013 [24:12<1:52:59,  8.15s/it]"
     ]
    },
    {
     "name": "stdout",
     "output_type": "stream",
     "text": [
      "GCN loss on unlabled data: 1.1725399494171143\n",
      "GCN acc on unlabled data: 0.7518998658918195\n",
      "attack loss: 1.2144694328308105\n"
     ]
    },
    {
     "name": "stderr",
     "output_type": "stream",
     "text": [
      "Perturbing graph:  18%|█▊        | 182/1013 [24:20<1:50:56,  8.01s/it]"
     ]
    },
    {
     "name": "stdout",
     "output_type": "stream",
     "text": [
      "GCN loss on unlabled data: 1.1441543102264404\n",
      "GCN acc on unlabled data: 0.7496647295485025\n",
      "attack loss: 1.1798536777496338\n"
     ]
    },
    {
     "name": "stderr",
     "output_type": "stream",
     "text": [
      "Perturbing graph:  18%|█▊        | 183/1013 [24:30<1:57:23,  8.49s/it]"
     ]
    },
    {
     "name": "stdout",
     "output_type": "stream",
     "text": [
      "GCN loss on unlabled data: 1.1975691318511963\n",
      "GCN acc on unlabled data: 0.7460885113991953\n",
      "attack loss: 1.217363715171814\n"
     ]
    },
    {
     "name": "stderr",
     "output_type": "stream",
     "text": [
      "Perturbing graph:  18%|█▊        | 184/1013 [24:39<1:58:27,  8.57s/it]"
     ]
    },
    {
     "name": "stdout",
     "output_type": "stream",
     "text": [
      "GCN loss on unlabled data: 1.1703903675079346\n",
      "GCN acc on unlabled data: 0.7438533750558785\n",
      "attack loss: 1.218680739402771\n"
     ]
    },
    {
     "name": "stderr",
     "output_type": "stream",
     "text": [
      "Perturbing graph:  18%|█▊        | 185/1013 [24:47<1:56:18,  8.43s/it]"
     ]
    },
    {
     "name": "stdout",
     "output_type": "stream",
     "text": [
      "GCN loss on unlabled data: 1.2648428678512573\n",
      "GCN acc on unlabled data: 0.7389360751005811\n",
      "attack loss: 1.2995043992996216\n"
     ]
    },
    {
     "name": "stderr",
     "output_type": "stream",
     "text": [
      "Perturbing graph:  18%|█▊        | 186/1013 [24:55<1:55:44,  8.40s/it]"
     ]
    },
    {
     "name": "stdout",
     "output_type": "stream",
     "text": [
      "GCN loss on unlabled data: 1.2405306100845337\n",
      "GCN acc on unlabled data: 0.7425122932498882\n",
      "attack loss: 1.2722769975662231\n"
     ]
    },
    {
     "name": "stderr",
     "output_type": "stream",
     "text": [
      "Perturbing graph:  18%|█▊        | 187/1013 [25:03<1:55:20,  8.38s/it]"
     ]
    },
    {
     "name": "stdout",
     "output_type": "stream",
     "text": [
      "GCN loss on unlabled data: 1.169694423675537\n",
      "GCN acc on unlabled data: 0.7407241841752347\n",
      "attack loss: 1.1459780931472778\n"
     ]
    },
    {
     "name": "stderr",
     "output_type": "stream",
     "text": [
      "Perturbing graph:  19%|█▊        | 188/1013 [25:12<1:56:09,  8.45s/it]"
     ]
    },
    {
     "name": "stdout",
     "output_type": "stream",
     "text": [
      "GCN loss on unlabled data: 1.206335186958313\n",
      "GCN acc on unlabled data: 0.7344658024139472\n",
      "attack loss: 1.2325083017349243\n"
     ]
    },
    {
     "name": "stderr",
     "output_type": "stream",
     "text": [
      "Perturbing graph:  19%|█▊        | 189/1013 [25:21<1:56:57,  8.52s/it]"
     ]
    },
    {
     "name": "stdout",
     "output_type": "stream",
     "text": [
      "GCN loss on unlabled data: 1.2474089860916138\n",
      "GCN acc on unlabled data: 0.739830129637908\n",
      "attack loss: 1.2620999813079834\n"
     ]
    },
    {
     "name": "stderr",
     "output_type": "stream",
     "text": [
      "Perturbing graph:  19%|█▉        | 190/1013 [25:29<1:55:34,  8.43s/it]"
     ]
    },
    {
     "name": "stdout",
     "output_type": "stream",
     "text": [
      "GCN loss on unlabled data: 1.1641643047332764\n",
      "GCN acc on unlabled data: 0.7532409476978096\n",
      "attack loss: 1.206552267074585\n"
     ]
    },
    {
     "name": "stderr",
     "output_type": "stream",
     "text": [
      "Perturbing graph:  19%|█▉        | 191/1013 [25:37<1:55:03,  8.40s/it]"
     ]
    },
    {
     "name": "stdout",
     "output_type": "stream",
     "text": [
      "GCN loss on unlabled data: 1.145310878753662\n",
      "GCN acc on unlabled data: 0.743406347787215\n",
      "attack loss: 1.180463194847107\n"
     ]
    },
    {
     "name": "stderr",
     "output_type": "stream",
     "text": [
      "Perturbing graph:  19%|█▉        | 192/1013 [25:45<1:53:10,  8.27s/it]"
     ]
    },
    {
     "name": "stdout",
     "output_type": "stream",
     "text": [
      "GCN loss on unlabled data: 1.2305357456207275\n",
      "GCN acc on unlabled data: 0.743406347787215\n",
      "attack loss: 1.2787189483642578\n"
     ]
    },
    {
     "name": "stderr",
     "output_type": "stream",
     "text": [
      "Perturbing graph:  19%|█▉        | 193/1013 [25:53<1:51:52,  8.19s/it]"
     ]
    },
    {
     "name": "stdout",
     "output_type": "stream",
     "text": [
      "GCN loss on unlabled data: 1.2559765577316284\n",
      "GCN acc on unlabled data: 0.7393831023692445\n",
      "attack loss: 1.3007893562316895\n"
     ]
    },
    {
     "name": "stderr",
     "output_type": "stream",
     "text": [
      "Perturbing graph:  19%|█▉        | 194/1013 [26:01<1:49:00,  7.99s/it]"
     ]
    },
    {
     "name": "stdout",
     "output_type": "stream",
     "text": [
      "GCN loss on unlabled data: 1.1980797052383423\n",
      "GCN acc on unlabled data: 0.7358068842199375\n",
      "attack loss: 1.2578672170639038\n"
     ]
    },
    {
     "name": "stderr",
     "output_type": "stream",
     "text": [
      "Perturbing graph:  19%|█▉        | 195/1013 [26:08<1:47:15,  7.87s/it]"
     ]
    },
    {
     "name": "stdout",
     "output_type": "stream",
     "text": [
      "GCN loss on unlabled data: 1.2378084659576416\n",
      "GCN acc on unlabled data: 0.7384890478319177\n",
      "attack loss: 1.297346830368042\n"
     ]
    },
    {
     "name": "stderr",
     "output_type": "stream",
     "text": [
      "Perturbing graph:  19%|█▉        | 196/1013 [26:16<1:45:52,  7.78s/it]"
     ]
    },
    {
     "name": "stdout",
     "output_type": "stream",
     "text": [
      "GCN loss on unlabled data: 1.2465198040008545\n",
      "GCN acc on unlabled data: 0.7335717478766205\n",
      "attack loss: 1.2690906524658203\n"
     ]
    },
    {
     "name": "stderr",
     "output_type": "stream",
     "text": [
      "Perturbing graph:  19%|█▉        | 197/1013 [26:24<1:46:39,  7.84s/it]"
     ]
    },
    {
     "name": "stdout",
     "output_type": "stream",
     "text": [
      "GCN loss on unlabled data: 1.278160810470581\n",
      "GCN acc on unlabled data: 0.7344658024139472\n",
      "attack loss: 1.3192259073257446\n"
     ]
    },
    {
     "name": "stderr",
     "output_type": "stream",
     "text": [
      "Perturbing graph:  20%|█▉        | 198/1013 [26:32<1:49:33,  8.07s/it]"
     ]
    },
    {
     "name": "stdout",
     "output_type": "stream",
     "text": [
      "GCN loss on unlabled data: 1.3033527135849\n",
      "GCN acc on unlabled data: 0.7402771569065713\n",
      "attack loss: 1.3395774364471436\n"
     ]
    },
    {
     "name": "stderr",
     "output_type": "stream",
     "text": [
      "Perturbing graph:  20%|█▉        | 199/1013 [26:40<1:49:27,  8.07s/it]"
     ]
    },
    {
     "name": "stdout",
     "output_type": "stream",
     "text": [
      "GCN loss on unlabled data: 1.2876002788543701\n",
      "GCN acc on unlabled data: 0.731783638801967\n",
      "attack loss: 1.338036298751831\n"
     ]
    },
    {
     "name": "stderr",
     "output_type": "stream",
     "text": [
      "Perturbing graph:  20%|█▉        | 200/1013 [26:49<1:50:21,  8.14s/it]"
     ]
    },
    {
     "name": "stdout",
     "output_type": "stream",
     "text": [
      "GCN loss on unlabled data: 1.1658121347427368\n",
      "GCN acc on unlabled data: 0.7447474295932052\n",
      "attack loss: 1.216153621673584\n"
     ]
    },
    {
     "name": "stderr",
     "output_type": "stream",
     "text": [
      "Perturbing graph:  20%|█▉        | 201/1013 [26:57<1:52:10,  8.29s/it]"
     ]
    },
    {
     "name": "stdout",
     "output_type": "stream",
     "text": [
      "GCN loss on unlabled data: 1.1978442668914795\n",
      "GCN acc on unlabled data: 0.737594993294591\n",
      "attack loss: 1.220644474029541\n"
     ]
    },
    {
     "name": "stderr",
     "output_type": "stream",
     "text": [
      "Perturbing graph:  20%|█▉        | 202/1013 [27:06<1:52:44,  8.34s/it]"
     ]
    },
    {
     "name": "stdout",
     "output_type": "stream",
     "text": [
      "GCN loss on unlabled data: 1.1972874402999878\n",
      "GCN acc on unlabled data: 0.7425122932498882\n",
      "attack loss: 1.2463979721069336\n"
     ]
    },
    {
     "name": "stderr",
     "output_type": "stream",
     "text": [
      "Perturbing graph:  20%|██        | 203/1013 [27:14<1:53:54,  8.44s/it]"
     ]
    },
    {
     "name": "stdout",
     "output_type": "stream",
     "text": [
      "GCN loss on unlabled data: 1.2442158460617065\n",
      "GCN acc on unlabled data: 0.7371479660259276\n",
      "attack loss: 1.2669919729232788\n"
     ]
    },
    {
     "name": "stderr",
     "output_type": "stream",
     "text": [
      "Perturbing graph:  20%|██        | 204/1013 [27:23<1:52:54,  8.37s/it]"
     ]
    },
    {
     "name": "stdout",
     "output_type": "stream",
     "text": [
      "GCN loss on unlabled data: 1.2144383192062378\n",
      "GCN acc on unlabled data: 0.7416182387125615\n",
      "attack loss: 1.266607403755188\n"
     ]
    },
    {
     "name": "stderr",
     "output_type": "stream",
     "text": [
      "Perturbing graph:  20%|██        | 205/1013 [27:30<1:49:58,  8.17s/it]"
     ]
    },
    {
     "name": "stdout",
     "output_type": "stream",
     "text": [
      "GCN loss on unlabled data: 1.2596817016601562\n",
      "GCN acc on unlabled data: 0.7367009387572642\n",
      "attack loss: 1.3034350872039795\n"
     ]
    },
    {
     "name": "stderr",
     "output_type": "stream",
     "text": [
      "Perturbing graph:  20%|██        | 206/1013 [27:39<1:49:52,  8.17s/it]"
     ]
    },
    {
     "name": "stdout",
     "output_type": "stream",
     "text": [
      "GCN loss on unlabled data: 1.2285966873168945\n",
      "GCN acc on unlabled data: 0.7358068842199375\n",
      "attack loss: 1.2527399063110352\n"
     ]
    },
    {
     "name": "stderr",
     "output_type": "stream",
     "text": [
      "Perturbing graph:  20%|██        | 207/1013 [27:47<1:49:24,  8.14s/it]"
     ]
    },
    {
     "name": "stdout",
     "output_type": "stream",
     "text": [
      "GCN loss on unlabled data: 1.2830575704574585\n",
      "GCN acc on unlabled data: 0.7223960661600357\n",
      "attack loss: 1.3568648099899292\n"
     ]
    },
    {
     "name": "stderr",
     "output_type": "stream",
     "text": [
      "Perturbing graph:  21%|██        | 208/1013 [27:56<1:52:22,  8.38s/it]"
     ]
    },
    {
     "name": "stdout",
     "output_type": "stream",
     "text": [
      "GCN loss on unlabled data: 1.1919926404953003\n",
      "GCN acc on unlabled data: 0.7416182387125615\n",
      "attack loss: 1.2191894054412842\n"
     ]
    },
    {
     "name": "stderr",
     "output_type": "stream",
     "text": [
      "Perturbing graph:  21%|██        | 209/1013 [28:04<1:51:51,  8.35s/it]"
     ]
    },
    {
     "name": "stdout",
     "output_type": "stream",
     "text": [
      "GCN loss on unlabled data: 1.2891123294830322\n",
      "GCN acc on unlabled data: 0.7291014751899866\n",
      "attack loss: 1.336837887763977\n"
     ]
    },
    {
     "name": "stderr",
     "output_type": "stream",
     "text": [
      "Perturbing graph:  21%|██        | 210/1013 [28:12<1:50:47,  8.28s/it]"
     ]
    },
    {
     "name": "stdout",
     "output_type": "stream",
     "text": [
      "GCN loss on unlabled data: 1.2900216579437256\n",
      "GCN acc on unlabled data: 0.7358068842199375\n",
      "attack loss: 1.3355116844177246\n"
     ]
    },
    {
     "name": "stderr",
     "output_type": "stream",
     "text": [
      "Perturbing graph:  21%|██        | 211/1013 [28:21<1:53:44,  8.51s/it]"
     ]
    },
    {
     "name": "stdout",
     "output_type": "stream",
     "text": [
      "GCN loss on unlabled data: 1.2257813215255737\n",
      "GCN acc on unlabled data: 0.7367009387572642\n",
      "attack loss: 1.2834118604660034\n"
     ]
    },
    {
     "name": "stderr",
     "output_type": "stream",
     "text": [
      "Perturbing graph:  21%|██        | 212/1013 [28:30<1:55:36,  8.66s/it]"
     ]
    },
    {
     "name": "stdout",
     "output_type": "stream",
     "text": [
      "GCN loss on unlabled data: 1.2818677425384521\n",
      "GCN acc on unlabled data: 0.7438533750558785\n",
      "attack loss: 1.3511552810668945\n"
     ]
    },
    {
     "name": "stderr",
     "output_type": "stream",
     "text": [
      "Perturbing graph:  21%|██        | 213/1013 [28:39<1:55:17,  8.65s/it]"
     ]
    },
    {
     "name": "stdout",
     "output_type": "stream",
     "text": [
      "GCN loss on unlabled data: 1.3355847597122192\n",
      "GCN acc on unlabled data: 0.7264193115780062\n",
      "attack loss: 1.3792016506195068\n"
     ]
    },
    {
     "name": "stderr",
     "output_type": "stream",
     "text": [
      "Perturbing graph:  21%|██        | 214/1013 [28:47<1:56:01,  8.71s/it]"
     ]
    },
    {
     "name": "stdout",
     "output_type": "stream",
     "text": [
      "GCN loss on unlabled data: 1.3337241411209106\n",
      "GCN acc on unlabled data: 0.731783638801967\n",
      "attack loss: 1.4012283086776733\n"
     ]
    },
    {
     "name": "stderr",
     "output_type": "stream",
     "text": [
      "Perturbing graph:  21%|██        | 215/1013 [28:56<1:56:15,  8.74s/it]"
     ]
    },
    {
     "name": "stdout",
     "output_type": "stream",
     "text": [
      "GCN loss on unlabled data: 1.3073478937149048\n",
      "GCN acc on unlabled data: 0.7250782297720161\n",
      "attack loss: 1.343945026397705\n"
     ]
    },
    {
     "name": "stderr",
     "output_type": "stream",
     "text": [
      "Perturbing graph:  21%|██▏       | 216/1013 [29:05<1:56:44,  8.79s/it]"
     ]
    },
    {
     "name": "stdout",
     "output_type": "stream",
     "text": [
      "GCN loss on unlabled data: 1.2548145055770874\n",
      "GCN acc on unlabled data: 0.7326776933392937\n",
      "attack loss: 1.2837141752243042\n"
     ]
    },
    {
     "name": "stderr",
     "output_type": "stream",
     "text": [
      "Perturbing graph:  21%|██▏       | 217/1013 [29:14<1:55:47,  8.73s/it]"
     ]
    },
    {
     "name": "stdout",
     "output_type": "stream",
     "text": [
      "GCN loss on unlabled data: 1.2372024059295654\n",
      "GCN acc on unlabled data: 0.745641484130532\n",
      "attack loss: 1.2989014387130737\n"
     ]
    },
    {
     "name": "stderr",
     "output_type": "stream",
     "text": [
      "Perturbing graph:  22%|██▏       | 218/1013 [29:22<1:54:54,  8.67s/it]"
     ]
    },
    {
     "name": "stdout",
     "output_type": "stream",
     "text": [
      "GCN loss on unlabled data: 1.2151862382888794\n",
      "GCN acc on unlabled data: 0.7367009387572642\n",
      "attack loss: 1.290295124053955\n"
     ]
    },
    {
     "name": "stderr",
     "output_type": "stream",
     "text": [
      "Perturbing graph:  22%|██▏       | 219/1013 [29:30<1:49:45,  8.29s/it]"
     ]
    },
    {
     "name": "stdout",
     "output_type": "stream",
     "text": [
      "GCN loss on unlabled data: 1.326047420501709\n",
      "GCN acc on unlabled data: 0.7268663388466696\n",
      "attack loss: 1.3916621208190918\n"
     ]
    },
    {
     "name": "stderr",
     "output_type": "stream",
     "text": [
      "Perturbing graph:  22%|██▏       | 220/1013 [29:37<1:45:33,  7.99s/it]"
     ]
    },
    {
     "name": "stdout",
     "output_type": "stream",
     "text": [
      "GCN loss on unlabled data: 1.363474726676941\n",
      "GCN acc on unlabled data: 0.7286544479213232\n",
      "attack loss: 1.420775055885315\n"
     ]
    },
    {
     "name": "stderr",
     "output_type": "stream",
     "text": [
      "Perturbing graph:  22%|██▏       | 221/1013 [29:44<1:42:41,  7.78s/it]"
     ]
    },
    {
     "name": "stdout",
     "output_type": "stream",
     "text": [
      "GCN loss on unlabled data: 1.2774994373321533\n",
      "GCN acc on unlabled data: 0.7291014751899866\n",
      "attack loss: 1.321439504623413\n"
     ]
    },
    {
     "name": "stderr",
     "output_type": "stream",
     "text": [
      "Perturbing graph:  22%|██▏       | 222/1013 [29:52<1:40:55,  7.66s/it]"
     ]
    },
    {
     "name": "stdout",
     "output_type": "stream",
     "text": [
      "GCN loss on unlabled data: 1.3281011581420898\n",
      "GCN acc on unlabled data: 0.7241841752346894\n",
      "attack loss: 1.3851938247680664\n"
     ]
    },
    {
     "name": "stderr",
     "output_type": "stream",
     "text": [
      "Perturbing graph:  22%|██▏       | 223/1013 [29:59<1:39:27,  7.55s/it]"
     ]
    },
    {
     "name": "stdout",
     "output_type": "stream",
     "text": [
      "GCN loss on unlabled data: 1.2723281383514404\n",
      "GCN acc on unlabled data: 0.7393831023692445\n",
      "attack loss: 1.3392082452774048\n"
     ]
    },
    {
     "name": "stderr",
     "output_type": "stream",
     "text": [
      "Perturbing graph:  22%|██▏       | 224/1013 [30:07<1:43:00,  7.83s/it]"
     ]
    },
    {
     "name": "stdout",
     "output_type": "stream",
     "text": [
      "GCN loss on unlabled data: 1.3243889808654785\n",
      "GCN acc on unlabled data: 0.7201609298167189\n",
      "attack loss: 1.3933244943618774\n"
     ]
    },
    {
     "name": "stderr",
     "output_type": "stream",
     "text": [
      "Perturbing graph:  22%|██▏       | 225/1013 [30:16<1:43:54,  7.91s/it]"
     ]
    },
    {
     "name": "stdout",
     "output_type": "stream",
     "text": [
      "GCN loss on unlabled data: 1.3083555698394775\n",
      "GCN acc on unlabled data: 0.7286544479213232\n",
      "attack loss: 1.3799020051956177\n"
     ]
    },
    {
     "name": "stderr",
     "output_type": "stream",
     "text": [
      "Perturbing graph:  22%|██▏       | 226/1013 [30:24<1:45:17,  8.03s/it]"
     ]
    },
    {
     "name": "stdout",
     "output_type": "stream",
     "text": [
      "GCN loss on unlabled data: 1.3110017776489258\n",
      "GCN acc on unlabled data: 0.7277603933839965\n",
      "attack loss: 1.3907092809677124\n"
     ]
    },
    {
     "name": "stderr",
     "output_type": "stream",
     "text": [
      "Perturbing graph:  22%|██▏       | 227/1013 [30:32<1:45:35,  8.06s/it]"
     ]
    },
    {
     "name": "stdout",
     "output_type": "stream",
     "text": [
      "GCN loss on unlabled data: 1.308970332145691\n",
      "GCN acc on unlabled data: 0.7308895842646401\n",
      "attack loss: 1.3497449159622192\n"
     ]
    },
    {
     "name": "stderr",
     "output_type": "stream",
     "text": [
      "Perturbing graph:  23%|██▎       | 228/1013 [30:40<1:45:50,  8.09s/it]"
     ]
    },
    {
     "name": "stdout",
     "output_type": "stream",
     "text": [
      "GCN loss on unlabled data: 1.2960840463638306\n",
      "GCN acc on unlabled data: 0.7322306660706303\n",
      "attack loss: 1.3320655822753906\n"
     ]
    },
    {
     "name": "stderr",
     "output_type": "stream",
     "text": [
      "Perturbing graph:  23%|██▎       | 229/1013 [30:48<1:44:15,  7.98s/it]"
     ]
    },
    {
     "name": "stdout",
     "output_type": "stream",
     "text": [
      "GCN loss on unlabled data: 1.3563340902328491\n",
      "GCN acc on unlabled data: 0.7299955297273134\n",
      "attack loss: 1.419713020324707\n"
     ]
    },
    {
     "name": "stderr",
     "output_type": "stream",
     "text": [
      "Perturbing graph:  23%|██▎       | 230/1013 [30:56<1:43:23,  7.92s/it]"
     ]
    },
    {
     "name": "stdout",
     "output_type": "stream",
     "text": [
      "GCN loss on unlabled data: 1.3300987482070923\n",
      "GCN acc on unlabled data: 0.7277603933839965\n",
      "attack loss: 1.389298439025879\n"
     ]
    },
    {
     "name": "stderr",
     "output_type": "stream",
     "text": [
      "Perturbing graph:  23%|██▎       | 231/1013 [31:03<1:41:38,  7.80s/it]"
     ]
    },
    {
     "name": "stdout",
     "output_type": "stream",
     "text": [
      "GCN loss on unlabled data: 1.3274222612380981\n",
      "GCN acc on unlabled data: 0.7246312025033527\n",
      "attack loss: 1.3572787046432495\n"
     ]
    },
    {
     "name": "stderr",
     "output_type": "stream",
     "text": [
      "Perturbing graph:  23%|██▎       | 232/1013 [31:10<1:39:14,  7.62s/it]"
     ]
    },
    {
     "name": "stdout",
     "output_type": "stream",
     "text": [
      "GCN loss on unlabled data: 1.3794631958007812\n",
      "GCN acc on unlabled data: 0.7201609298167189\n",
      "attack loss: 1.4607585668563843\n"
     ]
    },
    {
     "name": "stderr",
     "output_type": "stream",
     "text": [
      "Perturbing graph:  23%|██▎       | 233/1013 [31:18<1:37:40,  7.51s/it]"
     ]
    },
    {
     "name": "stdout",
     "output_type": "stream",
     "text": [
      "GCN loss on unlabled data: 1.3239670991897583\n",
      "GCN acc on unlabled data: 0.7282074206526599\n",
      "attack loss: 1.3744800090789795\n"
     ]
    },
    {
     "name": "stderr",
     "output_type": "stream",
     "text": [
      "Perturbing graph:  23%|██▎       | 234/1013 [31:25<1:37:08,  7.48s/it]"
     ]
    },
    {
     "name": "stdout",
     "output_type": "stream",
     "text": [
      "GCN loss on unlabled data: 1.311367392539978\n",
      "GCN acc on unlabled data: 0.7340187751452839\n",
      "attack loss: 1.367074728012085\n"
     ]
    },
    {
     "name": "stderr",
     "output_type": "stream",
     "text": [
      "Perturbing graph:  23%|██▎       | 235/1013 [31:32<1:36:50,  7.47s/it]"
     ]
    },
    {
     "name": "stdout",
     "output_type": "stream",
     "text": [
      "GCN loss on unlabled data: 1.3248231410980225\n",
      "GCN acc on unlabled data: 0.7223960661600357\n",
      "attack loss: 1.3564929962158203\n"
     ]
    },
    {
     "name": "stderr",
     "output_type": "stream",
     "text": [
      "Perturbing graph:  23%|██▎       | 236/1013 [31:40<1:38:07,  7.58s/it]"
     ]
    },
    {
     "name": "stdout",
     "output_type": "stream",
     "text": [
      "GCN loss on unlabled data: 1.3120478391647339\n",
      "GCN acc on unlabled data: 0.7291014751899866\n",
      "attack loss: 1.3869587182998657\n"
     ]
    },
    {
     "name": "stderr",
     "output_type": "stream",
     "text": [
      "Perturbing graph:  23%|██▎       | 237/1013 [31:48<1:37:48,  7.56s/it]"
     ]
    },
    {
     "name": "stdout",
     "output_type": "stream",
     "text": [
      "GCN loss on unlabled data: 1.3589272499084473\n",
      "GCN acc on unlabled data: 0.7268663388466696\n",
      "attack loss: 1.4289777278900146\n"
     ]
    },
    {
     "name": "stderr",
     "output_type": "stream",
     "text": [
      "Perturbing graph:  23%|██▎       | 238/1013 [31:55<1:37:06,  7.52s/it]"
     ]
    },
    {
     "name": "stdout",
     "output_type": "stream",
     "text": [
      "GCN loss on unlabled data: 1.4338501691818237\n",
      "GCN acc on unlabled data: 0.7219490388913724\n",
      "attack loss: 1.5098581314086914\n"
     ]
    },
    {
     "name": "stderr",
     "output_type": "stream",
     "text": [
      "Perturbing graph:  24%|██▎       | 239/1013 [32:03<1:38:23,  7.63s/it]"
     ]
    },
    {
     "name": "stdout",
     "output_type": "stream",
     "text": [
      "GCN loss on unlabled data: 1.3523163795471191\n",
      "GCN acc on unlabled data: 0.727313366115333\n",
      "attack loss: 1.4091558456420898\n"
     ]
    },
    {
     "name": "stderr",
     "output_type": "stream",
     "text": [
      "Perturbing graph:  24%|██▎       | 240/1013 [32:11<1:38:48,  7.67s/it]"
     ]
    },
    {
     "name": "stdout",
     "output_type": "stream",
     "text": [
      "GCN loss on unlabled data: 1.336400032043457\n",
      "GCN acc on unlabled data: 0.7165847116674117\n",
      "attack loss: 1.384530782699585\n"
     ]
    },
    {
     "name": "stderr",
     "output_type": "stream",
     "text": [
      "Perturbing graph:  24%|██▍       | 241/1013 [32:19<1:41:58,  7.93s/it]"
     ]
    },
    {
     "name": "stdout",
     "output_type": "stream",
     "text": [
      "GCN loss on unlabled data: 1.3666856288909912\n",
      "GCN acc on unlabled data: 0.7313366115333035\n",
      "attack loss: 1.4488261938095093\n"
     ]
    },
    {
     "name": "stderr",
     "output_type": "stream",
     "text": [
      "Perturbing graph:  24%|██▍       | 242/1013 [32:28<1:44:31,  8.13s/it]"
     ]
    },
    {
     "name": "stdout",
     "output_type": "stream",
     "text": [
      "GCN loss on unlabled data: 1.3036528825759888\n",
      "GCN acc on unlabled data: 0.7299955297273134\n",
      "attack loss: 1.364824891090393\n"
     ]
    },
    {
     "name": "stderr",
     "output_type": "stream",
     "text": [
      "Perturbing graph:  24%|██▍       | 243/1013 [32:36<1:43:47,  8.09s/it]"
     ]
    },
    {
     "name": "stdout",
     "output_type": "stream",
     "text": [
      "GCN loss on unlabled data: 1.318687081336975\n",
      "GCN acc on unlabled data: 0.7371479660259276\n",
      "attack loss: 1.3842769861221313\n"
     ]
    },
    {
     "name": "stderr",
     "output_type": "stream",
     "text": [
      "Perturbing graph:  24%|██▍       | 244/1013 [32:44<1:44:32,  8.16s/it]"
     ]
    },
    {
     "name": "stdout",
     "output_type": "stream",
     "text": [
      "GCN loss on unlabled data: 1.3900506496429443\n",
      "GCN acc on unlabled data: 0.7255252570406795\n",
      "attack loss: 1.461228609085083\n"
     ]
    },
    {
     "name": "stderr",
     "output_type": "stream",
     "text": [
      "Perturbing graph:  24%|██▍       | 245/1013 [32:52<1:44:04,  8.13s/it]"
     ]
    },
    {
     "name": "stdout",
     "output_type": "stream",
     "text": [
      "GCN loss on unlabled data: 1.3534249067306519\n",
      "GCN acc on unlabled data: 0.7259722843093429\n",
      "attack loss: 1.3742105960845947\n"
     ]
    },
    {
     "name": "stderr",
     "output_type": "stream",
     "text": [
      "Perturbing graph:  24%|██▍       | 246/1013 [33:01<1:44:36,  8.18s/it]"
     ]
    },
    {
     "name": "stdout",
     "output_type": "stream",
     "text": [
      "GCN loss on unlabled data: 1.2263307571411133\n",
      "GCN acc on unlabled data: 0.7313366115333035\n",
      "attack loss: 1.2691653966903687\n"
     ]
    },
    {
     "name": "stderr",
     "output_type": "stream",
     "text": [
      "Perturbing graph:  24%|██▍       | 247/1013 [33:09<1:45:07,  8.23s/it]"
     ]
    },
    {
     "name": "stdout",
     "output_type": "stream",
     "text": [
      "GCN loss on unlabled data: 1.297669529914856\n",
      "GCN acc on unlabled data: 0.7362539114886008\n",
      "attack loss: 1.3548017740249634\n"
     ]
    },
    {
     "name": "stderr",
     "output_type": "stream",
     "text": [
      "Perturbing graph:  24%|██▍       | 248/1013 [33:18<1:46:54,  8.38s/it]"
     ]
    },
    {
     "name": "stdout",
     "output_type": "stream",
     "text": [
      "GCN loss on unlabled data: 1.3341073989868164\n",
      "GCN acc on unlabled data: 0.735359856951274\n",
      "attack loss: 1.4036201238632202\n"
     ]
    },
    {
     "name": "stderr",
     "output_type": "stream",
     "text": [
      "Perturbing graph:  25%|██▍       | 249/1013 [33:27<1:51:02,  8.72s/it]"
     ]
    },
    {
     "name": "stdout",
     "output_type": "stream",
     "text": [
      "GCN loss on unlabled data: 1.3784666061401367\n",
      "GCN acc on unlabled data: 0.7232901206973625\n",
      "attack loss: 1.41984224319458\n"
     ]
    },
    {
     "name": "stderr",
     "output_type": "stream",
     "text": [
      "Perturbing graph:  25%|██▍       | 250/1013 [33:35<1:47:12,  8.43s/it]"
     ]
    },
    {
     "name": "stdout",
     "output_type": "stream",
     "text": [
      "GCN loss on unlabled data: 1.3824290037155151\n",
      "GCN acc on unlabled data: 0.7219490388913724\n",
      "attack loss: 1.451899528503418\n"
     ]
    },
    {
     "name": "stderr",
     "output_type": "stream",
     "text": [
      "Perturbing graph:  25%|██▍       | 251/1013 [33:43<1:45:36,  8.32s/it]"
     ]
    },
    {
     "name": "stdout",
     "output_type": "stream",
     "text": [
      "GCN loss on unlabled data: 1.4231394529342651\n",
      "GCN acc on unlabled data: 0.7179257934734019\n",
      "attack loss: 1.4961013793945312\n"
     ]
    },
    {
     "name": "stderr",
     "output_type": "stream",
     "text": [
      "Perturbing graph:  25%|██▍       | 252/1013 [33:52<1:46:57,  8.43s/it]"
     ]
    },
    {
     "name": "stdout",
     "output_type": "stream",
     "text": [
      "GCN loss on unlabled data: 1.3907556533813477\n",
      "GCN acc on unlabled data: 0.7165847116674117\n",
      "attack loss: 1.4691990613937378\n"
     ]
    },
    {
     "name": "stderr",
     "output_type": "stream",
     "text": [
      "Perturbing graph:  25%|██▍       | 253/1013 [34:01<1:48:07,  8.54s/it]"
     ]
    },
    {
     "name": "stdout",
     "output_type": "stream",
     "text": [
      "GCN loss on unlabled data: 1.435591697692871\n",
      "GCN acc on unlabled data: 0.7264193115780062\n",
      "attack loss: 1.5115545988082886\n"
     ]
    },
    {
     "name": "stderr",
     "output_type": "stream",
     "text": [
      "Perturbing graph:  25%|██▌       | 254/1013 [34:09<1:47:27,  8.50s/it]"
     ]
    },
    {
     "name": "stdout",
     "output_type": "stream",
     "text": [
      "GCN loss on unlabled data: 1.428268313407898\n",
      "GCN acc on unlabled data: 0.7219490388913724\n",
      "attack loss: 1.5070828199386597\n"
     ]
    },
    {
     "name": "stderr",
     "output_type": "stream",
     "text": [
      "Perturbing graph:  25%|██▌       | 255/1013 [34:17<1:44:02,  8.23s/it]"
     ]
    },
    {
     "name": "stdout",
     "output_type": "stream",
     "text": [
      "GCN loss on unlabled data: 1.4377919435501099\n",
      "GCN acc on unlabled data: 0.7183728207420653\n",
      "attack loss: 1.5018773078918457\n"
     ]
    },
    {
     "name": "stderr",
     "output_type": "stream",
     "text": [
      "Perturbing graph:  25%|██▌       | 256/1013 [34:25<1:43:21,  8.19s/it]"
     ]
    },
    {
     "name": "stdout",
     "output_type": "stream",
     "text": [
      "GCN loss on unlabled data: 1.4023107290267944\n",
      "GCN acc on unlabled data: 0.7197139025480555\n",
      "attack loss: 1.4610047340393066\n"
     ]
    },
    {
     "name": "stderr",
     "output_type": "stream",
     "text": [
      "Perturbing graph:  25%|██▌       | 257/1013 [34:33<1:44:31,  8.30s/it]"
     ]
    },
    {
     "name": "stdout",
     "output_type": "stream",
     "text": [
      "GCN loss on unlabled data: 1.4731323719024658\n",
      "GCN acc on unlabled data: 0.7165847116674117\n",
      "attack loss: 1.5187052488327026\n"
     ]
    },
    {
     "name": "stderr",
     "output_type": "stream",
     "text": [
      "Perturbing graph:  25%|██▌       | 258/1013 [34:42<1:46:46,  8.49s/it]"
     ]
    },
    {
     "name": "stdout",
     "output_type": "stream",
     "text": [
      "GCN loss on unlabled data: 1.4214545488357544\n",
      "GCN acc on unlabled data: 0.7197139025480555\n",
      "attack loss: 1.482149362564087\n"
     ]
    },
    {
     "name": "stderr",
     "output_type": "stream",
     "text": [
      "Perturbing graph:  26%|██▌       | 259/1013 [34:51<1:47:33,  8.56s/it]"
     ]
    },
    {
     "name": "stdout",
     "output_type": "stream",
     "text": [
      "GCN loss on unlabled data: 1.4580568075180054\n",
      "GCN acc on unlabled data: 0.7210549843540456\n",
      "attack loss: 1.5267243385314941\n"
     ]
    },
    {
     "name": "stderr",
     "output_type": "stream",
     "text": [
      "Perturbing graph:  26%|██▌       | 260/1013 [35:00<1:50:00,  8.77s/it]"
     ]
    },
    {
     "name": "stdout",
     "output_type": "stream",
     "text": [
      "GCN loss on unlabled data: 1.4350321292877197\n",
      "GCN acc on unlabled data: 0.7201609298167189\n",
      "attack loss: 1.4999542236328125\n"
     ]
    },
    {
     "name": "stderr",
     "output_type": "stream",
     "text": [
      "Perturbing graph:  26%|██▌       | 261/1013 [35:09<1:49:26,  8.73s/it]"
     ]
    },
    {
     "name": "stdout",
     "output_type": "stream",
     "text": [
      "GCN loss on unlabled data: 1.3433560132980347\n",
      "GCN acc on unlabled data: 0.7219490388913724\n",
      "attack loss: 1.3860762119293213\n"
     ]
    },
    {
     "name": "stderr",
     "output_type": "stream",
     "text": [
      "Perturbing graph:  26%|██▌       | 262/1013 [35:18<1:49:17,  8.73s/it]"
     ]
    },
    {
     "name": "stdout",
     "output_type": "stream",
     "text": [
      "GCN loss on unlabled data: 1.382401943206787\n",
      "GCN acc on unlabled data: 0.7165847116674117\n",
      "attack loss: 1.45916748046875\n"
     ]
    },
    {
     "name": "stderr",
     "output_type": "stream",
     "text": [
      "Perturbing graph:  26%|██▌       | 263/1013 [35:27<1:50:14,  8.82s/it]"
     ]
    },
    {
     "name": "stdout",
     "output_type": "stream",
     "text": [
      "GCN loss on unlabled data: 1.4163315296173096\n",
      "GCN acc on unlabled data: 0.723737147966026\n",
      "attack loss: 1.4844937324523926\n"
     ]
    },
    {
     "name": "stderr",
     "output_type": "stream",
     "text": [
      "Perturbing graph:  26%|██▌       | 264/1013 [35:35<1:49:10,  8.75s/it]"
     ]
    },
    {
     "name": "stdout",
     "output_type": "stream",
     "text": [
      "GCN loss on unlabled data: 1.375522255897522\n",
      "GCN acc on unlabled data: 0.72954850245865\n",
      "attack loss: 1.4478797912597656\n"
     ]
    },
    {
     "name": "stderr",
     "output_type": "stream",
     "text": [
      "Perturbing graph:  26%|██▌       | 265/1013 [35:45<1:51:20,  8.93s/it]"
     ]
    },
    {
     "name": "stdout",
     "output_type": "stream",
     "text": [
      "GCN loss on unlabled data: 1.4883543252944946\n",
      "GCN acc on unlabled data: 0.7165847116674117\n",
      "attack loss: 1.5495998859405518\n"
     ]
    },
    {
     "name": "stderr",
     "output_type": "stream",
     "text": [
      "Perturbing graph:  26%|██▋       | 266/1013 [35:53<1:50:34,  8.88s/it]"
     ]
    },
    {
     "name": "stdout",
     "output_type": "stream",
     "text": [
      "GCN loss on unlabled data: 1.4686906337738037\n",
      "GCN acc on unlabled data: 0.7130084935181046\n",
      "attack loss: 1.5503908395767212\n"
     ]
    },
    {
     "name": "stderr",
     "output_type": "stream",
     "text": [
      "Perturbing graph:  26%|██▋       | 267/1013 [36:02<1:50:08,  8.86s/it]"
     ]
    },
    {
     "name": "stdout",
     "output_type": "stream",
     "text": [
      "GCN loss on unlabled data: 1.4356279373168945\n",
      "GCN acc on unlabled data: 0.719266875279392\n",
      "attack loss: 1.5222363471984863\n"
     ]
    },
    {
     "name": "stderr",
     "output_type": "stream",
     "text": [
      "Perturbing graph:  26%|██▋       | 268/1013 [36:11<1:50:09,  8.87s/it]"
     ]
    },
    {
     "name": "stdout",
     "output_type": "stream",
     "text": [
      "GCN loss on unlabled data: 1.480934739112854\n",
      "GCN acc on unlabled data: 0.7246312025033527\n",
      "attack loss: 1.5606831312179565\n"
     ]
    },
    {
     "name": "stderr",
     "output_type": "stream",
     "text": [
      "Perturbing graph:  27%|██▋       | 269/1013 [36:19<1:47:48,  8.69s/it]"
     ]
    },
    {
     "name": "stdout",
     "output_type": "stream",
     "text": [
      "GCN loss on unlabled data: 1.4666180610656738\n",
      "GCN acc on unlabled data: 0.7188198480107286\n",
      "attack loss: 1.519282579421997\n"
     ]
    },
    {
     "name": "stderr",
     "output_type": "stream",
     "text": [
      "Perturbing graph:  27%|██▋       | 270/1013 [36:28<1:46:54,  8.63s/it]"
     ]
    },
    {
     "name": "stdout",
     "output_type": "stream",
     "text": [
      "GCN loss on unlabled data: 1.3980425596237183\n",
      "GCN acc on unlabled data: 0.7183728207420653\n",
      "attack loss: 1.4597023725509644\n"
     ]
    },
    {
     "name": "stderr",
     "output_type": "stream",
     "text": [
      "Perturbing graph:  27%|██▋       | 271/1013 [36:36<1:46:48,  8.64s/it]"
     ]
    },
    {
     "name": "stdout",
     "output_type": "stream",
     "text": [
      "GCN loss on unlabled data: 1.5334213972091675\n",
      "GCN acc on unlabled data: 0.7139025480554314\n",
      "attack loss: 1.6006137132644653\n"
     ]
    },
    {
     "name": "stderr",
     "output_type": "stream",
     "text": [
      "Perturbing graph:  27%|██▋       | 272/1013 [36:46<1:50:03,  8.91s/it]"
     ]
    },
    {
     "name": "stdout",
     "output_type": "stream",
     "text": [
      "GCN loss on unlabled data: 1.4894932508468628\n",
      "GCN acc on unlabled data: 0.7170317389360751\n",
      "attack loss: 1.5419734716415405\n"
     ]
    },
    {
     "name": "stderr",
     "output_type": "stream",
     "text": [
      "Perturbing graph:  27%|██▋       | 273/1013 [36:54<1:45:07,  8.52s/it]"
     ]
    },
    {
     "name": "stdout",
     "output_type": "stream",
     "text": [
      "GCN loss on unlabled data: 1.4694985151290894\n",
      "GCN acc on unlabled data: 0.721502011622709\n",
      "attack loss: 1.5706102848052979\n"
     ]
    },
    {
     "name": "stderr",
     "output_type": "stream",
     "text": [
      "Perturbing graph:  27%|██▋       | 274/1013 [37:01<1:41:27,  8.24s/it]"
     ]
    },
    {
     "name": "stdout",
     "output_type": "stream",
     "text": [
      "GCN loss on unlabled data: 1.4775049686431885\n",
      "GCN acc on unlabled data: 0.7223960661600357\n",
      "attack loss: 1.5478439331054688\n"
     ]
    },
    {
     "name": "stderr",
     "output_type": "stream",
     "text": [
      "Perturbing graph:  27%|██▋       | 275/1013 [37:08<1:37:57,  7.96s/it]"
     ]
    },
    {
     "name": "stdout",
     "output_type": "stream",
     "text": [
      "GCN loss on unlabled data: 1.5934858322143555\n",
      "GCN acc on unlabled data: 0.7143495753240948\n",
      "attack loss: 1.6946094036102295\n"
     ]
    },
    {
     "name": "stderr",
     "output_type": "stream",
     "text": [
      "Perturbing graph:  27%|██▋       | 276/1013 [37:16<1:36:34,  7.86s/it]"
     ]
    },
    {
     "name": "stdout",
     "output_type": "stream",
     "text": [
      "GCN loss on unlabled data: 1.470271110534668\n",
      "GCN acc on unlabled data: 0.715690657130085\n",
      "attack loss: 1.5330348014831543\n"
     ]
    },
    {
     "name": "stderr",
     "output_type": "stream",
     "text": [
      "Perturbing graph:  27%|██▋       | 277/1013 [37:25<1:38:35,  8.04s/it]"
     ]
    },
    {
     "name": "stdout",
     "output_type": "stream",
     "text": [
      "GCN loss on unlabled data: 1.4648728370666504\n",
      "GCN acc on unlabled data: 0.7058560572194904\n",
      "attack loss: 1.5422965288162231\n"
     ]
    },
    {
     "name": "stderr",
     "output_type": "stream",
     "text": [
      "Perturbing graph:  27%|██▋       | 278/1013 [37:34<1:44:33,  8.54s/it]"
     ]
    },
    {
     "name": "stdout",
     "output_type": "stream",
     "text": [
      "GCN loss on unlabled data: 1.505656361579895\n",
      "GCN acc on unlabled data: 0.7098793026374609\n",
      "attack loss: 1.568912386894226\n"
     ]
    },
    {
     "name": "stderr",
     "output_type": "stream",
     "text": [
      "Perturbing graph:  28%|██▊       | 279/1013 [37:43<1:44:18,  8.53s/it]"
     ]
    },
    {
     "name": "stdout",
     "output_type": "stream",
     "text": [
      "GCN loss on unlabled data: 1.4536221027374268\n",
      "GCN acc on unlabled data: 0.7188198480107286\n",
      "attack loss: 1.5595475435256958\n"
     ]
    },
    {
     "name": "stderr",
     "output_type": "stream",
     "text": [
      "Perturbing graph:  28%|██▊       | 280/1013 [37:51<1:44:26,  8.55s/it]"
     ]
    },
    {
     "name": "stdout",
     "output_type": "stream",
     "text": [
      "GCN loss on unlabled data: 1.465788722038269\n",
      "GCN acc on unlabled data: 0.7094322753687975\n",
      "attack loss: 1.560240626335144\n"
     ]
    },
    {
     "name": "stderr",
     "output_type": "stream",
     "text": [
      "Perturbing graph:  28%|██▊       | 281/1013 [38:00<1:43:59,  8.52s/it]"
     ]
    },
    {
     "name": "stdout",
     "output_type": "stream",
     "text": [
      "GCN loss on unlabled data: 1.5132585763931274\n",
      "GCN acc on unlabled data: 0.7179257934734019\n",
      "attack loss: 1.6119059324264526\n"
     ]
    },
    {
     "name": "stderr",
     "output_type": "stream",
     "text": [
      "Perturbing graph:  28%|██▊       | 282/1013 [38:09<1:46:07,  8.71s/it]"
     ]
    },
    {
     "name": "stdout",
     "output_type": "stream",
     "text": [
      "GCN loss on unlabled data: 1.4870644807815552\n",
      "GCN acc on unlabled data: 0.7152436298614215\n",
      "attack loss: 1.5483336448669434\n"
     ]
    },
    {
     "name": "stderr",
     "output_type": "stream",
     "text": [
      "Perturbing graph:  28%|██▊       | 283/1013 [38:18<1:46:13,  8.73s/it]"
     ]
    },
    {
     "name": "stdout",
     "output_type": "stream",
     "text": [
      "GCN loss on unlabled data: 1.4758352041244507\n",
      "GCN acc on unlabled data: 0.705409029950827\n",
      "attack loss: 1.533016324043274\n"
     ]
    },
    {
     "name": "stderr",
     "output_type": "stream",
     "text": [
      "Perturbing graph:  28%|██▊       | 284/1013 [38:26<1:45:50,  8.71s/it]"
     ]
    },
    {
     "name": "stdout",
     "output_type": "stream",
     "text": [
      "GCN loss on unlabled data: 1.4907946586608887\n",
      "GCN acc on unlabled data: 0.7165847116674117\n",
      "attack loss: 1.546526312828064\n"
     ]
    },
    {
     "name": "stderr",
     "output_type": "stream",
     "text": [
      "Perturbing graph:  28%|██▊       | 285/1013 [38:35<1:46:57,  8.82s/it]"
     ]
    },
    {
     "name": "stdout",
     "output_type": "stream",
     "text": [
      "GCN loss on unlabled data: 1.47307288646698\n",
      "GCN acc on unlabled data: 0.7130084935181046\n",
      "attack loss: 1.5168176889419556\n"
     ]
    },
    {
     "name": "stderr",
     "output_type": "stream",
     "text": [
      "Perturbing graph:  28%|██▊       | 286/1013 [38:44<1:46:10,  8.76s/it]"
     ]
    },
    {
     "name": "stdout",
     "output_type": "stream",
     "text": [
      "GCN loss on unlabled data: 1.5663022994995117\n",
      "GCN acc on unlabled data: 0.7058560572194904\n",
      "attack loss: 1.637381672859192\n"
     ]
    },
    {
     "name": "stderr",
     "output_type": "stream",
     "text": [
      "Perturbing graph:  28%|██▊       | 287/1013 [38:53<1:46:47,  8.83s/it]"
     ]
    },
    {
     "name": "stdout",
     "output_type": "stream",
     "text": [
      "GCN loss on unlabled data: 1.5067405700683594\n",
      "GCN acc on unlabled data: 0.7179257934734019\n",
      "attack loss: 1.599932312965393\n"
     ]
    },
    {
     "name": "stderr",
     "output_type": "stream",
     "text": [
      "Perturbing graph:  28%|██▊       | 288/1013 [39:02<1:47:13,  8.87s/it]"
     ]
    },
    {
     "name": "stdout",
     "output_type": "stream",
     "text": [
      "GCN loss on unlabled data: 1.5049540996551514\n",
      "GCN acc on unlabled data: 0.7130084935181046\n",
      "attack loss: 1.5699330568313599\n"
     ]
    },
    {
     "name": "stderr",
     "output_type": "stream",
     "text": [
      "Perturbing graph:  29%|██▊       | 289/1013 [39:10<1:45:15,  8.72s/it]"
     ]
    },
    {
     "name": "stdout",
     "output_type": "stream",
     "text": [
      "GCN loss on unlabled data: 1.4385746717453003\n",
      "GCN acc on unlabled data: 0.711220384443451\n",
      "attack loss: 1.5259208679199219\n"
     ]
    },
    {
     "name": "stderr",
     "output_type": "stream",
     "text": [
      "Perturbing graph:  29%|██▊       | 290/1013 [39:18<1:42:18,  8.49s/it]"
     ]
    },
    {
     "name": "stdout",
     "output_type": "stream",
     "text": [
      "GCN loss on unlabled data: 1.5249830484390259\n",
      "GCN acc on unlabled data: 0.7085382208314707\n",
      "attack loss: 1.6076624393463135\n"
     ]
    },
    {
     "name": "stderr",
     "output_type": "stream",
     "text": [
      "Perturbing graph:  29%|██▊       | 291/1013 [39:26<1:38:31,  8.19s/it]"
     ]
    },
    {
     "name": "stdout",
     "output_type": "stream",
     "text": [
      "GCN loss on unlabled data: 1.4702142477035522\n",
      "GCN acc on unlabled data: 0.7161376843987484\n",
      "attack loss: 1.5481626987457275\n"
     ]
    },
    {
     "name": "stderr",
     "output_type": "stream",
     "text": [
      "Perturbing graph:  29%|██▉       | 292/1013 [39:33<1:35:11,  7.92s/it]"
     ]
    },
    {
     "name": "stdout",
     "output_type": "stream",
     "text": [
      "GCN loss on unlabled data: 1.5157138109207153\n",
      "GCN acc on unlabled data: 0.7058560572194904\n",
      "attack loss: 1.59285306930542\n"
     ]
    },
    {
     "name": "stderr",
     "output_type": "stream",
     "text": [
      "Perturbing graph:  29%|██▉       | 293/1013 [39:41<1:34:09,  7.85s/it]"
     ]
    },
    {
     "name": "stdout",
     "output_type": "stream",
     "text": [
      "GCN loss on unlabled data: 1.4386084079742432\n",
      "GCN acc on unlabled data: 0.7121144389807779\n",
      "attack loss: 1.4976305961608887\n"
     ]
    },
    {
     "name": "stderr",
     "output_type": "stream",
     "text": [
      "Perturbing graph:  29%|██▉       | 294/1013 [39:48<1:32:26,  7.71s/it]"
     ]
    },
    {
     "name": "stdout",
     "output_type": "stream",
     "text": [
      "GCN loss on unlabled data: 1.542820692062378\n",
      "GCN acc on unlabled data: 0.7089852481001341\n",
      "attack loss: 1.6101287603378296\n"
     ]
    },
    {
     "name": "stderr",
     "output_type": "stream",
     "text": [
      "Perturbing graph:  29%|██▉       | 295/1013 [39:56<1:31:23,  7.64s/it]"
     ]
    },
    {
     "name": "stdout",
     "output_type": "stream",
     "text": [
      "GCN loss on unlabled data: 1.5414451360702515\n",
      "GCN acc on unlabled data: 0.7139025480554314\n",
      "attack loss: 1.6121994256973267\n"
     ]
    },
    {
     "name": "stderr",
     "output_type": "stream",
     "text": [
      "Perturbing graph:  29%|██▉       | 296/1013 [40:03<1:29:40,  7.50s/it]"
     ]
    },
    {
     "name": "stdout",
     "output_type": "stream",
     "text": [
      "GCN loss on unlabled data: 1.5738584995269775\n",
      "GCN acc on unlabled data: 0.7116674117121145\n",
      "attack loss: 1.6831151247024536\n"
     ]
    },
    {
     "name": "stderr",
     "output_type": "stream",
     "text": [
      "Perturbing graph:  29%|██▉       | 297/1013 [40:10<1:28:52,  7.45s/it]"
     ]
    },
    {
     "name": "stdout",
     "output_type": "stream",
     "text": [
      "GCN loss on unlabled data: 1.5434054136276245\n",
      "GCN acc on unlabled data: 0.7013857845328565\n",
      "attack loss: 1.6177027225494385\n"
     ]
    },
    {
     "name": "stderr",
     "output_type": "stream",
     "text": [
      "Perturbing graph:  29%|██▉       | 298/1013 [40:18<1:28:29,  7.43s/it]"
     ]
    },
    {
     "name": "stdout",
     "output_type": "stream",
     "text": [
      "GCN loss on unlabled data: 1.5016272068023682\n",
      "GCN acc on unlabled data: 0.7022798390701833\n",
      "attack loss: 1.5668357610702515\n"
     ]
    },
    {
     "name": "stderr",
     "output_type": "stream",
     "text": [
      "Perturbing graph:  30%|██▉       | 299/1013 [40:25<1:27:23,  7.34s/it]"
     ]
    },
    {
     "name": "stdout",
     "output_type": "stream",
     "text": [
      "GCN loss on unlabled data: 1.5425266027450562\n",
      "GCN acc on unlabled data: 0.7063030844881538\n",
      "attack loss: 1.6365553140640259\n"
     ]
    },
    {
     "name": "stderr",
     "output_type": "stream",
     "text": [
      "Perturbing graph:  30%|██▉       | 300/1013 [40:32<1:27:59,  7.41s/it]"
     ]
    },
    {
     "name": "stdout",
     "output_type": "stream",
     "text": [
      "GCN loss on unlabled data: 1.5217089653015137\n",
      "GCN acc on unlabled data: 0.707644166294144\n",
      "attack loss: 1.625264048576355\n"
     ]
    },
    {
     "name": "stderr",
     "output_type": "stream",
     "text": [
      "Perturbing graph:  30%|██▉       | 301/1013 [40:40<1:28:39,  7.47s/it]"
     ]
    },
    {
     "name": "stdout",
     "output_type": "stream",
     "text": [
      "GCN loss on unlabled data: 1.5832396745681763\n",
      "GCN acc on unlabled data: 0.7098793026374609\n",
      "attack loss: 1.6683577299118042\n"
     ]
    },
    {
     "name": "stderr",
     "output_type": "stream",
     "text": [
      "Perturbing graph:  30%|██▉       | 302/1013 [40:47<1:28:07,  7.44s/it]"
     ]
    },
    {
     "name": "stdout",
     "output_type": "stream",
     "text": [
      "GCN loss on unlabled data: 1.585984706878662\n",
      "GCN acc on unlabled data: 0.7022798390701833\n",
      "attack loss: 1.6752138137817383\n"
     ]
    },
    {
     "name": "stderr",
     "output_type": "stream",
     "text": [
      "Perturbing graph:  30%|██▉       | 303/1013 [40:55<1:29:25,  7.56s/it]"
     ]
    },
    {
     "name": "stdout",
     "output_type": "stream",
     "text": [
      "GCN loss on unlabled data: 1.6053439378738403\n",
      "GCN acc on unlabled data: 0.7027268663388466\n",
      "attack loss: 1.7149133682250977\n"
     ]
    },
    {
     "name": "stderr",
     "output_type": "stream",
     "text": [
      "Perturbing graph:  30%|███       | 304/1013 [41:03<1:30:23,  7.65s/it]"
     ]
    },
    {
     "name": "stdout",
     "output_type": "stream",
     "text": [
      "GCN loss on unlabled data: 1.5568883419036865\n",
      "GCN acc on unlabled data: 0.7013857845328565\n",
      "attack loss: 1.651044249534607\n"
     ]
    },
    {
     "name": "stderr",
     "output_type": "stream",
     "text": [
      "Perturbing graph:  30%|███       | 305/1013 [41:11<1:30:34,  7.68s/it]"
     ]
    },
    {
     "name": "stdout",
     "output_type": "stream",
     "text": [
      "GCN loss on unlabled data: 1.511136770248413\n",
      "GCN acc on unlabled data: 0.7080911935628074\n",
      "attack loss: 1.5953048467636108\n"
     ]
    },
    {
     "name": "stderr",
     "output_type": "stream",
     "text": [
      "Perturbing graph:  30%|███       | 306/1013 [41:19<1:30:53,  7.71s/it]"
     ]
    },
    {
     "name": "stdout",
     "output_type": "stream",
     "text": [
      "GCN loss on unlabled data: 1.5458353757858276\n",
      "GCN acc on unlabled data: 0.7027268663388466\n",
      "attack loss: 1.6456118822097778\n"
     ]
    },
    {
     "name": "stderr",
     "output_type": "stream",
     "text": [
      "Perturbing graph:  30%|███       | 307/1013 [41:26<1:30:35,  7.70s/it]"
     ]
    },
    {
     "name": "stdout",
     "output_type": "stream",
     "text": [
      "GCN loss on unlabled data: 1.5668773651123047\n",
      "GCN acc on unlabled data: 0.70317389360751\n",
      "attack loss: 1.642798662185669\n"
     ]
    },
    {
     "name": "stderr",
     "output_type": "stream",
     "text": [
      "Perturbing graph:  30%|███       | 308/1013 [41:34<1:30:32,  7.71s/it]"
     ]
    },
    {
     "name": "stdout",
     "output_type": "stream",
     "text": [
      "GCN loss on unlabled data: 1.5471580028533936\n",
      "GCN acc on unlabled data: 0.7103263299061243\n",
      "attack loss: 1.6093851327896118\n"
     ]
    },
    {
     "name": "stderr",
     "output_type": "stream",
     "text": [
      "Perturbing graph:  31%|███       | 309/1013 [41:41<1:29:59,  7.67s/it]"
     ]
    },
    {
     "name": "stdout",
     "output_type": "stream",
     "text": [
      "GCN loss on unlabled data: 1.6186646223068237\n",
      "GCN acc on unlabled data: 0.6928922664282521\n",
      "attack loss: 1.7465380430221558\n"
     ]
    },
    {
     "name": "stderr",
     "output_type": "stream",
     "text": [
      "Perturbing graph:  31%|███       | 310/1013 [41:49<1:29:40,  7.65s/it]"
     ]
    },
    {
     "name": "stdout",
     "output_type": "stream",
     "text": [
      "GCN loss on unlabled data: 1.6223100423812866\n",
      "GCN acc on unlabled data: 0.7036209208761735\n",
      "attack loss: 1.7139673233032227\n"
     ]
    },
    {
     "name": "stderr",
     "output_type": "stream",
     "text": [
      "Perturbing graph:  31%|███       | 311/1013 [41:57<1:29:23,  7.64s/it]"
     ]
    },
    {
     "name": "stdout",
     "output_type": "stream",
     "text": [
      "GCN loss on unlabled data: 1.6019264459609985\n",
      "GCN acc on unlabled data: 0.7018328118015199\n",
      "attack loss: 1.7175846099853516\n"
     ]
    },
    {
     "name": "stderr",
     "output_type": "stream",
     "text": [
      "Perturbing graph:  31%|███       | 312/1013 [42:04<1:29:00,  7.62s/it]"
     ]
    },
    {
     "name": "stdout",
     "output_type": "stream",
     "text": [
      "GCN loss on unlabled data: 1.639163851737976\n",
      "GCN acc on unlabled data: 0.7080911935628074\n",
      "attack loss: 1.7581114768981934\n"
     ]
    },
    {
     "name": "stderr",
     "output_type": "stream",
     "text": [
      "Perturbing graph:  31%|███       | 313/1013 [42:12<1:30:09,  7.73s/it]"
     ]
    },
    {
     "name": "stdout",
     "output_type": "stream",
     "text": [
      "GCN loss on unlabled data: 1.5725501775741577\n",
      "GCN acc on unlabled data: 0.7040679481448369\n",
      "attack loss: 1.6815495491027832\n"
     ]
    },
    {
     "name": "stderr",
     "output_type": "stream",
     "text": [
      "Perturbing graph:  31%|███       | 314/1013 [42:20<1:30:24,  7.76s/it]"
     ]
    },
    {
     "name": "stdout",
     "output_type": "stream",
     "text": [
      "GCN loss on unlabled data: 1.6431918144226074\n",
      "GCN acc on unlabled data: 0.6942333482342423\n",
      "attack loss: 1.772257685661316\n"
     ]
    },
    {
     "name": "stderr",
     "output_type": "stream",
     "text": [
      "Perturbing graph:  31%|███       | 315/1013 [42:28<1:30:14,  7.76s/it]"
     ]
    },
    {
     "name": "stdout",
     "output_type": "stream",
     "text": [
      "GCN loss on unlabled data: 1.5962083339691162\n",
      "GCN acc on unlabled data: 0.7045149754135003\n",
      "attack loss: 1.7111787796020508\n"
     ]
    },
    {
     "name": "stderr",
     "output_type": "stream",
     "text": [
      "Perturbing graph:  31%|███       | 316/1013 [42:36<1:29:59,  7.75s/it]"
     ]
    },
    {
     "name": "stdout",
     "output_type": "stream",
     "text": [
      "GCN loss on unlabled data: 1.5655323266983032\n",
      "GCN acc on unlabled data: 0.7009387572641931\n",
      "attack loss: 1.6515672206878662\n"
     ]
    },
    {
     "name": "stderr",
     "output_type": "stream",
     "text": [
      "Perturbing graph:  31%|███▏      | 317/1013 [42:43<1:29:39,  7.73s/it]"
     ]
    },
    {
     "name": "stdout",
     "output_type": "stream",
     "text": [
      "GCN loss on unlabled data: 1.6528065204620361\n",
      "GCN acc on unlabled data: 0.6969155118462226\n",
      "attack loss: 1.7328146696090698\n"
     ]
    },
    {
     "name": "stderr",
     "output_type": "stream",
     "text": [
      "Perturbing graph:  31%|███▏      | 318/1013 [42:51<1:28:59,  7.68s/it]"
     ]
    },
    {
     "name": "stdout",
     "output_type": "stream",
     "text": [
      "GCN loss on unlabled data: 1.6686681509017944\n",
      "GCN acc on unlabled data: 0.6911041573535985\n",
      "attack loss: 1.7958191633224487\n"
     ]
    },
    {
     "name": "stderr",
     "output_type": "stream",
     "text": [
      "Perturbing graph:  31%|███▏      | 319/1013 [42:58<1:27:35,  7.57s/it]"
     ]
    },
    {
     "name": "stdout",
     "output_type": "stream",
     "text": [
      "GCN loss on unlabled data: 1.6289585828781128\n",
      "GCN acc on unlabled data: 0.6969155118462226\n",
      "attack loss: 1.7358031272888184\n"
     ]
    },
    {
     "name": "stderr",
     "output_type": "stream",
     "text": [
      "Perturbing graph:  32%|███▏      | 320/1013 [43:05<1:26:37,  7.50s/it]"
     ]
    },
    {
     "name": "stdout",
     "output_type": "stream",
     "text": [
      "GCN loss on unlabled data: 1.4500280618667603\n",
      "GCN acc on unlabled data: 0.7094322753687975\n",
      "attack loss: 1.5397042036056519\n"
     ]
    },
    {
     "name": "stderr",
     "output_type": "stream",
     "text": [
      "Perturbing graph:  32%|███▏      | 321/1013 [43:13<1:27:36,  7.60s/it]"
     ]
    },
    {
     "name": "stdout",
     "output_type": "stream",
     "text": [
      "GCN loss on unlabled data: 1.6369762420654297\n",
      "GCN acc on unlabled data: 0.7125614662494412\n",
      "attack loss: 1.730778455734253\n"
     ]
    },
    {
     "name": "stderr",
     "output_type": "stream",
     "text": [
      "Perturbing graph:  32%|███▏      | 322/1013 [43:21<1:26:32,  7.51s/it]"
     ]
    },
    {
     "name": "stdout",
     "output_type": "stream",
     "text": [
      "GCN loss on unlabled data: 1.6915063858032227\n",
      "GCN acc on unlabled data: 0.7004917299955298\n",
      "attack loss: 1.802642822265625\n"
     ]
    },
    {
     "name": "stderr",
     "output_type": "stream",
     "text": [
      "Perturbing graph:  32%|███▏      | 323/1013 [43:28<1:27:09,  7.58s/it]"
     ]
    },
    {
     "name": "stdout",
     "output_type": "stream",
     "text": [
      "GCN loss on unlabled data: 1.6254875659942627\n",
      "GCN acc on unlabled data: 0.695127402771569\n",
      "attack loss: 1.689886450767517\n"
     ]
    },
    {
     "name": "stderr",
     "output_type": "stream",
     "text": [
      "Perturbing graph:  32%|███▏      | 324/1013 [43:36<1:26:52,  7.57s/it]"
     ]
    },
    {
     "name": "stdout",
     "output_type": "stream",
     "text": [
      "GCN loss on unlabled data: 1.5922638177871704\n",
      "GCN acc on unlabled data: 0.6955744300402324\n",
      "attack loss: 1.6946994066238403\n"
     ]
    },
    {
     "name": "stderr",
     "output_type": "stream",
     "text": [
      "Perturbing graph:  32%|███▏      | 325/1013 [43:43<1:26:15,  7.52s/it]"
     ]
    },
    {
     "name": "stdout",
     "output_type": "stream",
     "text": [
      "GCN loss on unlabled data: 1.639990210533142\n",
      "GCN acc on unlabled data: 0.7013857845328565\n",
      "attack loss: 1.7592798471450806\n"
     ]
    },
    {
     "name": "stderr",
     "output_type": "stream",
     "text": [
      "Perturbing graph:  32%|███▏      | 326/1013 [43:51<1:25:13,  7.44s/it]"
     ]
    },
    {
     "name": "stdout",
     "output_type": "stream",
     "text": [
      "GCN loss on unlabled data: 1.5889023542404175\n",
      "GCN acc on unlabled data: 0.6969155118462226\n",
      "attack loss: 1.6792161464691162\n"
     ]
    },
    {
     "name": "stderr",
     "output_type": "stream",
     "text": [
      "Perturbing graph:  32%|███▏      | 327/1013 [43:58<1:24:52,  7.42s/it]"
     ]
    },
    {
     "name": "stdout",
     "output_type": "stream",
     "text": [
      "GCN loss on unlabled data: 1.555214285850525\n",
      "GCN acc on unlabled data: 0.6960214573088959\n",
      "attack loss: 1.658042311668396\n"
     ]
    },
    {
     "name": "stderr",
     "output_type": "stream",
     "text": [
      "Perturbing graph:  32%|███▏      | 328/1013 [44:06<1:25:18,  7.47s/it]"
     ]
    },
    {
     "name": "stdout",
     "output_type": "stream",
     "text": [
      "GCN loss on unlabled data: 1.7565373182296753\n",
      "GCN acc on unlabled data: 0.6942333482342423\n",
      "attack loss: 1.9000179767608643\n"
     ]
    },
    {
     "name": "stderr",
     "output_type": "stream",
     "text": [
      "Perturbing graph:  32%|███▏      | 329/1013 [44:13<1:25:02,  7.46s/it]"
     ]
    },
    {
     "name": "stdout",
     "output_type": "stream",
     "text": [
      "GCN loss on unlabled data: 1.6362272500991821\n",
      "GCN acc on unlabled data: 0.7139025480554314\n",
      "attack loss: 1.7563564777374268\n"
     ]
    },
    {
     "name": "stderr",
     "output_type": "stream",
     "text": [
      "Perturbing graph:  33%|███▎      | 330/1013 [44:20<1:24:22,  7.41s/it]"
     ]
    },
    {
     "name": "stdout",
     "output_type": "stream",
     "text": [
      "GCN loss on unlabled data: 1.6633237600326538\n",
      "GCN acc on unlabled data: 0.7071971390254805\n",
      "attack loss: 1.75652015209198\n"
     ]
    },
    {
     "name": "stderr",
     "output_type": "stream",
     "text": [
      "Perturbing graph:  33%|███▎      | 331/1013 [44:28<1:24:07,  7.40s/it]"
     ]
    },
    {
     "name": "stdout",
     "output_type": "stream",
     "text": [
      "GCN loss on unlabled data: 1.5521159172058105\n",
      "GCN acc on unlabled data: 0.7080911935628074\n",
      "attack loss: 1.6570039987564087\n"
     ]
    },
    {
     "name": "stderr",
     "output_type": "stream",
     "text": [
      "Perturbing graph:  33%|███▎      | 332/1013 [44:35<1:23:41,  7.37s/it]"
     ]
    },
    {
     "name": "stdout",
     "output_type": "stream",
     "text": [
      "GCN loss on unlabled data: 1.6879152059555054\n",
      "GCN acc on unlabled data: 0.7004917299955298\n",
      "attack loss: 1.80583655834198\n"
     ]
    },
    {
     "name": "stderr",
     "output_type": "stream",
     "text": [
      "Perturbing graph:  33%|███▎      | 333/1013 [44:42<1:23:02,  7.33s/it]"
     ]
    },
    {
     "name": "stdout",
     "output_type": "stream",
     "text": [
      "GCN loss on unlabled data: 1.5396867990493774\n",
      "GCN acc on unlabled data: 0.7004917299955298\n",
      "attack loss: 1.6422337293624878\n"
     ]
    },
    {
     "name": "stderr",
     "output_type": "stream",
     "text": [
      "Perturbing graph:  33%|███▎      | 334/1013 [44:49<1:22:52,  7.32s/it]"
     ]
    },
    {
     "name": "stdout",
     "output_type": "stream",
     "text": [
      "GCN loss on unlabled data: 1.703896164894104\n",
      "GCN acc on unlabled data: 0.6937863209655789\n",
      "attack loss: 1.8054970502853394\n"
     ]
    },
    {
     "name": "stderr",
     "output_type": "stream",
     "text": [
      "Perturbing graph:  33%|███▎      | 335/1013 [44:57<1:23:01,  7.35s/it]"
     ]
    },
    {
     "name": "stdout",
     "output_type": "stream",
     "text": [
      "GCN loss on unlabled data: 1.5990421772003174\n",
      "GCN acc on unlabled data: 0.6991506481895395\n",
      "attack loss: 1.7120788097381592\n"
     ]
    },
    {
     "name": "stderr",
     "output_type": "stream",
     "text": [
      "Perturbing graph:  33%|███▎      | 336/1013 [45:04<1:23:02,  7.36s/it]"
     ]
    },
    {
     "name": "stdout",
     "output_type": "stream",
     "text": [
      "GCN loss on unlabled data: 1.7017791271209717\n",
      "GCN acc on unlabled data: 0.6946803755029056\n",
      "attack loss: 1.8375459909439087\n"
     ]
    },
    {
     "name": "stderr",
     "output_type": "stream",
     "text": [
      "Perturbing graph:  33%|███▎      | 337/1013 [45:12<1:23:24,  7.40s/it]"
     ]
    },
    {
     "name": "stdout",
     "output_type": "stream",
     "text": [
      "GCN loss on unlabled data: 1.5997508764266968\n",
      "GCN acc on unlabled data: 0.70317389360751\n",
      "attack loss: 1.7003694772720337\n"
     ]
    },
    {
     "name": "stderr",
     "output_type": "stream",
     "text": [
      "Perturbing graph:  33%|███▎      | 338/1013 [45:19<1:23:05,  7.39s/it]"
     ]
    },
    {
     "name": "stdout",
     "output_type": "stream",
     "text": [
      "GCN loss on unlabled data: 1.645512342453003\n",
      "GCN acc on unlabled data: 0.697362539114886\n",
      "attack loss: 1.7580510377883911\n"
     ]
    },
    {
     "name": "stderr",
     "output_type": "stream",
     "text": [
      "Perturbing graph:  33%|███▎      | 339/1013 [45:26<1:22:18,  7.33s/it]"
     ]
    },
    {
     "name": "stdout",
     "output_type": "stream",
     "text": [
      "GCN loss on unlabled data: 1.709314227104187\n",
      "GCN acc on unlabled data: 0.6969155118462226\n",
      "attack loss: 1.8486201763153076\n"
     ]
    },
    {
     "name": "stderr",
     "output_type": "stream",
     "text": [
      "Perturbing graph:  34%|███▎      | 340/1013 [45:34<1:21:42,  7.28s/it]"
     ]
    },
    {
     "name": "stdout",
     "output_type": "stream",
     "text": [
      "GCN loss on unlabled data: 1.6928898096084595\n",
      "GCN acc on unlabled data: 0.7080911935628074\n",
      "attack loss: 1.8238911628723145\n"
     ]
    },
    {
     "name": "stderr",
     "output_type": "stream",
     "text": [
      "Perturbing graph:  34%|███▎      | 341/1013 [45:41<1:21:12,  7.25s/it]"
     ]
    },
    {
     "name": "stdout",
     "output_type": "stream",
     "text": [
      "GCN loss on unlabled data: 1.6997852325439453\n",
      "GCN acc on unlabled data: 0.6946803755029056\n",
      "attack loss: 1.80592942237854\n"
     ]
    },
    {
     "name": "stderr",
     "output_type": "stream",
     "text": [
      "Perturbing graph:  34%|███▍      | 342/1013 [45:48<1:20:47,  7.22s/it]"
     ]
    },
    {
     "name": "stdout",
     "output_type": "stream",
     "text": [
      "GCN loss on unlabled data: 1.7598457336425781\n",
      "GCN acc on unlabled data: 0.687080911935628\n",
      "attack loss: 1.8816802501678467\n"
     ]
    },
    {
     "name": "stderr",
     "output_type": "stream",
     "text": [
      "Perturbing graph:  34%|███▍      | 343/1013 [45:55<1:20:20,  7.19s/it]"
     ]
    },
    {
     "name": "stdout",
     "output_type": "stream",
     "text": [
      "GCN loss on unlabled data: 1.717422604560852\n",
      "GCN acc on unlabled data: 0.6982565936522128\n",
      "attack loss: 1.836537480354309\n"
     ]
    },
    {
     "name": "stderr",
     "output_type": "stream",
     "text": [
      "Perturbing graph:  34%|███▍      | 344/1013 [46:02<1:20:14,  7.20s/it]"
     ]
    },
    {
     "name": "stdout",
     "output_type": "stream",
     "text": [
      "GCN loss on unlabled data: 1.6735583543777466\n",
      "GCN acc on unlabled data: 0.7027268663388466\n",
      "attack loss: 1.7954999208450317\n"
     ]
    },
    {
     "name": "stderr",
     "output_type": "stream",
     "text": [
      "Perturbing graph:  34%|███▍      | 345/1013 [46:09<1:20:23,  7.22s/it]"
     ]
    },
    {
     "name": "stdout",
     "output_type": "stream",
     "text": [
      "GCN loss on unlabled data: 1.6828559637069702\n",
      "GCN acc on unlabled data: 0.6978095663835494\n",
      "attack loss: 1.80060875415802\n"
     ]
    },
    {
     "name": "stderr",
     "output_type": "stream",
     "text": [
      "Perturbing graph:  34%|███▍      | 346/1013 [46:17<1:20:18,  7.22s/it]"
     ]
    },
    {
     "name": "stdout",
     "output_type": "stream",
     "text": [
      "GCN loss on unlabled data: 1.6582592725753784\n",
      "GCN acc on unlabled data: 0.6946803755029056\n",
      "attack loss: 1.773978352546692\n"
     ]
    },
    {
     "name": "stderr",
     "output_type": "stream",
     "text": [
      "Perturbing graph:  34%|███▍      | 347/1013 [46:24<1:20:05,  7.22s/it]"
     ]
    },
    {
     "name": "stdout",
     "output_type": "stream",
     "text": [
      "GCN loss on unlabled data: 1.6786744594573975\n",
      "GCN acc on unlabled data: 0.6781403665623603\n",
      "attack loss: 1.7816179990768433\n"
     ]
    },
    {
     "name": "stderr",
     "output_type": "stream",
     "text": [
      "Perturbing graph:  34%|███▍      | 348/1013 [46:31<1:20:12,  7.24s/it]"
     ]
    },
    {
     "name": "stdout",
     "output_type": "stream",
     "text": [
      "GCN loss on unlabled data: 1.7024106979370117\n",
      "GCN acc on unlabled data: 0.7018328118015199\n",
      "attack loss: 1.8031182289123535\n"
     ]
    },
    {
     "name": "stderr",
     "output_type": "stream",
     "text": [
      "Perturbing graph:  34%|███▍      | 349/1013 [46:38<1:20:23,  7.26s/it]"
     ]
    },
    {
     "name": "stdout",
     "output_type": "stream",
     "text": [
      "GCN loss on unlabled data: 1.8537827730178833\n",
      "GCN acc on unlabled data: 0.6781403665623603\n",
      "attack loss: 1.9765965938568115\n"
     ]
    },
    {
     "name": "stderr",
     "output_type": "stream",
     "text": [
      "Perturbing graph:  35%|███▍      | 350/1013 [46:46<1:20:19,  7.27s/it]"
     ]
    },
    {
     "name": "stdout",
     "output_type": "stream",
     "text": [
      "GCN loss on unlabled data: 1.5855684280395508\n",
      "GCN acc on unlabled data: 0.7036209208761735\n",
      "attack loss: 1.706713318824768\n"
     ]
    },
    {
     "name": "stderr",
     "output_type": "stream",
     "text": [
      "Perturbing graph:  35%|███▍      | 351/1013 [46:53<1:19:49,  7.24s/it]"
     ]
    },
    {
     "name": "stdout",
     "output_type": "stream",
     "text": [
      "GCN loss on unlabled data: 1.6257333755493164\n",
      "GCN acc on unlabled data: 0.705409029950827\n",
      "attack loss: 1.7525427341461182\n"
     ]
    },
    {
     "name": "stderr",
     "output_type": "stream",
     "text": [
      "Perturbing graph:  35%|███▍      | 352/1013 [47:00<1:19:48,  7.24s/it]"
     ]
    },
    {
     "name": "stdout",
     "output_type": "stream",
     "text": [
      "GCN loss on unlabled data: 1.7150390148162842\n",
      "GCN acc on unlabled data: 0.6902101028162718\n",
      "attack loss: 1.8491822481155396\n"
     ]
    },
    {
     "name": "stderr",
     "output_type": "stream",
     "text": [
      "Perturbing graph:  35%|███▍      | 353/1013 [47:08<1:20:05,  7.28s/it]"
     ]
    },
    {
     "name": "stdout",
     "output_type": "stream",
     "text": [
      "GCN loss on unlabled data: 1.8221546411514282\n",
      "GCN acc on unlabled data: 0.683504693786321\n",
      "attack loss: 1.9812901020050049\n"
     ]
    },
    {
     "name": "stderr",
     "output_type": "stream",
     "text": [
      "Perturbing graph:  35%|███▍      | 354/1013 [47:15<1:19:47,  7.27s/it]"
     ]
    },
    {
     "name": "stdout",
     "output_type": "stream",
     "text": [
      "GCN loss on unlabled data: 1.7241690158843994\n",
      "GCN acc on unlabled data: 0.691551184622262\n",
      "attack loss: 1.8526184558868408\n"
     ]
    },
    {
     "name": "stderr",
     "output_type": "stream",
     "text": [
      "Perturbing graph:  35%|███▌      | 355/1013 [47:22<1:19:21,  7.24s/it]"
     ]
    },
    {
     "name": "stdout",
     "output_type": "stream",
     "text": [
      "GCN loss on unlabled data: 1.6695365905761719\n",
      "GCN acc on unlabled data: 0.6982565936522128\n",
      "attack loss: 1.7824516296386719\n"
     ]
    },
    {
     "name": "stderr",
     "output_type": "stream",
     "text": [
      "Perturbing graph:  35%|███▌      | 356/1013 [47:29<1:19:13,  7.24s/it]"
     ]
    },
    {
     "name": "stdout",
     "output_type": "stream",
     "text": [
      "GCN loss on unlabled data: 1.6438294649124146\n",
      "GCN acc on unlabled data: 0.6937863209655789\n",
      "attack loss: 1.7574281692504883\n"
     ]
    },
    {
     "name": "stderr",
     "output_type": "stream",
     "text": [
      "Perturbing graph:  35%|███▌      | 357/1013 [47:36<1:18:49,  7.21s/it]"
     ]
    },
    {
     "name": "stdout",
     "output_type": "stream",
     "text": [
      "GCN loss on unlabled data: 1.7202706336975098\n",
      "GCN acc on unlabled data: 0.7004917299955298\n",
      "attack loss: 1.8522372245788574\n"
     ]
    },
    {
     "name": "stderr",
     "output_type": "stream",
     "text": [
      "Perturbing graph:  35%|███▌      | 358/1013 [47:44<1:18:42,  7.21s/it]"
     ]
    },
    {
     "name": "stdout",
     "output_type": "stream",
     "text": [
      "GCN loss on unlabled data: 1.7014954090118408\n",
      "GCN acc on unlabled data: 0.6879749664729549\n",
      "attack loss: 1.8328977823257446\n"
     ]
    },
    {
     "name": "stderr",
     "output_type": "stream",
     "text": [
      "Perturbing graph:  35%|███▌      | 359/1013 [47:51<1:18:35,  7.21s/it]"
     ]
    },
    {
     "name": "stdout",
     "output_type": "stream",
     "text": [
      "GCN loss on unlabled data: 1.7083278894424438\n",
      "GCN acc on unlabled data: 0.6955744300402324\n",
      "attack loss: 1.8392642736434937\n"
     ]
    },
    {
     "name": "stderr",
     "output_type": "stream",
     "text": [
      "Perturbing graph:  36%|███▌      | 360/1013 [47:58<1:18:23,  7.20s/it]"
     ]
    },
    {
     "name": "stdout",
     "output_type": "stream",
     "text": [
      "GCN loss on unlabled data: 1.7020069360733032\n",
      "GCN acc on unlabled data: 0.6933392936969155\n",
      "attack loss: 1.7844152450561523\n"
     ]
    },
    {
     "name": "stderr",
     "output_type": "stream",
     "text": [
      "Perturbing graph:  36%|███▌      | 361/1013 [48:05<1:18:25,  7.22s/it]"
     ]
    },
    {
     "name": "stdout",
     "output_type": "stream",
     "text": [
      "GCN loss on unlabled data: 1.693591833114624\n",
      "GCN acc on unlabled data: 0.6843987483236478\n",
      "attack loss: 1.8013776540756226\n"
     ]
    },
    {
     "name": "stderr",
     "output_type": "stream",
     "text": [
      "Perturbing graph:  36%|███▌      | 362/1013 [48:12<1:18:32,  7.24s/it]"
     ]
    },
    {
     "name": "stdout",
     "output_type": "stream",
     "text": [
      "GCN loss on unlabled data: 1.6274844408035278\n",
      "GCN acc on unlabled data: 0.7000447027268664\n",
      "attack loss: 1.7548495531082153\n"
     ]
    },
    {
     "name": "stderr",
     "output_type": "stream",
     "text": [
      "Perturbing graph:  36%|███▌      | 363/1013 [48:20<1:18:35,  7.26s/it]"
     ]
    },
    {
     "name": "stdout",
     "output_type": "stream",
     "text": [
      "GCN loss on unlabled data: 1.728055477142334\n",
      "GCN acc on unlabled data: 0.6942333482342423\n",
      "attack loss: 1.7910640239715576\n"
     ]
    },
    {
     "name": "stderr",
     "output_type": "stream",
     "text": [
      "Perturbing graph:  36%|███▌      | 364/1013 [48:27<1:18:29,  7.26s/it]"
     ]
    },
    {
     "name": "stdout",
     "output_type": "stream",
     "text": [
      "GCN loss on unlabled data: 1.6337764263153076\n",
      "GCN acc on unlabled data: 0.6803755029056773\n",
      "attack loss: 1.7031397819519043\n"
     ]
    },
    {
     "name": "stderr",
     "output_type": "stream",
     "text": [
      "Perturbing graph:  36%|███▌      | 365/1013 [48:34<1:18:18,  7.25s/it]"
     ]
    },
    {
     "name": "stdout",
     "output_type": "stream",
     "text": [
      "GCN loss on unlabled data: 1.6993465423583984\n",
      "GCN acc on unlabled data: 0.6857398301296379\n",
      "attack loss: 1.7970993518829346\n"
     ]
    },
    {
     "name": "stderr",
     "output_type": "stream",
     "text": [
      "Perturbing graph:  36%|███▌      | 366/1013 [48:41<1:18:02,  7.24s/it]"
     ]
    },
    {
     "name": "stdout",
     "output_type": "stream",
     "text": [
      "GCN loss on unlabled data: 1.749269962310791\n",
      "GCN acc on unlabled data: 0.6839517210549844\n",
      "attack loss: 1.864546537399292\n"
     ]
    },
    {
     "name": "stderr",
     "output_type": "stream",
     "text": [
      "Perturbing graph:  36%|███▌      | 367/1013 [48:49<1:17:39,  7.21s/it]"
     ]
    },
    {
     "name": "stdout",
     "output_type": "stream",
     "text": [
      "GCN loss on unlabled data: 1.676351547241211\n",
      "GCN acc on unlabled data: 0.6884219937416183\n",
      "attack loss: 1.8018038272857666\n"
     ]
    },
    {
     "name": "stderr",
     "output_type": "stream",
     "text": [
      "Perturbing graph:  36%|███▋      | 368/1013 [48:56<1:17:42,  7.23s/it]"
     ]
    },
    {
     "name": "stdout",
     "output_type": "stream",
     "text": [
      "GCN loss on unlabled data: 1.8015884160995483\n",
      "GCN acc on unlabled data: 0.6902101028162718\n",
      "attack loss: 1.9178683757781982\n"
     ]
    },
    {
     "name": "stderr",
     "output_type": "stream",
     "text": [
      "Perturbing graph:  36%|███▋      | 369/1013 [49:03<1:17:37,  7.23s/it]"
     ]
    },
    {
     "name": "stdout",
     "output_type": "stream",
     "text": [
      "GCN loss on unlabled data: 1.715697169303894\n",
      "GCN acc on unlabled data: 0.6888690210102816\n",
      "attack loss: 1.8233237266540527\n"
     ]
    },
    {
     "name": "stderr",
     "output_type": "stream",
     "text": [
      "Perturbing graph:  37%|███▋      | 370/1013 [49:10<1:17:34,  7.24s/it]"
     ]
    },
    {
     "name": "stdout",
     "output_type": "stream",
     "text": [
      "GCN loss on unlabled data: 1.8175081014633179\n",
      "GCN acc on unlabled data: 0.6848457755923111\n",
      "attack loss: 1.945641040802002\n"
     ]
    },
    {
     "name": "stderr",
     "output_type": "stream",
     "text": [
      "Perturbing graph:  37%|███▋      | 371/1013 [49:18<1:17:49,  7.27s/it]"
     ]
    },
    {
     "name": "stdout",
     "output_type": "stream",
     "text": [
      "GCN loss on unlabled data: 1.763951063156128\n",
      "GCN acc on unlabled data: 0.6884219937416183\n",
      "attack loss: 1.8862932920455933\n"
     ]
    },
    {
     "name": "stderr",
     "output_type": "stream",
     "text": [
      "Perturbing graph:  37%|███▋      | 372/1013 [49:25<1:19:08,  7.41s/it]"
     ]
    },
    {
     "name": "stdout",
     "output_type": "stream",
     "text": [
      "GCN loss on unlabled data: 1.7968494892120361\n",
      "GCN acc on unlabled data: 0.6799284756370139\n",
      "attack loss: 1.9121519327163696\n"
     ]
    },
    {
     "name": "stderr",
     "output_type": "stream",
     "text": [
      "Perturbing graph:  37%|███▋      | 373/1013 [49:33<1:19:05,  7.42s/it]"
     ]
    },
    {
     "name": "stdout",
     "output_type": "stream",
     "text": [
      "GCN loss on unlabled data: 1.771916389465332\n",
      "GCN acc on unlabled data: 0.6852928028609745\n",
      "attack loss: 1.8820310831069946\n"
     ]
    },
    {
     "name": "stderr",
     "output_type": "stream",
     "text": [
      "Perturbing graph:  37%|███▋      | 374/1013 [49:40<1:18:35,  7.38s/it]"
     ]
    },
    {
     "name": "stdout",
     "output_type": "stream",
     "text": [
      "GCN loss on unlabled data: 1.728879690170288\n",
      "GCN acc on unlabled data: 0.6946803755029056\n",
      "attack loss: 1.8730213642120361\n"
     ]
    },
    {
     "name": "stderr",
     "output_type": "stream",
     "text": [
      "Perturbing graph:  37%|███▋      | 375/1013 [49:47<1:17:55,  7.33s/it]"
     ]
    },
    {
     "name": "stdout",
     "output_type": "stream",
     "text": [
      "GCN loss on unlabled data: 1.817553162574768\n",
      "GCN acc on unlabled data: 0.6897630755476084\n",
      "attack loss: 1.9539939165115356\n"
     ]
    },
    {
     "name": "stderr",
     "output_type": "stream",
     "text": [
      "Perturbing graph:  37%|███▋      | 376/1013 [49:55<1:17:56,  7.34s/it]"
     ]
    },
    {
     "name": "stdout",
     "output_type": "stream",
     "text": [
      "GCN loss on unlabled data: 1.8422712087631226\n",
      "GCN acc on unlabled data: 0.673223066607063\n",
      "attack loss: 1.9431066513061523\n"
     ]
    },
    {
     "name": "stderr",
     "output_type": "stream",
     "text": [
      "Perturbing graph:  37%|███▋      | 377/1013 [50:03<1:19:13,  7.47s/it]"
     ]
    },
    {
     "name": "stdout",
     "output_type": "stream",
     "text": [
      "GCN loss on unlabled data: 1.7748318910598755\n",
      "GCN acc on unlabled data: 0.6821636119803308\n",
      "attack loss: 1.886032223701477\n"
     ]
    },
    {
     "name": "stderr",
     "output_type": "stream",
     "text": [
      "Perturbing graph:  37%|███▋      | 378/1013 [50:10<1:18:28,  7.41s/it]"
     ]
    },
    {
     "name": "stdout",
     "output_type": "stream",
     "text": [
      "GCN loss on unlabled data: 1.8819819688796997\n",
      "GCN acc on unlabled data: 0.683504693786321\n",
      "attack loss: 1.9986547231674194\n"
     ]
    },
    {
     "name": "stderr",
     "output_type": "stream",
     "text": [
      "Perturbing graph:  37%|███▋      | 379/1013 [50:17<1:18:07,  7.39s/it]"
     ]
    },
    {
     "name": "stdout",
     "output_type": "stream",
     "text": [
      "GCN loss on unlabled data: 1.8292416334152222\n",
      "GCN acc on unlabled data: 0.6884219937416183\n",
      "attack loss: 1.9622867107391357\n"
     ]
    },
    {
     "name": "stderr",
     "output_type": "stream",
     "text": [
      "Perturbing graph:  38%|███▊      | 380/1013 [50:25<1:17:54,  7.39s/it]"
     ]
    },
    {
     "name": "stdout",
     "output_type": "stream",
     "text": [
      "GCN loss on unlabled data: 1.7159985303878784\n",
      "GCN acc on unlabled data: 0.679034421099687\n",
      "attack loss: 1.80269455909729\n"
     ]
    },
    {
     "name": "stderr",
     "output_type": "stream",
     "text": [
      "Perturbing graph:  38%|███▊      | 381/1013 [50:32<1:17:19,  7.34s/it]"
     ]
    },
    {
     "name": "stdout",
     "output_type": "stream",
     "text": [
      "GCN loss on unlabled data: 1.7875721454620361\n",
      "GCN acc on unlabled data: 0.6852928028609745\n",
      "attack loss: 1.8863701820373535\n"
     ]
    },
    {
     "name": "stderr",
     "output_type": "stream",
     "text": [
      "Perturbing graph:  38%|███▊      | 382/1013 [50:39<1:16:48,  7.30s/it]"
     ]
    },
    {
     "name": "stdout",
     "output_type": "stream",
     "text": [
      "GCN loss on unlabled data: 1.917812466621399\n",
      "GCN acc on unlabled data: 0.6741171211443898\n",
      "attack loss: 2.0521976947784424\n"
     ]
    },
    {
     "name": "stderr",
     "output_type": "stream",
     "text": [
      "Perturbing graph:  38%|███▊      | 383/1013 [50:46<1:16:23,  7.28s/it]"
     ]
    },
    {
     "name": "stdout",
     "output_type": "stream",
     "text": [
      "GCN loss on unlabled data: 1.8198118209838867\n",
      "GCN acc on unlabled data: 0.6767992847563702\n",
      "attack loss: 1.9268652200698853\n"
     ]
    },
    {
     "name": "stderr",
     "output_type": "stream",
     "text": [
      "Perturbing graph:  38%|███▊      | 384/1013 [50:53<1:16:18,  7.28s/it]"
     ]
    },
    {
     "name": "stdout",
     "output_type": "stream",
     "text": [
      "GCN loss on unlabled data: 1.7949059009552002\n",
      "GCN acc on unlabled data: 0.6987036209208761\n",
      "attack loss: 1.960219144821167\n"
     ]
    },
    {
     "name": "stderr",
     "output_type": "stream",
     "text": [
      "Perturbing graph:  38%|███▊      | 385/1013 [51:01<1:16:14,  7.28s/it]"
     ]
    },
    {
     "name": "stdout",
     "output_type": "stream",
     "text": [
      "GCN loss on unlabled data: 1.816657543182373\n",
      "GCN acc on unlabled data: 0.6745641484130532\n",
      "attack loss: 1.9412615299224854\n"
     ]
    },
    {
     "name": "stderr",
     "output_type": "stream",
     "text": [
      "Perturbing graph:  38%|███▊      | 386/1013 [51:08<1:15:58,  7.27s/it]"
     ]
    },
    {
     "name": "stdout",
     "output_type": "stream",
     "text": [
      "GCN loss on unlabled data: 1.77987802028656\n",
      "GCN acc on unlabled data: 0.6665176575771122\n",
      "attack loss: 1.8870906829833984\n"
     ]
    },
    {
     "name": "stderr",
     "output_type": "stream",
     "text": [
      "Perturbing graph:  38%|███▊      | 387/1013 [51:15<1:15:52,  7.27s/it]"
     ]
    },
    {
     "name": "stdout",
     "output_type": "stream",
     "text": [
      "GCN loss on unlabled data: 1.902633786201477\n",
      "GCN acc on unlabled data: 0.6736700938757264\n",
      "attack loss: 2.0083062648773193\n"
     ]
    },
    {
     "name": "stderr",
     "output_type": "stream",
     "text": [
      "Perturbing graph:  38%|███▊      | 388/1013 [51:22<1:15:29,  7.25s/it]"
     ]
    },
    {
     "name": "stdout",
     "output_type": "stream",
     "text": [
      "GCN loss on unlabled data: 1.8750990629196167\n",
      "GCN acc on unlabled data: 0.673223066607063\n",
      "attack loss: 1.9839576482772827\n"
     ]
    },
    {
     "name": "stderr",
     "output_type": "stream",
     "text": [
      "Perturbing graph:  38%|███▊      | 389/1013 [51:30<1:15:53,  7.30s/it]"
     ]
    },
    {
     "name": "stdout",
     "output_type": "stream",
     "text": [
      "GCN loss on unlabled data: 1.8053468465805054\n",
      "GCN acc on unlabled data: 0.6848457755923111\n",
      "attack loss: 1.9287981986999512\n"
     ]
    },
    {
     "name": "stderr",
     "output_type": "stream",
     "text": [
      "Perturbing graph:  38%|███▊      | 390/1013 [51:37<1:15:19,  7.25s/it]"
     ]
    },
    {
     "name": "stdout",
     "output_type": "stream",
     "text": [
      "GCN loss on unlabled data: 1.7811155319213867\n",
      "GCN acc on unlabled data: 0.6781403665623603\n",
      "attack loss: 1.921203851699829\n"
     ]
    },
    {
     "name": "stderr",
     "output_type": "stream",
     "text": [
      "Perturbing graph:  39%|███▊      | 391/1013 [51:44<1:15:27,  7.28s/it]"
     ]
    },
    {
     "name": "stdout",
     "output_type": "stream",
     "text": [
      "GCN loss on unlabled data: 1.8095730543136597\n",
      "GCN acc on unlabled data: 0.6884219937416183\n",
      "attack loss: 1.9541499614715576\n"
     ]
    },
    {
     "name": "stderr",
     "output_type": "stream",
     "text": [
      "Perturbing graph:  39%|███▊      | 392/1013 [51:52<1:15:14,  7.27s/it]"
     ]
    },
    {
     "name": "stdout",
     "output_type": "stream",
     "text": [
      "GCN loss on unlabled data: 1.8343980312347412\n",
      "GCN acc on unlabled data: 0.6745641484130532\n",
      "attack loss: 1.9591295719146729\n"
     ]
    },
    {
     "name": "stderr",
     "output_type": "stream",
     "text": [
      "Perturbing graph:  39%|███▉      | 393/1013 [51:59<1:14:49,  7.24s/it]"
     ]
    },
    {
     "name": "stdout",
     "output_type": "stream",
     "text": [
      "GCN loss on unlabled data: 1.7649433612823486\n",
      "GCN acc on unlabled data: 0.6884219937416183\n",
      "attack loss: 1.88789701461792\n"
     ]
    },
    {
     "name": "stderr",
     "output_type": "stream",
     "text": [
      "Perturbing graph:  39%|███▉      | 394/1013 [52:06<1:14:33,  7.23s/it]"
     ]
    },
    {
     "name": "stdout",
     "output_type": "stream",
     "text": [
      "GCN loss on unlabled data: 1.8075478076934814\n",
      "GCN acc on unlabled data: 0.6817165847116674\n",
      "attack loss: 1.9051250219345093\n"
     ]
    },
    {
     "name": "stderr",
     "output_type": "stream",
     "text": [
      "Perturbing graph:  39%|███▉      | 395/1013 [52:13<1:14:52,  7.27s/it]"
     ]
    },
    {
     "name": "stdout",
     "output_type": "stream",
     "text": [
      "GCN loss on unlabled data: 1.8950579166412354\n",
      "GCN acc on unlabled data: 0.670987930263746\n",
      "attack loss: 2.0362396240234375\n"
     ]
    },
    {
     "name": "stderr",
     "output_type": "stream",
     "text": [
      "Perturbing graph:  39%|███▉      | 396/1013 [52:21<1:14:40,  7.26s/it]"
     ]
    },
    {
     "name": "stdout",
     "output_type": "stream",
     "text": [
      "GCN loss on unlabled data: 1.7479013204574585\n",
      "GCN acc on unlabled data: 0.6843987483236478\n",
      "attack loss: 1.8542287349700928\n"
     ]
    },
    {
     "name": "stderr",
     "output_type": "stream",
     "text": [
      "Perturbing graph:  39%|███▉      | 397/1013 [52:28<1:14:22,  7.25s/it]"
     ]
    },
    {
     "name": "stdout",
     "output_type": "stream",
     "text": [
      "GCN loss on unlabled data: 1.7886550426483154\n",
      "GCN acc on unlabled data: 0.67545820295038\n",
      "attack loss: 1.9335612058639526\n"
     ]
    },
    {
     "name": "stderr",
     "output_type": "stream",
     "text": [
      "Perturbing graph:  39%|███▉      | 398/1013 [52:37<1:18:40,  7.67s/it]"
     ]
    },
    {
     "name": "stdout",
     "output_type": "stream",
     "text": [
      "GCN loss on unlabled data: 1.821743369102478\n",
      "GCN acc on unlabled data: 0.6866338846669647\n",
      "attack loss: 1.9669245481491089\n"
     ]
    },
    {
     "name": "stderr",
     "output_type": "stream",
     "text": [
      "Perturbing graph:  39%|███▉      | 399/1013 [52:45<1:21:24,  7.95s/it]"
     ]
    },
    {
     "name": "stdout",
     "output_type": "stream",
     "text": [
      "GCN loss on unlabled data: 1.7566602230072021\n",
      "GCN acc on unlabled data: 0.6763522574877068\n",
      "attack loss: 1.9031987190246582\n"
     ]
    },
    {
     "name": "stderr",
     "output_type": "stream",
     "text": [
      "Perturbing graph:  39%|███▉      | 400/1013 [52:53<1:22:31,  8.08s/it]"
     ]
    },
    {
     "name": "stdout",
     "output_type": "stream",
     "text": [
      "GCN loss on unlabled data: 1.8943636417388916\n",
      "GCN acc on unlabled data: 0.6700938757264193\n",
      "attack loss: 2.0281920433044434\n"
     ]
    },
    {
     "name": "stderr",
     "output_type": "stream",
     "text": [
      "Perturbing graph:  40%|███▉      | 401/1013 [53:02<1:22:40,  8.11s/it]"
     ]
    },
    {
     "name": "stdout",
     "output_type": "stream",
     "text": [
      "GCN loss on unlabled data: 1.8423373699188232\n",
      "GCN acc on unlabled data: 0.6759052302190434\n",
      "attack loss: 1.9605945348739624\n"
     ]
    },
    {
     "name": "stderr",
     "output_type": "stream",
     "text": [
      "Perturbing graph:  40%|███▉      | 402/1013 [53:10<1:22:31,  8.10s/it]"
     ]
    },
    {
     "name": "stdout",
     "output_type": "stream",
     "text": [
      "GCN loss on unlabled data: 1.8171135187149048\n",
      "GCN acc on unlabled data: 0.6781403665623603\n",
      "attack loss: 1.9474974870681763\n"
     ]
    },
    {
     "name": "stderr",
     "output_type": "stream",
     "text": [
      "Perturbing graph:  40%|███▉      | 403/1013 [53:18<1:22:15,  8.09s/it]"
     ]
    },
    {
     "name": "stdout",
     "output_type": "stream",
     "text": [
      "GCN loss on unlabled data: 1.907918930053711\n",
      "GCN acc on unlabled data: 0.6629414394278051\n",
      "attack loss: 2.0374057292938232\n"
     ]
    },
    {
     "name": "stderr",
     "output_type": "stream",
     "text": [
      "Perturbing graph:  40%|███▉      | 404/1013 [53:26<1:21:12,  8.00s/it]"
     ]
    },
    {
     "name": "stdout",
     "output_type": "stream",
     "text": [
      "GCN loss on unlabled data: 1.728298544883728\n",
      "GCN acc on unlabled data: 0.6879749664729549\n",
      "attack loss: 1.8351329565048218\n"
     ]
    },
    {
     "name": "stderr",
     "output_type": "stream",
     "text": [
      "Perturbing graph:  40%|███▉      | 405/1013 [53:34<1:20:56,  7.99s/it]"
     ]
    },
    {
     "name": "stdout",
     "output_type": "stream",
     "text": [
      "GCN loss on unlabled data: 1.944770097732544\n",
      "GCN acc on unlabled data: 0.6718819848010729\n",
      "attack loss: 2.0898618698120117\n"
     ]
    },
    {
     "name": "stderr",
     "output_type": "stream",
     "text": [
      "Perturbing graph:  40%|████      | 406/1013 [53:41<1:19:57,  7.90s/it]"
     ]
    },
    {
     "name": "stdout",
     "output_type": "stream",
     "text": [
      "GCN loss on unlabled data: 1.754317283630371\n",
      "GCN acc on unlabled data: 0.6897630755476084\n",
      "attack loss: 1.8809481859207153\n"
     ]
    },
    {
     "name": "stderr",
     "output_type": "stream",
     "text": [
      "Perturbing graph:  40%|████      | 407/1013 [53:49<1:19:22,  7.86s/it]"
     ]
    },
    {
     "name": "stdout",
     "output_type": "stream",
     "text": [
      "GCN loss on unlabled data: 1.88247549533844\n",
      "GCN acc on unlabled data: 0.6772463120250335\n",
      "attack loss: 1.998539686203003\n"
     ]
    },
    {
     "name": "stderr",
     "output_type": "stream",
     "text": [
      "Perturbing graph:  40%|████      | 408/1013 [53:57<1:18:40,  7.80s/it]"
     ]
    },
    {
     "name": "stdout",
     "output_type": "stream",
     "text": [
      "GCN loss on unlabled data: 1.8276503086090088\n",
      "GCN acc on unlabled data: 0.6772463120250335\n",
      "attack loss: 1.9666967391967773\n"
     ]
    },
    {
     "name": "stderr",
     "output_type": "stream",
     "text": [
      "Perturbing graph:  40%|████      | 409/1013 [54:04<1:18:16,  7.78s/it]"
     ]
    },
    {
     "name": "stdout",
     "output_type": "stream",
     "text": [
      "GCN loss on unlabled data: 1.792572259902954\n",
      "GCN acc on unlabled data: 0.6852928028609745\n",
      "attack loss: 1.892524003982544\n"
     ]
    },
    {
     "name": "stderr",
     "output_type": "stream",
     "text": [
      "Perturbing graph:  40%|████      | 410/1013 [54:12<1:17:35,  7.72s/it]"
     ]
    },
    {
     "name": "stdout",
     "output_type": "stream",
     "text": [
      "GCN loss on unlabled data: 1.8997421264648438\n",
      "GCN acc on unlabled data: 0.6678587393831024\n",
      "attack loss: 2.0217010974884033\n"
     ]
    },
    {
     "name": "stderr",
     "output_type": "stream",
     "text": [
      "Perturbing graph:  41%|████      | 411/1013 [54:20<1:17:40,  7.74s/it]"
     ]
    },
    {
     "name": "stdout",
     "output_type": "stream",
     "text": [
      "GCN loss on unlabled data: 1.9180126190185547\n",
      "GCN acc on unlabled data: 0.6683057666517658\n",
      "attack loss: 2.0434300899505615\n"
     ]
    },
    {
     "name": "stderr",
     "output_type": "stream",
     "text": [
      "Perturbing graph:  41%|████      | 412/1013 [54:27<1:17:11,  7.71s/it]"
     ]
    },
    {
     "name": "stdout",
     "output_type": "stream",
     "text": [
      "GCN loss on unlabled data: 1.8574491739273071\n",
      "GCN acc on unlabled data: 0.6718819848010729\n",
      "attack loss: 1.9731547832489014\n"
     ]
    },
    {
     "name": "stderr",
     "output_type": "stream",
     "text": [
      "Perturbing graph:  41%|████      | 413/1013 [54:35<1:17:08,  7.71s/it]"
     ]
    },
    {
     "name": "stdout",
     "output_type": "stream",
     "text": [
      "GCN loss on unlabled data: 1.9254356622695923\n",
      "GCN acc on unlabled data: 0.6696468484577559\n",
      "attack loss: 2.027387857437134\n"
     ]
    },
    {
     "name": "stderr",
     "output_type": "stream",
     "text": [
      "Perturbing graph:  41%|████      | 414/1013 [54:43<1:16:59,  7.71s/it]"
     ]
    },
    {
     "name": "stdout",
     "output_type": "stream",
     "text": [
      "GCN loss on unlabled data: 1.9314391613006592\n",
      "GCN acc on unlabled data: 0.6691998211890925\n",
      "attack loss: 2.044543504714966\n"
     ]
    },
    {
     "name": "stderr",
     "output_type": "stream",
     "text": [
      "Perturbing graph:  41%|████      | 415/1013 [54:51<1:16:48,  7.71s/it]"
     ]
    },
    {
     "name": "stdout",
     "output_type": "stream",
     "text": [
      "GCN loss on unlabled data: 1.8728950023651123\n",
      "GCN acc on unlabled data: 0.6642825212337953\n",
      "attack loss: 1.97100830078125\n"
     ]
    },
    {
     "name": "stderr",
     "output_type": "stream",
     "text": [
      "Perturbing graph:  41%|████      | 416/1013 [54:58<1:16:46,  7.72s/it]"
     ]
    },
    {
     "name": "stdout",
     "output_type": "stream",
     "text": [
      "GCN loss on unlabled data: 1.9274141788482666\n",
      "GCN acc on unlabled data: 0.6705409029950827\n",
      "attack loss: 2.0482985973358154\n"
     ]
    },
    {
     "name": "stderr",
     "output_type": "stream",
     "text": [
      "Perturbing graph:  41%|████      | 417/1013 [55:06<1:16:42,  7.72s/it]"
     ]
    },
    {
     "name": "stdout",
     "output_type": "stream",
     "text": [
      "GCN loss on unlabled data: 1.8399286270141602\n",
      "GCN acc on unlabled data: 0.6741171211443898\n",
      "attack loss: 1.9563205242156982\n"
     ]
    },
    {
     "name": "stderr",
     "output_type": "stream",
     "text": [
      "Perturbing graph:  41%|████▏     | 418/1013 [55:14<1:16:45,  7.74s/it]"
     ]
    },
    {
     "name": "stdout",
     "output_type": "stream",
     "text": [
      "GCN loss on unlabled data: 1.9100877046585083\n",
      "GCN acc on unlabled data: 0.6696468484577559\n",
      "attack loss: 2.0191776752471924\n"
     ]
    },
    {
     "name": "stderr",
     "output_type": "stream",
     "text": [
      "Perturbing graph:  41%|████▏     | 419/1013 [55:22<1:16:57,  7.77s/it]"
     ]
    },
    {
     "name": "stdout",
     "output_type": "stream",
     "text": [
      "GCN loss on unlabled data: 1.947595238685608\n",
      "GCN acc on unlabled data: 0.6705409029950827\n",
      "attack loss: 2.0945487022399902\n"
     ]
    },
    {
     "name": "stderr",
     "output_type": "stream",
     "text": [
      "Perturbing graph:  41%|████▏     | 420/1013 [55:30<1:17:48,  7.87s/it]"
     ]
    },
    {
     "name": "stdout",
     "output_type": "stream",
     "text": [
      "GCN loss on unlabled data: 1.9179211854934692\n",
      "GCN acc on unlabled data: 0.67545820295038\n",
      "attack loss: 2.06853985786438\n"
     ]
    },
    {
     "name": "stderr",
     "output_type": "stream",
     "text": [
      "Perturbing graph:  42%|████▏     | 421/1013 [55:37<1:17:12,  7.83s/it]"
     ]
    },
    {
     "name": "stdout",
     "output_type": "stream",
     "text": [
      "GCN loss on unlabled data: 1.8751276731491089\n",
      "GCN acc on unlabled data: 0.6718819848010729\n",
      "attack loss: 2.0214874744415283\n"
     ]
    },
    {
     "name": "stderr",
     "output_type": "stream",
     "text": [
      "Perturbing graph:  42%|████▏     | 422/1013 [55:45<1:17:26,  7.86s/it]"
     ]
    },
    {
     "name": "stdout",
     "output_type": "stream",
     "text": [
      "GCN loss on unlabled data: 1.934278964996338\n",
      "GCN acc on unlabled data: 0.665176575771122\n",
      "attack loss: 2.063736915588379\n"
     ]
    },
    {
     "name": "stderr",
     "output_type": "stream",
     "text": [
      "Perturbing graph:  42%|████▏     | 423/1013 [55:53<1:17:23,  7.87s/it]"
     ]
    },
    {
     "name": "stdout",
     "output_type": "stream",
     "text": [
      "GCN loss on unlabled data: 1.6675927639007568\n",
      "GCN acc on unlabled data: 0.6759052302190434\n",
      "attack loss: 1.748491883277893\n"
     ]
    },
    {
     "name": "stderr",
     "output_type": "stream",
     "text": [
      "Perturbing graph:  42%|████▏     | 424/1013 [56:02<1:18:17,  7.98s/it]"
     ]
    },
    {
     "name": "stdout",
     "output_type": "stream",
     "text": [
      "GCN loss on unlabled data: 1.949091911315918\n",
      "GCN acc on unlabled data: 0.667411712114439\n",
      "attack loss: 2.0606184005737305\n"
     ]
    },
    {
     "name": "stderr",
     "output_type": "stream",
     "text": [
      "Perturbing graph:  42%|████▏     | 425/1013 [56:09<1:17:41,  7.93s/it]"
     ]
    },
    {
     "name": "stdout",
     "output_type": "stream",
     "text": [
      "GCN loss on unlabled data: 1.969204068183899\n",
      "GCN acc on unlabled data: 0.6665176575771122\n",
      "attack loss: 2.1399073600769043\n"
     ]
    },
    {
     "name": "stderr",
     "output_type": "stream",
     "text": [
      "Perturbing graph:  42%|████▏     | 426/1013 [56:17<1:17:13,  7.89s/it]"
     ]
    },
    {
     "name": "stdout",
     "output_type": "stream",
     "text": [
      "GCN loss on unlabled data: 1.9331177473068237\n",
      "GCN acc on unlabled data: 0.6486365668305767\n",
      "attack loss: 2.0608279705047607\n"
     ]
    },
    {
     "name": "stderr",
     "output_type": "stream",
     "text": [
      "Perturbing graph:  42%|████▏     | 427/1013 [56:25<1:16:23,  7.82s/it]"
     ]
    },
    {
     "name": "stdout",
     "output_type": "stream",
     "text": [
      "GCN loss on unlabled data: 1.8578909635543823\n",
      "GCN acc on unlabled data: 0.659365221278498\n",
      "attack loss: 1.9876729249954224\n"
     ]
    },
    {
     "name": "stderr",
     "output_type": "stream",
     "text": [
      "Perturbing graph:  42%|████▏     | 428/1013 [56:33<1:16:06,  7.81s/it]"
     ]
    },
    {
     "name": "stdout",
     "output_type": "stream",
     "text": [
      "GCN loss on unlabled data: 1.8905819654464722\n",
      "GCN acc on unlabled data: 0.6624944121591417\n",
      "attack loss: 2.026965379714966\n"
     ]
    },
    {
     "name": "stderr",
     "output_type": "stream",
     "text": [
      "Perturbing graph:  42%|████▏     | 429/1013 [56:40<1:16:01,  7.81s/it]"
     ]
    },
    {
     "name": "stdout",
     "output_type": "stream",
     "text": [
      "GCN loss on unlabled data: 1.7643805742263794\n",
      "GCN acc on unlabled data: 0.6700938757264193\n",
      "attack loss: 1.8753963708877563\n"
     ]
    },
    {
     "name": "stderr",
     "output_type": "stream",
     "text": [
      "Perturbing graph:  42%|████▏     | 430/1013 [56:48<1:15:39,  7.79s/it]"
     ]
    },
    {
     "name": "stdout",
     "output_type": "stream",
     "text": [
      "GCN loss on unlabled data: 1.8214683532714844\n",
      "GCN acc on unlabled data: 0.6638354939651319\n",
      "attack loss: 1.9302177429199219\n"
     ]
    },
    {
     "name": "stderr",
     "output_type": "stream",
     "text": [
      "Perturbing graph:  43%|████▎     | 431/1013 [56:56<1:15:11,  7.75s/it]"
     ]
    },
    {
     "name": "stdout",
     "output_type": "stream",
     "text": [
      "GCN loss on unlabled data: 1.9238964319229126\n",
      "GCN acc on unlabled data: 0.6633884666964684\n",
      "attack loss: 2.0534098148345947\n"
     ]
    },
    {
     "name": "stderr",
     "output_type": "stream",
     "text": [
      "Perturbing graph:  43%|████▎     | 432/1013 [57:04<1:14:52,  7.73s/it]"
     ]
    },
    {
     "name": "stdout",
     "output_type": "stream",
     "text": [
      "GCN loss on unlabled data: 2.022285223007202\n",
      "GCN acc on unlabled data: 0.651318730442557\n",
      "attack loss: 2.1575069427490234\n"
     ]
    },
    {
     "name": "stderr",
     "output_type": "stream",
     "text": [
      "Perturbing graph:  43%|████▎     | 433/1013 [57:11<1:14:51,  7.74s/it]"
     ]
    },
    {
     "name": "stdout",
     "output_type": "stream",
     "text": [
      "GCN loss on unlabled data: 1.790611982345581\n",
      "GCN acc on unlabled data: 0.6638354939651319\n",
      "attack loss: 1.887291669845581\n"
     ]
    },
    {
     "name": "stderr",
     "output_type": "stream",
     "text": [
      "Perturbing graph:  43%|████▎     | 434/1013 [57:19<1:14:33,  7.73s/it]"
     ]
    },
    {
     "name": "stdout",
     "output_type": "stream",
     "text": [
      "GCN loss on unlabled data: 1.9528447389602661\n",
      "GCN acc on unlabled data: 0.659365221278498\n",
      "attack loss: 2.084547996520996\n"
     ]
    },
    {
     "name": "stderr",
     "output_type": "stream",
     "text": [
      "Perturbing graph:  43%|████▎     | 435/1013 [57:27<1:14:25,  7.73s/it]"
     ]
    },
    {
     "name": "stdout",
     "output_type": "stream",
     "text": [
      "GCN loss on unlabled data: 1.8420287370681763\n",
      "GCN acc on unlabled data: 0.673223066607063\n",
      "attack loss: 1.9487814903259277\n"
     ]
    },
    {
     "name": "stderr",
     "output_type": "stream",
     "text": [
      "Perturbing graph:  43%|████▎     | 436/1013 [57:34<1:14:21,  7.73s/it]"
     ]
    },
    {
     "name": "stdout",
     "output_type": "stream",
     "text": [
      "GCN loss on unlabled data: 2.0568039417266846\n",
      "GCN acc on unlabled data: 0.6401430487259723\n",
      "attack loss: 2.198342800140381\n"
     ]
    },
    {
     "name": "stderr",
     "output_type": "stream",
     "text": [
      "Perturbing graph:  43%|████▎     | 437/1013 [57:43<1:16:05,  7.93s/it]"
     ]
    },
    {
     "name": "stdout",
     "output_type": "stream",
     "text": [
      "GCN loss on unlabled data: 1.8721305131912231\n",
      "GCN acc on unlabled data: 0.6548949485918641\n",
      "attack loss: 1.9630346298217773\n"
     ]
    },
    {
     "name": "stderr",
     "output_type": "stream",
     "text": [
      "Perturbing graph:  43%|████▎     | 438/1013 [57:51<1:17:08,  8.05s/it]"
     ]
    },
    {
     "name": "stdout",
     "output_type": "stream",
     "text": [
      "GCN loss on unlabled data: 1.8987799882888794\n",
      "GCN acc on unlabled data: 0.6638354939651319\n",
      "attack loss: 2.0392768383026123\n"
     ]
    },
    {
     "name": "stderr",
     "output_type": "stream",
     "text": [
      "Perturbing graph:  43%|████▎     | 439/1013 [57:59<1:16:18,  7.98s/it]"
     ]
    },
    {
     "name": "stdout",
     "output_type": "stream",
     "text": [
      "GCN loss on unlabled data: 1.8614835739135742\n",
      "GCN acc on unlabled data: 0.6633884666964684\n",
      "attack loss: 1.99163019657135\n"
     ]
    },
    {
     "name": "stderr",
     "output_type": "stream",
     "text": [
      "Perturbing graph:  43%|████▎     | 440/1013 [58:07<1:16:54,  8.05s/it]"
     ]
    },
    {
     "name": "stdout",
     "output_type": "stream",
     "text": [
      "GCN loss on unlabled data: 1.8545316457748413\n",
      "GCN acc on unlabled data: 0.6517657577112204\n",
      "attack loss: 1.9508464336395264\n"
     ]
    },
    {
     "name": "stderr",
     "output_type": "stream",
     "text": [
      "Perturbing graph:  44%|████▎     | 441/1013 [58:16<1:17:36,  8.14s/it]"
     ]
    },
    {
     "name": "stdout",
     "output_type": "stream",
     "text": [
      "GCN loss on unlabled data: 1.927869439125061\n",
      "GCN acc on unlabled data: 0.6638354939651319\n",
      "attack loss: 2.047865629196167\n"
     ]
    },
    {
     "name": "stderr",
     "output_type": "stream",
     "text": [
      "Perturbing graph:  44%|████▎     | 442/1013 [58:24<1:17:54,  8.19s/it]"
     ]
    },
    {
     "name": "stdout",
     "output_type": "stream",
     "text": [
      "GCN loss on unlabled data: 1.990307331085205\n",
      "GCN acc on unlabled data: 0.6580241394725078\n",
      "attack loss: 2.1262757778167725\n"
     ]
    },
    {
     "name": "stderr",
     "output_type": "stream",
     "text": [
      "Perturbing graph:  44%|████▎     | 443/1013 [58:32<1:16:48,  8.08s/it]"
     ]
    },
    {
     "name": "stdout",
     "output_type": "stream",
     "text": [
      "GCN loss on unlabled data: 2.002723455429077\n",
      "GCN acc on unlabled data: 0.6401430487259723\n",
      "attack loss: 2.097877025604248\n"
     ]
    },
    {
     "name": "stderr",
     "output_type": "stream",
     "text": [
      "Perturbing graph:  44%|████▍     | 444/1013 [58:39<1:15:20,  7.95s/it]"
     ]
    },
    {
     "name": "stdout",
     "output_type": "stream",
     "text": [
      "GCN loss on unlabled data: 1.995426058769226\n",
      "GCN acc on unlabled data: 0.6414841305319624\n",
      "attack loss: 2.0834848880767822\n"
     ]
    },
    {
     "name": "stderr",
     "output_type": "stream",
     "text": [
      "Perturbing graph:  44%|████▍     | 445/1013 [58:47<1:14:27,  7.87s/it]"
     ]
    },
    {
     "name": "stdout",
     "output_type": "stream",
     "text": [
      "GCN loss on unlabled data: 2.0349981784820557\n",
      "GCN acc on unlabled data: 0.6379079123826553\n",
      "attack loss: 2.1681909561157227\n"
     ]
    },
    {
     "name": "stderr",
     "output_type": "stream",
     "text": [
      "Perturbing graph:  44%|████▍     | 446/1013 [58:55<1:13:44,  7.80s/it]"
     ]
    },
    {
     "name": "stdout",
     "output_type": "stream",
     "text": [
      "GCN loss on unlabled data: 2.028355121612549\n",
      "GCN acc on unlabled data: 0.6459544032185963\n",
      "attack loss: 2.187286853790283\n"
     ]
    },
    {
     "name": "stderr",
     "output_type": "stream",
     "text": [
      "Perturbing graph:  44%|████▍     | 447/1013 [59:02<1:13:27,  7.79s/it]"
     ]
    },
    {
     "name": "stdout",
     "output_type": "stream",
     "text": [
      "GCN loss on unlabled data: 1.7931842803955078\n",
      "GCN acc on unlabled data: 0.6656236030397854\n",
      "attack loss: 1.879086971282959\n"
     ]
    },
    {
     "name": "stderr",
     "output_type": "stream",
     "text": [
      "Perturbing graph:  44%|████▍     | 448/1013 [59:10<1:13:15,  7.78s/it]"
     ]
    },
    {
     "name": "stdout",
     "output_type": "stream",
     "text": [
      "GCN loss on unlabled data: 1.8875926733016968\n",
      "GCN acc on unlabled data: 0.6607063030844882\n",
      "attack loss: 1.9825130701065063\n"
     ]
    },
    {
     "name": "stderr",
     "output_type": "stream",
     "text": [
      "Perturbing graph:  44%|████▍     | 449/1013 [59:18<1:13:03,  7.77s/it]"
     ]
    },
    {
     "name": "stdout",
     "output_type": "stream",
     "text": [
      "GCN loss on unlabled data: 1.9313130378723145\n",
      "GCN acc on unlabled data: 0.6616003576218149\n",
      "attack loss: 2.062981367111206\n"
     ]
    },
    {
     "name": "stderr",
     "output_type": "stream",
     "text": [
      "Perturbing graph:  44%|████▍     | 450/1013 [59:26<1:12:53,  7.77s/it]"
     ]
    },
    {
     "name": "stdout",
     "output_type": "stream",
     "text": [
      "GCN loss on unlabled data: 1.9993126392364502\n",
      "GCN acc on unlabled data: 0.6504246759052302\n",
      "attack loss: 2.128694772720337\n"
     ]
    },
    {
     "name": "stderr",
     "output_type": "stream",
     "text": [
      "Perturbing graph:  45%|████▍     | 451/1013 [59:33<1:12:52,  7.78s/it]"
     ]
    },
    {
     "name": "stdout",
     "output_type": "stream",
     "text": [
      "GCN loss on unlabled data: 2.092205286026001\n",
      "GCN acc on unlabled data: 0.6423781850692892\n",
      "attack loss: 2.2316033840179443\n"
     ]
    },
    {
     "name": "stderr",
     "output_type": "stream",
     "text": [
      "Perturbing graph:  45%|████▍     | 452/1013 [59:42<1:14:10,  7.93s/it]"
     ]
    },
    {
     "name": "stdout",
     "output_type": "stream",
     "text": [
      "GCN loss on unlabled data: 1.9239628314971924\n",
      "GCN acc on unlabled data: 0.6361198033080018\n",
      "attack loss: 2.028353452682495\n"
     ]
    },
    {
     "name": "stderr",
     "output_type": "stream",
     "text": [
      "Perturbing graph:  45%|████▍     | 453/1013 [59:50<1:13:36,  7.89s/it]"
     ]
    },
    {
     "name": "stdout",
     "output_type": "stream",
     "text": [
      "GCN loss on unlabled data: 1.8698503971099854\n",
      "GCN acc on unlabled data: 0.6598122485471614\n",
      "attack loss: 1.9872376918792725\n"
     ]
    },
    {
     "name": "stderr",
     "output_type": "stream",
     "text": [
      "Perturbing graph:  45%|████▍     | 454/1013 [59:58<1:14:43,  8.02s/it]"
     ]
    },
    {
     "name": "stdout",
     "output_type": "stream",
     "text": [
      "GCN loss on unlabled data: 2.028247833251953\n",
      "GCN acc on unlabled data: 0.6392489941886456\n",
      "attack loss: 2.1361546516418457\n"
     ]
    },
    {
     "name": "stderr",
     "output_type": "stream",
     "text": [
      "Perturbing graph:  45%|████▍     | 455/1013 [1:00:06<1:15:11,  8.09s/it]"
     ]
    },
    {
     "name": "stdout",
     "output_type": "stream",
     "text": [
      "GCN loss on unlabled data: 2.072636127471924\n",
      "GCN acc on unlabled data: 0.6329906124273581\n",
      "attack loss: 2.206631898880005\n"
     ]
    },
    {
     "name": "stderr",
     "output_type": "stream",
     "text": [
      "Perturbing graph:  45%|████▌     | 456/1013 [1:00:15<1:16:19,  8.22s/it]"
     ]
    },
    {
     "name": "stdout",
     "output_type": "stream",
     "text": [
      "GCN loss on unlabled data: 1.9112240076065063\n",
      "GCN acc on unlabled data: 0.6526598122485472\n",
      "attack loss: 2.0323760509490967\n"
     ]
    },
    {
     "name": "stderr",
     "output_type": "stream",
     "text": [
      "Perturbing graph:  45%|████▌     | 457/1013 [1:00:22<1:15:10,  8.11s/it]"
     ]
    },
    {
     "name": "stdout",
     "output_type": "stream",
     "text": [
      "GCN loss on unlabled data: 1.9091264009475708\n",
      "GCN acc on unlabled data: 0.6338846669646848\n",
      "attack loss: 1.9986391067504883\n"
     ]
    },
    {
     "name": "stderr",
     "output_type": "stream",
     "text": [
      "Perturbing graph:  45%|████▌     | 458/1013 [1:00:30<1:14:00,  8.00s/it]"
     ]
    },
    {
     "name": "stdout",
     "output_type": "stream",
     "text": [
      "GCN loss on unlabled data: 1.8052736520767212\n",
      "GCN acc on unlabled data: 0.6446133214126062\n",
      "attack loss: 1.8818367719650269\n"
     ]
    },
    {
     "name": "stderr",
     "output_type": "stream",
     "text": [
      "Perturbing graph:  45%|████▌     | 459/1013 [1:00:38<1:13:16,  7.94s/it]"
     ]
    },
    {
     "name": "stdout",
     "output_type": "stream",
     "text": [
      "GCN loss on unlabled data: 1.8966164588928223\n",
      "GCN acc on unlabled data: 0.6584711667411712\n",
      "attack loss: 2.039121389389038\n"
     ]
    },
    {
     "name": "stderr",
     "output_type": "stream",
     "text": [
      "Perturbing graph:  45%|████▌     | 460/1013 [1:00:46<1:12:42,  7.89s/it]"
     ]
    },
    {
     "name": "stdout",
     "output_type": "stream",
     "text": [
      "GCN loss on unlabled data: 2.028897762298584\n",
      "GCN acc on unlabled data: 0.6432722396066161\n",
      "attack loss: 2.1601595878601074\n"
     ]
    },
    {
     "name": "stderr",
     "output_type": "stream",
     "text": [
      "Perturbing graph:  46%|████▌     | 461/1013 [1:00:54<1:12:24,  7.87s/it]"
     ]
    },
    {
     "name": "stdout",
     "output_type": "stream",
     "text": [
      "GCN loss on unlabled data: 1.852329134941101\n",
      "GCN acc on unlabled data: 0.6428252123379526\n",
      "attack loss: 1.9581001996994019\n"
     ]
    },
    {
     "name": "stderr",
     "output_type": "stream",
     "text": [
      "Perturbing graph:  46%|████▌     | 462/1013 [1:01:01<1:11:55,  7.83s/it]"
     ]
    },
    {
     "name": "stdout",
     "output_type": "stream",
     "text": [
      "GCN loss on unlabled data: 2.0010077953338623\n",
      "GCN acc on unlabled data: 0.6365668305766652\n",
      "attack loss: 2.1196491718292236\n"
     ]
    },
    {
     "name": "stderr",
     "output_type": "stream",
     "text": [
      "Perturbing graph:  46%|████▌     | 463/1013 [1:01:09<1:11:46,  7.83s/it]"
     ]
    },
    {
     "name": "stdout",
     "output_type": "stream",
     "text": [
      "GCN loss on unlabled data: 2.0662903785705566\n",
      "GCN acc on unlabled data: 0.6325435851586947\n",
      "attack loss: 2.177191972732544\n"
     ]
    },
    {
     "name": "stderr",
     "output_type": "stream",
     "text": [
      "Perturbing graph:  46%|████▌     | 464/1013 [1:01:17<1:11:32,  7.82s/it]"
     ]
    },
    {
     "name": "stdout",
     "output_type": "stream",
     "text": [
      "GCN loss on unlabled data: 2.028123378753662\n",
      "GCN acc on unlabled data: 0.6370138578453286\n",
      "attack loss: 2.1594793796539307\n"
     ]
    },
    {
     "name": "stderr",
     "output_type": "stream",
     "text": [
      "Perturbing graph:  46%|████▌     | 465/1013 [1:01:25<1:11:20,  7.81s/it]"
     ]
    },
    {
     "name": "stdout",
     "output_type": "stream",
     "text": [
      "GCN loss on unlabled data: 1.9266746044158936\n",
      "GCN acc on unlabled data: 0.657130084935181\n",
      "attack loss: 2.0440070629119873\n"
     ]
    },
    {
     "name": "stderr",
     "output_type": "stream",
     "text": [
      "Perturbing graph:  46%|████▌     | 466/1013 [1:01:33<1:11:59,  7.90s/it]"
     ]
    },
    {
     "name": "stdout",
     "output_type": "stream",
     "text": [
      "GCN loss on unlabled data: 2.1032893657684326\n",
      "GCN acc on unlabled data: 0.6343316942333482\n",
      "attack loss: 2.2033402919769287\n"
     ]
    },
    {
     "name": "stderr",
     "output_type": "stream",
     "text": [
      "Perturbing graph:  46%|████▌     | 467/1013 [1:01:41<1:11:24,  7.85s/it]"
     ]
    },
    {
     "name": "stdout",
     "output_type": "stream",
     "text": [
      "GCN loss on unlabled data: 2.008715867996216\n",
      "GCN acc on unlabled data: 0.6481895395619133\n",
      "attack loss: 2.1690804958343506\n"
     ]
    },
    {
     "name": "stderr",
     "output_type": "stream",
     "text": [
      "Perturbing graph:  46%|████▌     | 468/1013 [1:01:48<1:11:04,  7.83s/it]"
     ]
    },
    {
     "name": "stdout",
     "output_type": "stream",
     "text": [
      "GCN loss on unlabled data: 1.9791052341461182\n",
      "GCN acc on unlabled data: 0.6477425122932499\n",
      "attack loss: 2.089569568634033\n"
     ]
    },
    {
     "name": "stderr",
     "output_type": "stream",
     "text": [
      "Perturbing graph:  46%|████▋     | 469/1013 [1:01:56<1:11:43,  7.91s/it]"
     ]
    },
    {
     "name": "stdout",
     "output_type": "stream",
     "text": [
      "GCN loss on unlabled data: 1.9833346605300903\n",
      "GCN acc on unlabled data: 0.6486365668305767\n",
      "attack loss: 2.1090667247772217\n"
     ]
    },
    {
     "name": "stderr",
     "output_type": "stream",
     "text": [
      "Perturbing graph:  46%|████▋     | 470/1013 [1:02:05<1:12:00,  7.96s/it]"
     ]
    },
    {
     "name": "stdout",
     "output_type": "stream",
     "text": [
      "GCN loss on unlabled data: 1.9630563259124756\n",
      "GCN acc on unlabled data: 0.6472954850245864\n",
      "attack loss: 2.083693742752075\n"
     ]
    },
    {
     "name": "stderr",
     "output_type": "stream",
     "text": [
      "Perturbing graph:  46%|████▋     | 471/1013 [1:02:13<1:11:54,  7.96s/it]"
     ]
    },
    {
     "name": "stdout",
     "output_type": "stream",
     "text": [
      "GCN loss on unlabled data: 2.1097605228424072\n",
      "GCN acc on unlabled data: 0.6343316942333482\n",
      "attack loss: 2.2508089542388916\n"
     ]
    },
    {
     "name": "stderr",
     "output_type": "stream",
     "text": [
      "Perturbing graph:  47%|████▋     | 472/1013 [1:02:20<1:11:43,  7.95s/it]"
     ]
    },
    {
     "name": "stdout",
     "output_type": "stream",
     "text": [
      "GCN loss on unlabled data: 1.9856948852539062\n",
      "GCN acc on unlabled data: 0.6370138578453286\n",
      "attack loss: 2.105315685272217\n"
     ]
    }
   ],
   "source": [
    "# Setup GCN as the Surrogate Model\n",
    "surrogate = GCN_attack(nfeat=features.shape[1], nclass=labels.max().item()+1, nhid=16,\n",
    "        dropout=0.5, with_relu=False, with_bias=True, weight_decay=5e-4, device=device)\n",
    "\n",
    "surrogate = surrogate.to(device)\n",
    "surrogate.fit(features, adj, labels, idx_train, train_iters=201)\n",
    "\n",
    "# Setup Attack Model\n",
    "if 'Self' in MODEL:\n",
    "    lambda_ = 0\n",
    "if 'Train' in MODEL:\n",
    "    lambda_ = 1\n",
    "if 'Both' in MODEL:\n",
    "    lambda_ = 0.5\n",
    "\n",
    "if 'A' in MODEL:\n",
    "    model = MetaApprox(model=surrogate, nnodes=adj.shape[0], feature_shape=features.shape, attack_structure=True, attack_features=False, device=device, lambda_=lambda_)\n",
    "\n",
    "else:\n",
    "    model = Metattack(model=surrogate, nnodes=adj.shape[0], feature_shape=features.shape,  attack_structure=True, attack_features=False, device=device, lambda_=lambda_)\n",
    "\n",
    "model = model.to(device)\n",
    "\n",
    "attention = GNNGUARD # if True, our method; if False, run baselines\n",
    "\n",
    "# save the mettacked adj\n",
    "\n",
    "model.attack(features, adj, labels, idx_train, idx_unlabeled, perturbations, ll_constraint=False)\n",
    "modified_adj = model.modified_adj\n",
    "pickle.dump(modified_adj, open('saved_pk/mettack_modified_adj_cora2484_0.2fake.pk', 'wb'))\n",
    "print('modified_adj saved')\n"
   ]
  },
  {
   "cell_type": "code",
   "execution_count": 21,
   "metadata": {},
   "outputs": [
    {
     "name": "stdout",
     "output_type": "stream",
     "text": [
      "=== training gcn model ===\n",
      "Epoch 0, training loss: 1.9819684028625488\n",
      "Epoch 10, training loss: 1.1804733276367188\n",
      "Epoch 20, training loss: 0.5908041596412659\n",
      "Epoch 30, training loss: 0.3222294747829437\n",
      "Epoch 40, training loss: 0.15581312775611877\n",
      "Epoch 50, training loss: 0.11106248199939728\n",
      "Epoch 60, training loss: 0.08716487139463425\n",
      "Epoch 70, training loss: 0.08035001158714294\n",
      "Epoch 80, training loss: 0.07265067845582962\n",
      "Epoch 90, training loss: 0.09728260338306427\n",
      "Epoch 100, training loss: 0.08143855631351471\n",
      "Epoch 110, training loss: 0.0835583433508873\n",
      "Epoch 120, training loss: 0.06565006077289581\n",
      "Epoch 130, training loss: 0.042687300592660904\n",
      "Epoch 140, training loss: 0.039915770292282104\n",
      "Epoch 150, training loss: 0.06322012096643448\n",
      "Epoch 160, training loss: 0.0405743308365345\n",
      "Epoch 170, training loss: 0.043181657791137695\n",
      "Epoch 180, training loss: 0.046466391533613205\n",
      "Epoch 190, training loss: 0.03725040704011917\n",
      "Epoch 200, training loss: 0.05468853563070297\n",
      "=== picking the best model according to the performance on validation ===\n",
      "Test set results: loss= 0.5941 accuracy= 0.8280\n",
      "0.8279678068410463\n",
      "=== training gcn model ===\n",
      "Epoch 0, training loss: 1.942915916442871\n",
      "Epoch 10, training loss: 1.2177642583847046\n",
      "Epoch 20, training loss: 0.6008744835853577\n",
      "Epoch 30, training loss: 0.2873357832431793\n",
      "Epoch 40, training loss: 0.1633385270833969\n",
      "Epoch 50, training loss: 0.13642291724681854\n",
      "Epoch 60, training loss: 0.11688107252120972\n",
      "Epoch 70, training loss: 0.09153248369693756\n",
      "Epoch 80, training loss: 0.07341258227825165\n",
      "Epoch 90, training loss: 0.059444181621074677\n",
      "Epoch 100, training loss: 0.06429218500852585\n",
      "Epoch 110, training loss: 0.06727518886327744\n",
      "Epoch 120, training loss: 0.0705210492014885\n",
      "Epoch 130, training loss: 0.06596773117780685\n",
      "Epoch 140, training loss: 0.04661313816905022\n",
      "Epoch 150, training loss: 0.06172241270542145\n",
      "Epoch 160, training loss: 0.05217921361327171\n",
      "Epoch 170, training loss: 0.051286350935697556\n",
      "Epoch 180, training loss: 0.06219147890806198\n",
      "Epoch 190, training loss: 0.04969741404056549\n",
      "Epoch 200, training loss: 0.03789065405726433\n",
      "=== picking the best model according to the performance on validation ===\n",
      "Test set results: loss= 0.7023 accuracy= 0.7827\n",
      "0.7826961770623743\n"
     ]
    }
   ],
   "source": [
    "\n",
    "def test(adj):\n",
    "    # \"\"\"defense models\"\"\"\n",
    "    # classifier = globals()[args.defensemodel](nnodes=adj.shape[0], nfeat=features.shape[1], nhid=16,\n",
    "    #                                           nclass=labels.max().item() + 1, dropout=0.5, device=device)\n",
    "\n",
    "    ''' testing model '''\n",
    "    classifier = globals()[MODELNAME](nfeat=features.shape[1], nhid=16, nclass=labels.max().item() + 1, dropout=0.5, device=device)\n",
    "\n",
    "    classifier = classifier.to(device)\n",
    "\n",
    "    classifier.fit(features, adj, labels, idx_train, train_iters=201,\n",
    "                   idx_val=idx_val,\n",
    "                   idx_test=idx_test,\n",
    "                   verbose=True, \n",
    "                   attention=attention)\n",
    "                    # idx_val=idx_val, idx_test=idx_test , model_name=model_name\n",
    "    classifier.eval()\n",
    "\n",
    "    # classifier.fit(features, adj, labels, idx_train, idx_val) # train with validation model picking\n",
    "    acc_test = classifier.test(idx_test)\n",
    "    print(acc_test)\n",
    "    # return acc_test.item()\n",
    "\n",
    "test(adj)\n",
    "\n",
    "test(modified_adj)"
   ]
  },
  {
   "cell_type": "code",
   "execution_count": 8,
   "metadata": {},
   "outputs": [],
   "source": [
    "import pickle\n",
    "from scipy.sparse import csr_matrix\n",
    "\n",
    "modified_adj = pickle.load(open('saved_pk/mettack_modified_adj_cora2484_0.2fake.pk', 'rb'))\n",
    "modified_adj = csr_matrix(modified_adj)\n",
    "pickle.dump(modified_adj, open('saved_pk/mettack_modified_adj_cora2484_0.1fake.pk', 'wb'))"
   ]
  },
  {
   "cell_type": "code",
   "execution_count": 6,
   "metadata": {},
   "outputs": [
    {
     "name": "stdout",
     "output_type": "stream",
     "text": [
      "  (0, 1084)\t1.0\n",
      "  (0, 1104)\t1.0\n",
      "  (0, 1288)\t1.0\n",
      "  (0, 1496)\t1.0\n",
      "  (0, 2218)\t1.0\n",
      "  (1, 1147)\t1.0\n",
      "  (1, 1504)\t1.0\n",
      "  (1, 1705)\t1.0\n",
      "  (1, 2205)\t1.0\n",
      "  (2, 162)\t1.0\n",
      "  (3, 382)\t1.0\n",
      "  (3, 646)\t1.0\n",
      "  (3, 2470)\t1.0\n",
      "  (4, 1566)\t1.0\n",
      "  (4, 1981)\t1.0\n",
      "  (4, 2181)\t1.0\n",
      "  (5, 6)\t1.0\n",
      "  (5, 1160)\t1.0\n",
      "  (5, 1162)\t1.0\n",
      "  (5, 1971)\t1.0\n",
      "  (5, 2345)\t1.0\n",
      "  (6, 5)\t1.0\n",
      "  (6, 2381)\t1.0\n",
      "  (6, 2396)\t1.0\n",
      "  (7, 8)\t1.0\n",
      "  :\t:\n",
      "  (2477, 2354)\t1.0\n",
      "  (2478, 825)\t1.0\n",
      "  (2478, 826)\t1.0\n",
      "  (2478, 931)\t1.0\n",
      "  (2478, 933)\t1.0\n",
      "  (2479, 999)\t1.0\n",
      "  (2480, 837)\t1.0\n",
      "  (2480, 1672)\t1.0\n",
      "  (2480, 1746)\t1.0\n",
      "  (2480, 2418)\t1.0\n",
      "  (2481, 2457)\t1.0\n",
      "  (2482, 1340)\t1.0\n",
      "  (2482, 1342)\t1.0\n",
      "  (2482, 1892)\t1.0\n",
      "  (2482, 1893)\t1.0\n",
      "  (2482, 1894)\t1.0\n",
      "  (2482, 1895)\t1.0\n",
      "  (2483, 1347)\t1.0\n",
      "  (2483, 1348)\t1.0\n",
      "  (2483, 1522)\t1.0\n",
      "  (2483, 1691)\t1.0\n",
      "  (2483, 1820)\t1.0\n",
      "  (2484, 1184)\t1.0\n",
      "  (2484, 1255)\t1.0\n",
      "  (2484, 1894)\t1.0\n"
     ]
    }
   ],
   "source": [
    "modified_adj = pickle.load(open('saved_pk/test.pk', 'rb'))\n",
    "\n",
    "print(modified_adj)"
   ]
  }
 ],
 "metadata": {
  "interpreter": {
   "hash": "a56855c9ea11010bc304316a44db751546a045ca14ebeaff59a03465560bb0ff"
  },
  "kernelspec": {
   "display_name": "Python 3.7.11 ('torch-py37')",
   "language": "python",
   "name": "python3"
  },
  "language_info": {
   "codemirror_mode": {
    "name": "ipython",
    "version": 3
   },
   "file_extension": ".py",
   "mimetype": "text/x-python",
   "name": "python",
   "nbconvert_exporter": "python",
   "pygments_lexer": "ipython3",
   "version": "3.7.11"
  },
  "orig_nbformat": 4
 },
 "nbformat": 4,
 "nbformat_minor": 2
}
