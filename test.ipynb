{
 "cells": [
  {
   "cell_type": "code",
   "execution_count": 20,
   "metadata": {},
   "outputs": [
    {
     "name": "stdout",
     "output_type": "stream",
     "text": [
      "Loading cora dataset...\n",
      "Selecting 1 largest connected components\n"
     ]
    }
   ],
   "source": [
    "import torch\n",
    "import sys\n",
    "import numpy as np\n",
    "import torch.nn.functional as F\n",
    "import torch.optim as optim\n",
    "from deeprobust.graph.global_attack import MetaApprox, Metattack\n",
    "from deeprobust.graph.utils import *\n",
    "from deeprobust.graph.defense import *\n",
    "from deeprobust.graph.data import Dataset\n",
    "import argparse\n",
    "from scipy.sparse import csr_matrix\n",
    "import pickle\n",
    "from sklearn.metrics import jaccard_score\n",
    "from sklearn.preprocessing import normalize\n",
    "import scipy\n",
    "import numpy as np\n",
    "from defense import GCN_attack\n",
    "\n",
    "# parser = argparse.ArgumentParser()\n",
    "# parser.add_argument('--no-cuda', action='store_true', default=False,\n",
    "#                     help='Disables CUDA training.')\n",
    "# parser.add_argument('--seed', type=int, default=15, help='Random seed.')\n",
    "# parser.add_argument('--epochs', type=int, default=200,\n",
    "#                     help='Number of epochs to train.')\n",
    "# parser.add_argument('--lr', type=float, default=0.01,\n",
    "#                     help='Initial learning rate.')\n",
    "# parser.add_argument('--weight_decay', type=float, default=5e-4,\n",
    "#                     help='Weight decay (L2 loss on parameters).')\n",
    "# parser.add_argument('--hidden', type=int, default=16,\n",
    "#                     help='Number of hidden units.')\n",
    "# parser.add_argument('--dropout', type=float, default=0.5,\n",
    "#                     help='Dropout rate (1 - keep probability).')\n",
    "# parser.add_argument('--dataset', type=str, default='cora', choices=['cora', 'cora_ml', 'citeseer', 'polblogs', 'pubmed'], help='dataset')\n",
    "# parser.add_argument('--ptb_rate', type=float, default=0.05,  help='pertubation rate')\n",
    "# parser.add_argument('--model', type=str, default='Meta-Self', choices=['A-Meta-Self', 'Meta-Self'], help='model variant')\n",
    "\n",
    "# parser.add_argument('--modelname', type=str, default='GCN',  choices=['GCN', 'GAT','GIN', 'JK'])\n",
    "# parser.add_argument('--defensemodel', type=str, default='GCNJaccard',  choices=['GCNJaccard', 'RGCN', 'GCNSVD'])\n",
    "# parser.add_argument('--GNNGuard', type=bool, default=False,  choices=[True, False])\n",
    "\n",
    "# args = parser.parse_args()\n",
    "\n",
    "SEED = 15\n",
    "DATASET = 'cora'\n",
    "PTB_RATE = 0.05\n",
    "MODEL = 'Meta-Self'\n",
    "GNNGUARD = False\n",
    "MODELNAME = 'GCN'\n",
    "\n",
    "device = torch.device(\"cuda\" if torch.cuda.is_available() else \"cpu\")\n",
    "\n",
    "np.random.seed(SEED)\n",
    "torch.manual_seed(SEED)\n",
    "if device != 'cpu':\n",
    "    torch.cuda.manual_seed(SEED)\n",
    "\n",
    "data = Dataset(root='./Datasets/', name=DATASET)\n",
    "\n",
    "adj, features, labels = data.adj, data.features, data.labels\n",
    "idx_train, idx_val, idx_test = data.idx_train, data.idx_val, data.idx_test\n",
    "idx_unlabeled = np.union1d(idx_val, idx_test)\n",
    "\n",
    "# 判断稀疏矩阵\n",
    "if scipy.sparse.issparse(features)==False:\n",
    "    features = scipy.sparse.csr_matrix(features)\n",
    "\n",
    "perturbations = int(PTB_RATE * (adj.sum()//2))\n",
    "adj, features, labels = preprocess(adj, features, labels, preprocess_adj=False)\n",
    "\n",
    "#1. to CSR sparse\n",
    "adj, features = csr_matrix(adj), csr_matrix(features)\n",
    "\n",
    "\"\"\"add undirected edges, orgn-arxiv is directed graph, we transfer it to undirected closely following \n",
    "https://ogb.stanford.edu/docs/leader_nodeprop/#ogbn-arxiv\n",
    "\"\"\"\n",
    "adj = adj + adj.T\n",
    "adj[adj>1] = 1\n",
    "\n",
    "modified_adj = pickle.load(open('saved_pk/mettack_modified_adj_cora2484_0.05fake.pk', 'rb'))\n",
    "modified_adj = csr_matrix(modified_adj)\n",
    "attention = GNNGUARD # if True, our method; if False, run baselines\n"
   ]
  },
  {
   "cell_type": "code",
   "execution_count": 2,
   "metadata": {},
   "outputs": [
    {
     "name": "stderr",
     "output_type": "stream",
     "text": [
      "Perturbing graph:   0%|          | 0/253 [00:00<?, ?it/s]"
     ]
    },
    {
     "name": "stdout",
     "output_type": "stream",
     "text": [
      "GCN loss on unlabled data: 0.5256392359733582\n",
      "GCN acc on unlabled data: 0.8270004470272687\n",
      "attack loss: 0.34636449813842773\n"
     ]
    },
    {
     "name": "stderr",
     "output_type": "stream",
     "text": [
      "C:\\Users\\Banana\\.conda\\envs\\torch-py37\\lib\\site-packages\\deeprobust\\graph\\utils.py:541: UserWarning: __floordiv__ is deprecated, and its behavior will change in a future version of pytorch. It currently rounds toward 0 (like the 'trunc' function NOT 'floor'). This results in incorrect rounding for negative values. To keep the current behavior, use torch.div(a, b, rounding_mode='trunc'), or for actual floor division, use torch.div(a, b, rounding_mode='floor').\n",
      "  rows = index // array_shape[1]\n",
      "Perturbing graph:   0%|          | 1/253 [00:08<34:56,  8.32s/it]"
     ]
    },
    {
     "name": "stdout",
     "output_type": "stream",
     "text": [
      "GCN loss on unlabled data: 0.5196269750595093\n",
      "GCN acc on unlabled data: 0.8363880196691998\n",
      "attack loss: 0.3322211503982544\n"
     ]
    },
    {
     "name": "stderr",
     "output_type": "stream",
     "text": [
      "Perturbing graph:   1%|          | 2/253 [00:16<35:03,  8.38s/it]"
     ]
    },
    {
     "name": "stdout",
     "output_type": "stream",
     "text": [
      "GCN loss on unlabled data: 0.523428201675415\n",
      "GCN acc on unlabled data: 0.8363880196691998\n",
      "attack loss: 0.36184144020080566\n"
     ]
    },
    {
     "name": "stderr",
     "output_type": "stream",
     "text": [
      "Perturbing graph:   1%|          | 3/253 [00:25<35:23,  8.49s/it]"
     ]
    },
    {
     "name": "stdout",
     "output_type": "stream",
     "text": [
      "GCN loss on unlabled data: 0.5084439516067505\n",
      "GCN acc on unlabled data: 0.8426464014304873\n",
      "attack loss: 0.39731359481811523\n"
     ]
    },
    {
     "name": "stderr",
     "output_type": "stream",
     "text": [
      "Perturbing graph:   2%|▏         | 4/253 [00:34<35:28,  8.55s/it]"
     ]
    },
    {
     "name": "stdout",
     "output_type": "stream",
     "text": [
      "GCN loss on unlabled data: 0.5308880805969238\n",
      "GCN acc on unlabled data: 0.8337058560572195\n",
      "attack loss: 0.37005358934402466\n"
     ]
    },
    {
     "name": "stderr",
     "output_type": "stream",
     "text": [
      "Perturbing graph:   2%|▏         | 5/253 [00:42<34:34,  8.37s/it]"
     ]
    },
    {
     "name": "stdout",
     "output_type": "stream",
     "text": [
      "GCN loss on unlabled data: 0.5290098786354065\n",
      "GCN acc on unlabled data: 0.8359409924005364\n",
      "attack loss: 0.39872288703918457\n"
     ]
    },
    {
     "name": "stderr",
     "output_type": "stream",
     "text": [
      "Perturbing graph:   2%|▏         | 6/253 [00:49<33:49,  8.22s/it]"
     ]
    },
    {
     "name": "stdout",
     "output_type": "stream",
     "text": [
      "GCN loss on unlabled data: 0.552384078502655\n",
      "GCN acc on unlabled data: 0.8310236924452392\n",
      "attack loss: 0.42506518959999084\n"
     ]
    },
    {
     "name": "stderr",
     "output_type": "stream",
     "text": [
      "Perturbing graph:   3%|▎         | 7/253 [00:57<33:18,  8.13s/it]"
     ]
    },
    {
     "name": "stdout",
     "output_type": "stream",
     "text": [
      "GCN loss on unlabled data: 0.5435854196548462\n",
      "GCN acc on unlabled data: 0.8305766651765758\n",
      "attack loss: 0.40307390689849854\n"
     ]
    },
    {
     "name": "stderr",
     "output_type": "stream",
     "text": [
      "Perturbing graph:   3%|▎         | 8/253 [01:05<32:54,  8.06s/it]"
     ]
    },
    {
     "name": "stdout",
     "output_type": "stream",
     "text": [
      "GCN loss on unlabled data: 0.5328577160835266\n",
      "GCN acc on unlabled data: 0.8314707197139025\n",
      "attack loss: 0.40999743342399597\n"
     ]
    },
    {
     "name": "stderr",
     "output_type": "stream",
     "text": [
      "Perturbing graph:   4%|▎         | 9/253 [01:13<32:43,  8.05s/it]"
     ]
    },
    {
     "name": "stdout",
     "output_type": "stream",
     "text": [
      "GCN loss on unlabled data: 0.5598021149635315\n",
      "GCN acc on unlabled data: 0.8220831470719714\n",
      "attack loss: 0.45430076122283936\n"
     ]
    },
    {
     "name": "stderr",
     "output_type": "stream",
     "text": [
      "Perturbing graph:   4%|▍         | 10/253 [01:21<32:11,  7.95s/it]"
     ]
    },
    {
     "name": "stdout",
     "output_type": "stream",
     "text": [
      "GCN loss on unlabled data: 0.5699076056480408\n",
      "GCN acc on unlabled data: 0.8252123379526151\n",
      "attack loss: 0.4040074050426483\n"
     ]
    },
    {
     "name": "stderr",
     "output_type": "stream",
     "text": [
      "Perturbing graph:   4%|▍         | 11/253 [01:29<32:06,  7.96s/it]"
     ]
    },
    {
     "name": "stdout",
     "output_type": "stream",
     "text": [
      "GCN loss on unlabled data: 0.5841845870018005\n",
      "GCN acc on unlabled data: 0.819400983459991\n",
      "attack loss: 0.45144426822662354\n"
     ]
    },
    {
     "name": "stderr",
     "output_type": "stream",
     "text": [
      "Perturbing graph:   5%|▍         | 12/253 [01:37<32:28,  8.08s/it]"
     ]
    },
    {
     "name": "stdout",
     "output_type": "stream",
     "text": [
      "GCN loss on unlabled data: 0.565907895565033\n",
      "GCN acc on unlabled data: 0.8220831470719714\n",
      "attack loss: 0.45247942209243774\n"
     ]
    },
    {
     "name": "stderr",
     "output_type": "stream",
     "text": [
      "Perturbing graph:   5%|▌         | 13/253 [01:46<32:22,  8.09s/it]"
     ]
    },
    {
     "name": "stdout",
     "output_type": "stream",
     "text": [
      "GCN loss on unlabled data: 0.6129724383354187\n",
      "GCN acc on unlabled data: 0.8211890925346446\n",
      "attack loss: 0.48886561393737793\n"
     ]
    },
    {
     "name": "stderr",
     "output_type": "stream",
     "text": [
      "Perturbing graph:   6%|▌         | 14/253 [01:53<32:01,  8.04s/it]"
     ]
    },
    {
     "name": "stdout",
     "output_type": "stream",
     "text": [
      "GCN loss on unlabled data: 0.5716933608055115\n",
      "GCN acc on unlabled data: 0.813589628967367\n",
      "attack loss: 0.458243727684021\n"
     ]
    },
    {
     "name": "stderr",
     "output_type": "stream",
     "text": [
      "Perturbing graph:   6%|▌         | 15/253 [02:01<31:26,  7.93s/it]"
     ]
    },
    {
     "name": "stdout",
     "output_type": "stream",
     "text": [
      "GCN loss on unlabled data: 0.5618573427200317\n",
      "GCN acc on unlabled data: 0.8220831470719714\n",
      "attack loss: 0.46528226137161255\n"
     ]
    },
    {
     "name": "stderr",
     "output_type": "stream",
     "text": [
      "Perturbing graph:   6%|▋         | 16/253 [02:09<31:08,  7.89s/it]"
     ]
    },
    {
     "name": "stdout",
     "output_type": "stream",
     "text": [
      "GCN loss on unlabled data: 0.5783966183662415\n",
      "GCN acc on unlabled data: 0.8256593652212785\n",
      "attack loss: 0.47226178646087646\n"
     ]
    },
    {
     "name": "stderr",
     "output_type": "stream",
     "text": [
      "Perturbing graph:   7%|▋         | 17/253 [02:17<31:41,  8.06s/it]"
     ]
    },
    {
     "name": "stdout",
     "output_type": "stream",
     "text": [
      "GCN loss on unlabled data: 0.5875458717346191\n",
      "GCN acc on unlabled data: 0.8202950379973178\n",
      "attack loss: 0.47064048051834106\n"
     ]
    },
    {
     "name": "stderr",
     "output_type": "stream",
     "text": [
      "Perturbing graph:   7%|▋         | 18/253 [02:26<31:45,  8.11s/it]"
     ]
    },
    {
     "name": "stdout",
     "output_type": "stream",
     "text": [
      "GCN loss on unlabled data: 0.6042126417160034\n",
      "GCN acc on unlabled data: 0.8144836835046938\n",
      "attack loss: 0.4773905277252197\n"
     ]
    },
    {
     "name": "stderr",
     "output_type": "stream",
     "text": [
      "Perturbing graph:   8%|▊         | 19/253 [02:33<31:18,  8.03s/it]"
     ]
    },
    {
     "name": "stdout",
     "output_type": "stream",
     "text": [
      "GCN loss on unlabled data: 0.5843484997749329\n",
      "GCN acc on unlabled data: 0.8149307107733572\n",
      "attack loss: 0.48527035117149353\n"
     ]
    },
    {
     "name": "stderr",
     "output_type": "stream",
     "text": [
      "Perturbing graph:   8%|▊         | 20/253 [02:41<30:44,  7.92s/it]"
     ]
    },
    {
     "name": "stdout",
     "output_type": "stream",
     "text": [
      "GCN loss on unlabled data: 0.5951029658317566\n",
      "GCN acc on unlabled data: 0.8180599016540009\n",
      "attack loss: 0.5079132914543152\n"
     ]
    },
    {
     "name": "stderr",
     "output_type": "stream",
     "text": [
      "Perturbing graph:   8%|▊         | 21/253 [02:49<30:15,  7.82s/it]"
     ]
    },
    {
     "name": "stdout",
     "output_type": "stream",
     "text": [
      "GCN loss on unlabled data: 0.5916544795036316\n",
      "GCN acc on unlabled data: 0.8176128743853375\n",
      "attack loss: 0.4809727370738983\n"
     ]
    },
    {
     "name": "stderr",
     "output_type": "stream",
     "text": [
      "Perturbing graph:   9%|▊         | 22/253 [02:56<29:49,  7.75s/it]"
     ]
    },
    {
     "name": "stdout",
     "output_type": "stream",
     "text": [
      "GCN loss on unlabled data: 0.5717148780822754\n",
      "GCN acc on unlabled data: 0.8100134108180599\n",
      "attack loss: 0.4758518934249878\n"
     ]
    },
    {
     "name": "stderr",
     "output_type": "stream",
     "text": [
      "Perturbing graph:   9%|▉         | 23/253 [03:04<29:43,  7.75s/it]"
     ]
    },
    {
     "name": "stdout",
     "output_type": "stream",
     "text": [
      "GCN loss on unlabled data: 0.6025466322898865\n",
      "GCN acc on unlabled data: 0.8158247653106839\n",
      "attack loss: 0.5087431073188782\n"
     ]
    },
    {
     "name": "stderr",
     "output_type": "stream",
     "text": [
      "Perturbing graph:   9%|▉         | 24/253 [03:12<29:22,  7.70s/it]"
     ]
    },
    {
     "name": "stdout",
     "output_type": "stream",
     "text": [
      "GCN loss on unlabled data: 0.5669479966163635\n",
      "GCN acc on unlabled data: 0.8211890925346446\n",
      "attack loss: 0.47537463903427124\n"
     ]
    },
    {
     "name": "stderr",
     "output_type": "stream",
     "text": [
      "Perturbing graph:  10%|▉         | 25/253 [03:19<29:14,  7.70s/it]"
     ]
    },
    {
     "name": "stdout",
     "output_type": "stream",
     "text": [
      "GCN loss on unlabled data: 0.5788741111755371\n",
      "GCN acc on unlabled data: 0.8207420652659813\n",
      "attack loss: 0.531527042388916\n"
     ]
    },
    {
     "name": "stderr",
     "output_type": "stream",
     "text": [
      "Perturbing graph:  10%|█         | 26/253 [03:27<29:07,  7.70s/it]"
     ]
    },
    {
     "name": "stdout",
     "output_type": "stream",
     "text": [
      "GCN loss on unlabled data: 0.6028139591217041\n",
      "GCN acc on unlabled data: 0.8185069289226643\n",
      "attack loss: 0.5311508774757385\n"
     ]
    },
    {
     "name": "stderr",
     "output_type": "stream",
     "text": [
      "Perturbing graph:  11%|█         | 27/253 [03:34<28:45,  7.64s/it]"
     ]
    },
    {
     "name": "stdout",
     "output_type": "stream",
     "text": [
      "GCN loss on unlabled data: 0.5922191143035889\n",
      "GCN acc on unlabled data: 0.8225301743406348\n",
      "attack loss: 0.5238585472106934\n"
     ]
    },
    {
     "name": "stderr",
     "output_type": "stream",
     "text": [
      "Perturbing graph:  11%|█         | 28/253 [03:42<28:26,  7.58s/it]"
     ]
    },
    {
     "name": "stdout",
     "output_type": "stream",
     "text": [
      "GCN loss on unlabled data: 0.6415581107139587\n",
      "GCN acc on unlabled data: 0.8006258381761288\n",
      "attack loss: 0.568854808807373\n"
     ]
    },
    {
     "name": "stderr",
     "output_type": "stream",
     "text": [
      "Perturbing graph:  11%|█▏        | 29/253 [03:49<28:07,  7.53s/it]"
     ]
    },
    {
     "name": "stdout",
     "output_type": "stream",
     "text": [
      "GCN loss on unlabled data: 0.6763254404067993\n",
      "GCN acc on unlabled data: 0.7979436745641484\n",
      "attack loss: 0.5669267773628235\n"
     ]
    },
    {
     "name": "stderr",
     "output_type": "stream",
     "text": [
      "Perturbing graph:  12%|█▏        | 30/253 [03:57<27:52,  7.50s/it]"
     ]
    },
    {
     "name": "stdout",
     "output_type": "stream",
     "text": [
      "GCN loss on unlabled data: 0.6058263182640076\n",
      "GCN acc on unlabled data: 0.8140366562360304\n",
      "attack loss: 0.5351555347442627\n"
     ]
    },
    {
     "name": "stderr",
     "output_type": "stream",
     "text": [
      "Perturbing graph:  12%|█▏        | 31/253 [04:04<27:43,  7.49s/it]"
     ]
    },
    {
     "name": "stdout",
     "output_type": "stream",
     "text": [
      "GCN loss on unlabled data: 0.6160287261009216\n",
      "GCN acc on unlabled data: 0.819400983459991\n",
      "attack loss: 0.5395932197570801\n"
     ]
    },
    {
     "name": "stderr",
     "output_type": "stream",
     "text": [
      "Perturbing graph:  13%|█▎        | 32/253 [04:12<27:33,  7.48s/it]"
     ]
    },
    {
     "name": "stdout",
     "output_type": "stream",
     "text": [
      "GCN loss on unlabled data: 0.6055968403816223\n",
      "GCN acc on unlabled data: 0.813589628967367\n",
      "attack loss: 0.5419031977653503\n"
     ]
    },
    {
     "name": "stderr",
     "output_type": "stream",
     "text": [
      "Perturbing graph:  13%|█▎        | 33/253 [04:19<27:22,  7.47s/it]"
     ]
    },
    {
     "name": "stdout",
     "output_type": "stream",
     "text": [
      "GCN loss on unlabled data: 0.6220923662185669\n",
      "GCN acc on unlabled data: 0.8158247653106839\n",
      "attack loss: 0.5443667769432068\n"
     ]
    },
    {
     "name": "stderr",
     "output_type": "stream",
     "text": [
      "Perturbing graph:  13%|█▎        | 34/253 [04:27<27:15,  7.47s/it]"
     ]
    },
    {
     "name": "stdout",
     "output_type": "stream",
     "text": [
      "GCN loss on unlabled data: 0.610313355922699\n",
      "GCN acc on unlabled data: 0.8144836835046938\n",
      "attack loss: 0.5775697231292725\n"
     ]
    },
    {
     "name": "stderr",
     "output_type": "stream",
     "text": [
      "Perturbing graph:  14%|█▍        | 35/253 [04:34<27:07,  7.46s/it]"
     ]
    },
    {
     "name": "stdout",
     "output_type": "stream",
     "text": [
      "GCN loss on unlabled data: 0.6671808362007141\n",
      "GCN acc on unlabled data: 0.8046490835940993\n",
      "attack loss: 0.5972419381141663\n"
     ]
    },
    {
     "name": "stderr",
     "output_type": "stream",
     "text": [
      "Perturbing graph:  14%|█▍        | 36/253 [04:42<26:57,  7.45s/it]"
     ]
    },
    {
     "name": "stdout",
     "output_type": "stream",
     "text": [
      "GCN loss on unlabled data: 0.6853450536727905\n",
      "GCN acc on unlabled data: 0.7961555654894948\n",
      "attack loss: 0.6148754954338074\n"
     ]
    },
    {
     "name": "stderr",
     "output_type": "stream",
     "text": [
      "Perturbing graph:  15%|█▍        | 37/253 [04:49<26:43,  7.42s/it]"
     ]
    },
    {
     "name": "stdout",
     "output_type": "stream",
     "text": [
      "GCN loss on unlabled data: 0.6414397954940796\n",
      "GCN acc on unlabled data: 0.8109074653553867\n",
      "attack loss: 0.6073175668716431\n"
     ]
    },
    {
     "name": "stderr",
     "output_type": "stream",
     "text": [
      "Perturbing graph:  15%|█▌        | 38/253 [04:56<26:32,  7.41s/it]"
     ]
    },
    {
     "name": "stdout",
     "output_type": "stream",
     "text": [
      "GCN loss on unlabled data: 0.6637211441993713\n",
      "GCN acc on unlabled data: 0.8073312472060795\n",
      "attack loss: 0.592793881893158\n"
     ]
    },
    {
     "name": "stderr",
     "output_type": "stream",
     "text": [
      "Perturbing graph:  15%|█▌        | 39/253 [05:04<26:25,  7.41s/it]"
     ]
    },
    {
     "name": "stdout",
     "output_type": "stream",
     "text": [
      "GCN loss on unlabled data: 0.6537474989891052\n",
      "GCN acc on unlabled data: 0.8019669199821189\n",
      "attack loss: 0.5797605514526367\n"
     ]
    },
    {
     "name": "stderr",
     "output_type": "stream",
     "text": [
      "Perturbing graph:  16%|█▌        | 40/253 [05:11<26:17,  7.40s/it]"
     ]
    },
    {
     "name": "stdout",
     "output_type": "stream",
     "text": [
      "GCN loss on unlabled data: 0.6587996482849121\n",
      "GCN acc on unlabled data: 0.8028609745194457\n",
      "attack loss: 0.586970329284668\n"
     ]
    },
    {
     "name": "stderr",
     "output_type": "stream",
     "text": [
      "Perturbing graph:  16%|█▌        | 41/253 [05:19<26:22,  7.47s/it]"
     ]
    },
    {
     "name": "stdout",
     "output_type": "stream",
     "text": [
      "GCN loss on unlabled data: 0.6929917335510254\n",
      "GCN acc on unlabled data: 0.7916852928028609\n",
      "attack loss: 0.6130290627479553\n"
     ]
    },
    {
     "name": "stderr",
     "output_type": "stream",
     "text": [
      "Perturbing graph:  17%|█▋        | 42/253 [05:27<27:01,  7.69s/it]"
     ]
    },
    {
     "name": "stdout",
     "output_type": "stream",
     "text": [
      "GCN loss on unlabled data: 0.6589739918708801\n",
      "GCN acc on unlabled data: 0.8100134108180599\n",
      "attack loss: 0.5952709913253784\n"
     ]
    },
    {
     "name": "stderr",
     "output_type": "stream",
     "text": [
      "Perturbing graph:  17%|█▋        | 43/253 [05:35<27:07,  7.75s/it]"
     ]
    },
    {
     "name": "stdout",
     "output_type": "stream",
     "text": [
      "GCN loss on unlabled data: 0.7033470869064331\n",
      "GCN acc on unlabled data: 0.8001788109074653\n",
      "attack loss: 0.6574423313140869\n"
     ]
    },
    {
     "name": "stderr",
     "output_type": "stream",
     "text": [
      "Perturbing graph:  17%|█▋        | 44/253 [05:42<26:55,  7.73s/it]"
     ]
    },
    {
     "name": "stdout",
     "output_type": "stream",
     "text": [
      "GCN loss on unlabled data: 0.6411393880844116\n",
      "GCN acc on unlabled data: 0.8082253017434063\n",
      "attack loss: 0.5918260812759399\n"
     ]
    },
    {
     "name": "stderr",
     "output_type": "stream",
     "text": [
      "Perturbing graph:  18%|█▊        | 45/253 [05:50<26:45,  7.72s/it]"
     ]
    },
    {
     "name": "stdout",
     "output_type": "stream",
     "text": [
      "GCN loss on unlabled data: 0.7065854668617249\n",
      "GCN acc on unlabled data: 0.8010728654447922\n",
      "attack loss: 0.6537434458732605\n"
     ]
    },
    {
     "name": "stderr",
     "output_type": "stream",
     "text": [
      "Perturbing graph:  18%|█▊        | 46/253 [05:58<26:42,  7.74s/it]"
     ]
    },
    {
     "name": "stdout",
     "output_type": "stream",
     "text": [
      "GCN loss on unlabled data: 0.7045708894729614\n",
      "GCN acc on unlabled data: 0.8006258381761288\n",
      "attack loss: 0.6444037556648254\n"
     ]
    },
    {
     "name": "stderr",
     "output_type": "stream",
     "text": [
      "Perturbing graph:  19%|█▊        | 47/253 [06:06<26:41,  7.77s/it]"
     ]
    },
    {
     "name": "stdout",
     "output_type": "stream",
     "text": [
      "GCN loss on unlabled data: 0.6967158317565918\n",
      "GCN acc on unlabled data: 0.805543138131426\n",
      "attack loss: 0.6586078405380249\n"
     ]
    },
    {
     "name": "stderr",
     "output_type": "stream",
     "text": [
      "Perturbing graph:  19%|█▉        | 48/253 [06:13<26:29,  7.75s/it]"
     ]
    },
    {
     "name": "stdout",
     "output_type": "stream",
     "text": [
      "GCN loss on unlabled data: 0.7106189727783203\n",
      "GCN acc on unlabled data: 0.7912382655341976\n",
      "attack loss: 0.6221437454223633\n"
     ]
    },
    {
     "name": "stderr",
     "output_type": "stream",
     "text": [
      "Perturbing graph:  19%|█▉        | 49/253 [06:21<26:15,  7.73s/it]"
     ]
    },
    {
     "name": "stdout",
     "output_type": "stream",
     "text": [
      "GCN loss on unlabled data: 0.7340299487113953\n",
      "GCN acc on unlabled data: 0.7983907018328118\n",
      "attack loss: 0.6875969171524048\n"
     ]
    },
    {
     "name": "stderr",
     "output_type": "stream",
     "text": [
      "Perturbing graph:  20%|█▉        | 50/253 [06:29<26:17,  7.77s/it]"
     ]
    },
    {
     "name": "stdout",
     "output_type": "stream",
     "text": [
      "GCN loss on unlabled data: 0.7368263602256775\n",
      "GCN acc on unlabled data: 0.7907912382655342\n",
      "attack loss: 0.6647345423698425\n"
     ]
    },
    {
     "name": "stderr",
     "output_type": "stream",
     "text": [
      "Perturbing graph:  20%|██        | 51/253 [06:37<26:11,  7.78s/it]"
     ]
    },
    {
     "name": "stdout",
     "output_type": "stream",
     "text": [
      "GCN loss on unlabled data: 0.6723813414573669\n",
      "GCN acc on unlabled data: 0.8068842199374162\n",
      "attack loss: 0.6089474558830261\n"
     ]
    },
    {
     "name": "stderr",
     "output_type": "stream",
     "text": [
      "Perturbing graph:  21%|██        | 52/253 [06:45<26:23,  7.88s/it]"
     ]
    },
    {
     "name": "stdout",
     "output_type": "stream",
     "text": [
      "GCN loss on unlabled data: 0.7537626028060913\n",
      "GCN acc on unlabled data: 0.7800625838176128\n",
      "attack loss: 0.715029776096344\n"
     ]
    },
    {
     "name": "stderr",
     "output_type": "stream",
     "text": [
      "Perturbing graph:  21%|██        | 53/253 [06:53<26:44,  8.02s/it]"
     ]
    },
    {
     "name": "stdout",
     "output_type": "stream",
     "text": [
      "GCN loss on unlabled data: 0.7800816893577576\n",
      "GCN acc on unlabled data: 0.7921323200715243\n",
      "attack loss: 0.7388423085212708\n"
     ]
    },
    {
     "name": "stderr",
     "output_type": "stream",
     "text": [
      "Perturbing graph:  21%|██▏       | 54/253 [07:02<26:53,  8.11s/it]"
     ]
    },
    {
     "name": "stdout",
     "output_type": "stream",
     "text": [
      "GCN loss on unlabled data: 0.75313401222229\n",
      "GCN acc on unlabled data: 0.7939204291461779\n",
      "attack loss: 0.6895095705986023\n"
     ]
    },
    {
     "name": "stderr",
     "output_type": "stream",
     "text": [
      "Perturbing graph:  22%|██▏       | 55/253 [07:10<26:52,  8.14s/it]"
     ]
    },
    {
     "name": "stdout",
     "output_type": "stream",
     "text": [
      "GCN loss on unlabled data: 0.6890352368354797\n",
      "GCN acc on unlabled data: 0.8028609745194457\n",
      "attack loss: 0.6476386785507202\n"
     ]
    },
    {
     "name": "stderr",
     "output_type": "stream",
     "text": [
      "Perturbing graph:  22%|██▏       | 56/253 [07:18<26:53,  8.19s/it]"
     ]
    },
    {
     "name": "stdout",
     "output_type": "stream",
     "text": [
      "GCN loss on unlabled data: 0.7038601040840149\n",
      "GCN acc on unlabled data: 0.7912382655341976\n",
      "attack loss: 0.6700015664100647\n"
     ]
    },
    {
     "name": "stderr",
     "output_type": "stream",
     "text": [
      "Perturbing graph:  23%|██▎       | 57/253 [07:27<27:17,  8.35s/it]"
     ]
    },
    {
     "name": "stdout",
     "output_type": "stream",
     "text": [
      "GCN loss on unlabled data: 0.7383043169975281\n",
      "GCN acc on unlabled data: 0.7952615109521681\n",
      "attack loss: 0.6923044323921204\n"
     ]
    },
    {
     "name": "stderr",
     "output_type": "stream",
     "text": [
      "Perturbing graph:  23%|██▎       | 58/253 [07:35<27:10,  8.36s/it]"
     ]
    },
    {
     "name": "stdout",
     "output_type": "stream",
     "text": [
      "GCN loss on unlabled data: 0.7767102122306824\n",
      "GCN acc on unlabled data: 0.7885561019222173\n",
      "attack loss: 0.7445900440216064\n"
     ]
    },
    {
     "name": "stderr",
     "output_type": "stream",
     "text": [
      "Perturbing graph:  23%|██▎       | 59/253 [07:43<26:42,  8.26s/it]"
     ]
    },
    {
     "name": "stdout",
     "output_type": "stream",
     "text": [
      "GCN loss on unlabled data: 0.761866569519043\n",
      "GCN acc on unlabled data: 0.7916852928028609\n",
      "attack loss: 0.7118284702301025\n"
     ]
    },
    {
     "name": "stderr",
     "output_type": "stream",
     "text": [
      "Perturbing graph:  24%|██▎       | 60/253 [07:51<26:19,  8.18s/it]"
     ]
    },
    {
     "name": "stdout",
     "output_type": "stream",
     "text": [
      "GCN loss on unlabled data: 0.7353032231330872\n",
      "GCN acc on unlabled data: 0.7939204291461779\n",
      "attack loss: 0.669226884841919\n"
     ]
    },
    {
     "name": "stderr",
     "output_type": "stream",
     "text": [
      "Perturbing graph:  24%|██▍       | 61/253 [07:59<26:03,  8.14s/it]"
     ]
    },
    {
     "name": "stdout",
     "output_type": "stream",
     "text": [
      "GCN loss on unlabled data: 0.7773066163063049\n",
      "GCN acc on unlabled data: 0.7840858292355833\n",
      "attack loss: 0.738220751285553\n"
     ]
    },
    {
     "name": "stderr",
     "output_type": "stream",
     "text": [
      "Perturbing graph:  25%|██▍       | 62/253 [08:07<25:46,  8.10s/it]"
     ]
    },
    {
     "name": "stdout",
     "output_type": "stream",
     "text": [
      "GCN loss on unlabled data: 0.8072777390480042\n",
      "GCN acc on unlabled data: 0.7903442109968708\n",
      "attack loss: 0.7688669562339783\n"
     ]
    },
    {
     "name": "stderr",
     "output_type": "stream",
     "text": [
      "Perturbing graph:  25%|██▍       | 63/253 [08:15<25:33,  8.07s/it]"
     ]
    },
    {
     "name": "stdout",
     "output_type": "stream",
     "text": [
      "GCN loss on unlabled data: 0.7301650643348694\n",
      "GCN acc on unlabled data: 0.7907912382655342\n",
      "attack loss: 0.6799662709236145\n"
     ]
    },
    {
     "name": "stderr",
     "output_type": "stream",
     "text": [
      "Perturbing graph:  25%|██▌       | 64/253 [08:23<25:23,  8.06s/it]"
     ]
    },
    {
     "name": "stdout",
     "output_type": "stream",
     "text": [
      "GCN loss on unlabled data: 0.7233675718307495\n",
      "GCN acc on unlabled data: 0.7858739383102369\n",
      "attack loss: 0.6502709984779358\n"
     ]
    },
    {
     "name": "stderr",
     "output_type": "stream",
     "text": [
      "Perturbing graph:  26%|██▌       | 65/253 [08:31<25:08,  8.03s/it]"
     ]
    },
    {
     "name": "stdout",
     "output_type": "stream",
     "text": [
      "GCN loss on unlabled data: 0.7725377082824707\n",
      "GCN acc on unlabled data: 0.7907912382655342\n",
      "attack loss: 0.7499775886535645\n"
     ]
    },
    {
     "name": "stderr",
     "output_type": "stream",
     "text": [
      "Perturbing graph:  26%|██▌       | 66/253 [08:39<25:01,  8.03s/it]"
     ]
    },
    {
     "name": "stdout",
     "output_type": "stream",
     "text": [
      "GCN loss on unlabled data: 0.7890689969062805\n",
      "GCN acc on unlabled data: 0.7939204291461779\n",
      "attack loss: 0.7696555852890015\n"
     ]
    },
    {
     "name": "stderr",
     "output_type": "stream",
     "text": [
      "Perturbing graph:  26%|██▋       | 67/253 [08:47<24:51,  8.02s/it]"
     ]
    },
    {
     "name": "stdout",
     "output_type": "stream",
     "text": [
      "GCN loss on unlabled data: 0.7933163046836853\n",
      "GCN acc on unlabled data: 0.7881090746535538\n",
      "attack loss: 0.7498591542243958\n"
     ]
    },
    {
     "name": "stderr",
     "output_type": "stream",
     "text": [
      "Perturbing graph:  27%|██▋       | 68/253 [08:55<24:44,  8.02s/it]"
     ]
    },
    {
     "name": "stdout",
     "output_type": "stream",
     "text": [
      "GCN loss on unlabled data: 0.8509459495544434\n",
      "GCN acc on unlabled data: 0.7836388019669199\n",
      "attack loss: 0.8348901271820068\n"
     ]
    },
    {
     "name": "stderr",
     "output_type": "stream",
     "text": [
      "Perturbing graph:  27%|██▋       | 69/253 [09:03<24:33,  8.01s/it]"
     ]
    },
    {
     "name": "stdout",
     "output_type": "stream",
     "text": [
      "GCN loss on unlabled data: 0.8121233582496643\n",
      "GCN acc on unlabled data: 0.7836388019669199\n",
      "attack loss: 0.7602022290229797\n"
     ]
    },
    {
     "name": "stderr",
     "output_type": "stream",
     "text": [
      "Perturbing graph:  28%|██▊       | 70/253 [09:11<24:28,  8.02s/it]"
     ]
    },
    {
     "name": "stdout",
     "output_type": "stream",
     "text": [
      "GCN loss on unlabled data: 0.8079995512962341\n",
      "GCN acc on unlabled data: 0.7881090746535538\n",
      "attack loss: 0.7513216733932495\n"
     ]
    },
    {
     "name": "stderr",
     "output_type": "stream",
     "text": [
      "Perturbing graph:  28%|██▊       | 71/253 [09:19<24:19,  8.02s/it]"
     ]
    },
    {
     "name": "stdout",
     "output_type": "stream",
     "text": [
      "GCN loss on unlabled data: 0.7825012803077698\n",
      "GCN acc on unlabled data: 0.7760393383996423\n",
      "attack loss: 0.7596805691719055\n"
     ]
    },
    {
     "name": "stderr",
     "output_type": "stream",
     "text": [
      "Perturbing graph:  28%|██▊       | 72/253 [09:27<24:10,  8.02s/it]"
     ]
    },
    {
     "name": "stdout",
     "output_type": "stream",
     "text": [
      "GCN loss on unlabled data: 0.7814808487892151\n",
      "GCN acc on unlabled data: 0.7907912382655342\n",
      "attack loss: 0.7353938221931458\n"
     ]
    },
    {
     "name": "stderr",
     "output_type": "stream",
     "text": [
      "Perturbing graph:  29%|██▉       | 73/253 [09:35<23:59,  8.00s/it]"
     ]
    },
    {
     "name": "stdout",
     "output_type": "stream",
     "text": [
      "GCN loss on unlabled data: 0.8070840835571289\n",
      "GCN acc on unlabled data: 0.7827447474295932\n",
      "attack loss: 0.740763247013092\n"
     ]
    },
    {
     "name": "stderr",
     "output_type": "stream",
     "text": [
      "Perturbing graph:  29%|██▉       | 74/253 [09:44<24:20,  8.16s/it]"
     ]
    },
    {
     "name": "stdout",
     "output_type": "stream",
     "text": [
      "GCN loss on unlabled data: 0.8068212270736694\n",
      "GCN acc on unlabled data: 0.7849798837729102\n",
      "attack loss: 0.7591026425361633\n"
     ]
    },
    {
     "name": "stderr",
     "output_type": "stream",
     "text": [
      "Perturbing graph:  30%|██▉       | 75/253 [09:52<24:17,  8.19s/it]"
     ]
    },
    {
     "name": "stdout",
     "output_type": "stream",
     "text": [
      "GCN loss on unlabled data: 0.8313465118408203\n",
      "GCN acc on unlabled data: 0.7778274474742959\n",
      "attack loss: 0.7859733700752258\n"
     ]
    },
    {
     "name": "stderr",
     "output_type": "stream",
     "text": [
      "Perturbing graph:  30%|███       | 76/253 [10:01<24:22,  8.26s/it]"
     ]
    },
    {
     "name": "stdout",
     "output_type": "stream",
     "text": [
      "GCN loss on unlabled data: 0.8578997254371643\n",
      "GCN acc on unlabled data: 0.7760393383996423\n",
      "attack loss: 0.8660996556282043\n"
     ]
    },
    {
     "name": "stderr",
     "output_type": "stream",
     "text": [
      "Perturbing graph:  30%|███       | 77/253 [10:09<23:57,  8.17s/it]"
     ]
    },
    {
     "name": "stdout",
     "output_type": "stream",
     "text": [
      "GCN loss on unlabled data: 0.8084556460380554\n",
      "GCN acc on unlabled data: 0.7894501564595441\n",
      "attack loss: 0.7762318849563599\n"
     ]
    },
    {
     "name": "stderr",
     "output_type": "stream",
     "text": [
      "Perturbing graph:  31%|███       | 78/253 [10:17<23:42,  8.13s/it]"
     ]
    },
    {
     "name": "stdout",
     "output_type": "stream",
     "text": [
      "GCN loss on unlabled data: 0.8070744872093201\n",
      "GCN acc on unlabled data: 0.7787215020116227\n",
      "attack loss: 0.7799203395843506\n"
     ]
    },
    {
     "name": "stderr",
     "output_type": "stream",
     "text": [
      "Perturbing graph:  31%|███       | 79/253 [10:25<23:27,  8.09s/it]"
     ]
    },
    {
     "name": "stdout",
     "output_type": "stream",
     "text": [
      "GCN loss on unlabled data: 0.8164724707603455\n",
      "GCN acc on unlabled data: 0.7822977201609298\n",
      "attack loss: 0.7924575209617615\n"
     ]
    },
    {
     "name": "stderr",
     "output_type": "stream",
     "text": [
      "Perturbing graph:  32%|███▏      | 80/253 [10:33<23:16,  8.07s/it]"
     ]
    },
    {
     "name": "stdout",
     "output_type": "stream",
     "text": [
      "GCN loss on unlabled data: 0.890628457069397\n",
      "GCN acc on unlabled data: 0.7800625838176128\n",
      "attack loss: 0.8489426970481873\n"
     ]
    },
    {
     "name": "stderr",
     "output_type": "stream",
     "text": [
      "Perturbing graph:  32%|███▏      | 81/253 [10:41<23:02,  8.04s/it]"
     ]
    },
    {
     "name": "stdout",
     "output_type": "stream",
     "text": [
      "GCN loss on unlabled data: 0.8606714010238647\n",
      "GCN acc on unlabled data: 0.7724631202503353\n",
      "attack loss: 0.8121520280838013\n"
     ]
    },
    {
     "name": "stderr",
     "output_type": "stream",
     "text": [
      "Perturbing graph:  32%|███▏      | 82/253 [10:49<22:50,  8.01s/it]"
     ]
    },
    {
     "name": "stdout",
     "output_type": "stream",
     "text": [
      "GCN loss on unlabled data: 0.8545816540718079\n",
      "GCN acc on unlabled data: 0.7711220384443451\n",
      "attack loss: 0.840212881565094\n"
     ]
    },
    {
     "name": "stderr",
     "output_type": "stream",
     "text": [
      "Perturbing graph:  33%|███▎      | 83/253 [10:57<22:41,  8.01s/it]"
     ]
    },
    {
     "name": "stdout",
     "output_type": "stream",
     "text": [
      "GCN loss on unlabled data: 0.8734456300735474\n",
      "GCN acc on unlabled data: 0.7662047384890478\n",
      "attack loss: 0.8315324783325195\n"
     ]
    },
    {
     "name": "stderr",
     "output_type": "stream",
     "text": [
      "Perturbing graph:  33%|███▎      | 84/253 [11:05<22:32,  8.01s/it]"
     ]
    },
    {
     "name": "stdout",
     "output_type": "stream",
     "text": [
      "GCN loss on unlabled data: 0.826273500919342\n",
      "GCN acc on unlabled data: 0.7720160929816718\n",
      "attack loss: 0.7855347990989685\n"
     ]
    },
    {
     "name": "stderr",
     "output_type": "stream",
     "text": [
      "Perturbing graph:  34%|███▎      | 85/253 [11:13<22:27,  8.02s/it]"
     ]
    },
    {
     "name": "stdout",
     "output_type": "stream",
     "text": [
      "GCN loss on unlabled data: 0.8735167384147644\n",
      "GCN acc on unlabled data: 0.7729101475189987\n",
      "attack loss: 0.836265504360199\n"
     ]
    },
    {
     "name": "stderr",
     "output_type": "stream",
     "text": [
      "Perturbing graph:  34%|███▍      | 86/253 [11:21<22:19,  8.02s/it]"
     ]
    },
    {
     "name": "stdout",
     "output_type": "stream",
     "text": [
      "GCN loss on unlabled data: 0.8246158957481384\n",
      "GCN acc on unlabled data: 0.7796155565489495\n",
      "attack loss: 0.781848132610321\n"
     ]
    },
    {
     "name": "stderr",
     "output_type": "stream",
     "text": [
      "Perturbing graph:  34%|███▍      | 87/253 [11:29<22:11,  8.02s/it]"
     ]
    },
    {
     "name": "stdout",
     "output_type": "stream",
     "text": [
      "GCN loss on unlabled data: 0.8443800210952759\n",
      "GCN acc on unlabled data: 0.775592311130979\n",
      "attack loss: 0.7951457500457764\n"
     ]
    },
    {
     "name": "stderr",
     "output_type": "stream",
     "text": [
      "Perturbing graph:  35%|███▍      | 88/253 [11:37<21:59,  8.00s/it]"
     ]
    },
    {
     "name": "stdout",
     "output_type": "stream",
     "text": [
      "GCN loss on unlabled data: 0.8623082041740417\n",
      "GCN acc on unlabled data: 0.7715690657130085\n",
      "attack loss: 0.8193472623825073\n"
     ]
    },
    {
     "name": "stderr",
     "output_type": "stream",
     "text": [
      "Perturbing graph:  35%|███▌      | 89/253 [11:45<21:53,  8.01s/it]"
     ]
    },
    {
     "name": "stdout",
     "output_type": "stream",
     "text": [
      "GCN loss on unlabled data: 0.8605303764343262\n",
      "GCN acc on unlabled data: 0.7858739383102369\n",
      "attack loss: 0.8418997526168823\n"
     ]
    },
    {
     "name": "stderr",
     "output_type": "stream",
     "text": [
      "Perturbing graph:  36%|███▌      | 90/253 [11:53<21:44,  8.01s/it]"
     ]
    },
    {
     "name": "stdout",
     "output_type": "stream",
     "text": [
      "GCN loss on unlabled data: 0.8773464560508728\n",
      "GCN acc on unlabled data: 0.7702279839070183\n",
      "attack loss: 0.8400974869728088\n"
     ]
    },
    {
     "name": "stderr",
     "output_type": "stream",
     "text": [
      "Perturbing graph:  36%|███▌      | 91/253 [12:01<21:35,  8.00s/it]"
     ]
    },
    {
     "name": "stdout",
     "output_type": "stream",
     "text": [
      "GCN loss on unlabled data: 0.8603144288063049\n",
      "GCN acc on unlabled data: 0.7827447474295932\n",
      "attack loss: 0.8268012404441833\n"
     ]
    },
    {
     "name": "stderr",
     "output_type": "stream",
     "text": [
      "Perturbing graph:  36%|███▋      | 92/253 [12:09<21:25,  7.99s/it]"
     ]
    },
    {
     "name": "stdout",
     "output_type": "stream",
     "text": [
      "GCN loss on unlabled data: 0.8655011057853699\n",
      "GCN acc on unlabled data: 0.7760393383996423\n",
      "attack loss: 0.8790530562400818\n"
     ]
    },
    {
     "name": "stderr",
     "output_type": "stream",
     "text": [
      "Perturbing graph:  37%|███▋      | 93/253 [12:17<21:20,  8.00s/it]"
     ]
    },
    {
     "name": "stdout",
     "output_type": "stream",
     "text": [
      "GCN loss on unlabled data: 0.8961423635482788\n",
      "GCN acc on unlabled data: 0.7742512293249888\n",
      "attack loss: 0.8686014413833618\n"
     ]
    },
    {
     "name": "stderr",
     "output_type": "stream",
     "text": [
      "Perturbing graph:  37%|███▋      | 94/253 [12:25<21:11,  8.00s/it]"
     ]
    },
    {
     "name": "stdout",
     "output_type": "stream",
     "text": [
      "GCN loss on unlabled data: 0.9021905064582825\n",
      "GCN acc on unlabled data: 0.7791685292802861\n",
      "attack loss: 0.8778402209281921\n"
     ]
    },
    {
     "name": "stderr",
     "output_type": "stream",
     "text": [
      "Perturbing graph:  38%|███▊      | 95/253 [12:33<21:07,  8.02s/it]"
     ]
    },
    {
     "name": "stdout",
     "output_type": "stream",
     "text": [
      "GCN loss on unlabled data: 0.8890630006790161\n",
      "GCN acc on unlabled data: 0.7738042020563254\n",
      "attack loss: 0.8619872331619263\n"
     ]
    },
    {
     "name": "stderr",
     "output_type": "stream",
     "text": [
      "Perturbing graph:  38%|███▊      | 96/253 [12:41<20:59,  8.02s/it]"
     ]
    },
    {
     "name": "stdout",
     "output_type": "stream",
     "text": [
      "GCN loss on unlabled data: 0.8971017599105835\n",
      "GCN acc on unlabled data: 0.7800625838176128\n",
      "attack loss: 0.8931071758270264\n"
     ]
    },
    {
     "name": "stderr",
     "output_type": "stream",
     "text": [
      "Perturbing graph:  38%|███▊      | 97/253 [12:49<20:50,  8.02s/it]"
     ]
    },
    {
     "name": "stdout",
     "output_type": "stream",
     "text": [
      "GCN loss on unlabled data: 0.8922811150550842\n",
      "GCN acc on unlabled data: 0.7688869021010282\n",
      "attack loss: 0.8629661202430725\n"
     ]
    },
    {
     "name": "stderr",
     "output_type": "stream",
     "text": [
      "Perturbing graph:  39%|███▊      | 98/253 [12:57<20:40,  8.00s/it]"
     ]
    },
    {
     "name": "stdout",
     "output_type": "stream",
     "text": [
      "GCN loss on unlabled data: 0.8924980759620667\n",
      "GCN acc on unlabled data: 0.7773804202056326\n",
      "attack loss: 0.8561736345291138\n"
     ]
    },
    {
     "name": "stderr",
     "output_type": "stream",
     "text": [
      "Perturbing graph:  39%|███▉      | 99/253 [13:05<20:36,  8.03s/it]"
     ]
    },
    {
     "name": "stdout",
     "output_type": "stream",
     "text": [
      "GCN loss on unlabled data: 0.9292389154434204\n",
      "GCN acc on unlabled data: 0.7693339293696916\n",
      "attack loss: 0.9257054924964905\n"
     ]
    },
    {
     "name": "stderr",
     "output_type": "stream",
     "text": [
      "Perturbing graph:  40%|███▉      | 100/253 [13:13<20:39,  8.10s/it]"
     ]
    },
    {
     "name": "stdout",
     "output_type": "stream",
     "text": [
      "GCN loss on unlabled data: 0.9134741425514221\n",
      "GCN acc on unlabled data: 0.7742512293249888\n",
      "attack loss: 0.9013946652412415\n"
     ]
    },
    {
     "name": "stderr",
     "output_type": "stream",
     "text": [
      "Perturbing graph:  40%|███▉      | 101/253 [13:21<20:36,  8.14s/it]"
     ]
    },
    {
     "name": "stdout",
     "output_type": "stream",
     "text": [
      "GCN loss on unlabled data: 0.9082595705986023\n",
      "GCN acc on unlabled data: 0.7742512293249888\n",
      "attack loss: 0.9197279214859009\n"
     ]
    },
    {
     "name": "stderr",
     "output_type": "stream",
     "text": [
      "Perturbing graph:  40%|████      | 102/253 [13:29<20:27,  8.13s/it]"
     ]
    },
    {
     "name": "stdout",
     "output_type": "stream",
     "text": [
      "GCN loss on unlabled data: 0.936614453792572\n",
      "GCN acc on unlabled data: 0.7666517657577112\n",
      "attack loss: 0.9287695288658142\n"
     ]
    },
    {
     "name": "stderr",
     "output_type": "stream",
     "text": [
      "Perturbing graph:  41%|████      | 103/253 [13:37<20:18,  8.12s/it]"
     ]
    },
    {
     "name": "stdout",
     "output_type": "stream",
     "text": [
      "GCN loss on unlabled data: 0.9668548107147217\n",
      "GCN acc on unlabled data: 0.7563701385784533\n",
      "attack loss: 0.9401653409004211\n"
     ]
    },
    {
     "name": "stderr",
     "output_type": "stream",
     "text": [
      "Perturbing graph:  41%|████      | 104/253 [13:46<20:09,  8.12s/it]"
     ]
    },
    {
     "name": "stdout",
     "output_type": "stream",
     "text": [
      "GCN loss on unlabled data: 0.913579523563385\n",
      "GCN acc on unlabled data: 0.7644166294143943\n",
      "attack loss: 0.8920873403549194\n"
     ]
    },
    {
     "name": "stderr",
     "output_type": "stream",
     "text": [
      "Perturbing graph:  42%|████▏     | 105/253 [13:54<20:00,  8.11s/it]"
     ]
    },
    {
     "name": "stdout",
     "output_type": "stream",
     "text": [
      "GCN loss on unlabled data: 0.9072871208190918\n",
      "GCN acc on unlabled data: 0.7742512293249888\n",
      "attack loss: 0.8871796727180481\n"
     ]
    },
    {
     "name": "stderr",
     "output_type": "stream",
     "text": [
      "Perturbing graph:  42%|████▏     | 106/253 [14:02<19:53,  8.12s/it]"
     ]
    },
    {
     "name": "stdout",
     "output_type": "stream",
     "text": [
      "GCN loss on unlabled data: 0.9932411313056946\n",
      "GCN acc on unlabled data: 0.7653106839517211\n",
      "attack loss: 0.9665949940681458\n"
     ]
    },
    {
     "name": "stderr",
     "output_type": "stream",
     "text": [
      "Perturbing graph:  42%|████▏     | 107/253 [14:10<19:44,  8.12s/it]"
     ]
    },
    {
     "name": "stdout",
     "output_type": "stream",
     "text": [
      "GCN loss on unlabled data: 0.9247581958770752\n",
      "GCN acc on unlabled data: 0.7670987930263746\n",
      "attack loss: 0.9004303812980652\n"
     ]
    },
    {
     "name": "stderr",
     "output_type": "stream",
     "text": [
      "Perturbing graph:  43%|████▎     | 108/253 [14:18<19:36,  8.11s/it]"
     ]
    },
    {
     "name": "stdout",
     "output_type": "stream",
     "text": [
      "GCN loss on unlabled data: 0.9719707369804382\n",
      "GCN acc on unlabled data: 0.7657577112203845\n",
      "attack loss: 0.9745094180107117\n"
     ]
    },
    {
     "name": "stderr",
     "output_type": "stream",
     "text": [
      "Perturbing graph:  43%|████▎     | 109/253 [14:26<19:27,  8.11s/it]"
     ]
    },
    {
     "name": "stdout",
     "output_type": "stream",
     "text": [
      "GCN loss on unlabled data: 1.0022846460342407\n",
      "GCN acc on unlabled data: 0.7572641931157801\n",
      "attack loss: 0.9936740398406982\n"
     ]
    },
    {
     "name": "stderr",
     "output_type": "stream",
     "text": [
      "Perturbing graph:  43%|████▎     | 110/253 [14:34<19:18,  8.10s/it]"
     ]
    },
    {
     "name": "stdout",
     "output_type": "stream",
     "text": [
      "GCN loss on unlabled data: 0.9510446190834045\n",
      "GCN acc on unlabled data: 0.7612874385337506\n",
      "attack loss: 0.9338830709457397\n"
     ]
    },
    {
     "name": "stderr",
     "output_type": "stream",
     "text": [
      "Perturbing graph:  44%|████▍     | 111/253 [14:42<19:10,  8.10s/it]"
     ]
    },
    {
     "name": "stdout",
     "output_type": "stream",
     "text": [
      "GCN loss on unlabled data: 1.0105029344558716\n",
      "GCN acc on unlabled data: 0.7639696021457308\n",
      "attack loss: 0.9975243210792542\n"
     ]
    },
    {
     "name": "stderr",
     "output_type": "stream",
     "text": [
      "Perturbing graph:  44%|████▍     | 112/253 [14:50<18:59,  8.08s/it]"
     ]
    },
    {
     "name": "stdout",
     "output_type": "stream",
     "text": [
      "GCN loss on unlabled data: 0.9702160358428955\n",
      "GCN acc on unlabled data: 0.7626285203397407\n",
      "attack loss: 0.9718495011329651\n"
     ]
    },
    {
     "name": "stderr",
     "output_type": "stream",
     "text": [
      "Perturbing graph:  45%|████▍     | 113/253 [14:58<18:50,  8.08s/it]"
     ]
    },
    {
     "name": "stdout",
     "output_type": "stream",
     "text": [
      "GCN loss on unlabled data: 0.9380714297294617\n",
      "GCN acc on unlabled data: 0.7662047384890478\n",
      "attack loss: 0.9193918108940125\n"
     ]
    },
    {
     "name": "stderr",
     "output_type": "stream",
     "text": [
      "Perturbing graph:  45%|████▌     | 114/253 [15:06<18:42,  8.08s/it]"
     ]
    },
    {
     "name": "stdout",
     "output_type": "stream",
     "text": [
      "GCN loss on unlabled data: 0.9674863815307617\n",
      "GCN acc on unlabled data: 0.7581582476531068\n",
      "attack loss: 0.9468633532524109\n"
     ]
    },
    {
     "name": "stderr",
     "output_type": "stream",
     "text": [
      "Perturbing graph:  45%|████▌     | 115/253 [15:15<18:36,  8.09s/it]"
     ]
    },
    {
     "name": "stdout",
     "output_type": "stream",
     "text": [
      "GCN loss on unlabled data: 0.986059308052063\n",
      "GCN acc on unlabled data: 0.759499329459097\n",
      "attack loss: 0.9677367806434631\n"
     ]
    },
    {
     "name": "stderr",
     "output_type": "stream",
     "text": [
      "Perturbing graph:  46%|████▌     | 116/253 [15:23<18:27,  8.09s/it]"
     ]
    },
    {
     "name": "stdout",
     "output_type": "stream",
     "text": [
      "GCN loss on unlabled data: 0.9473816156387329\n",
      "GCN acc on unlabled data: 0.7653106839517211\n",
      "attack loss: 0.9044962525367737\n"
     ]
    },
    {
     "name": "stderr",
     "output_type": "stream",
     "text": [
      "Perturbing graph:  46%|████▌     | 117/253 [15:31<18:19,  8.08s/it]"
     ]
    },
    {
     "name": "stdout",
     "output_type": "stream",
     "text": [
      "GCN loss on unlabled data: 0.9727880954742432\n",
      "GCN acc on unlabled data: 0.7603933839964238\n",
      "attack loss: 0.9718421101570129\n"
     ]
    },
    {
     "name": "stderr",
     "output_type": "stream",
     "text": [
      "Perturbing graph:  47%|████▋     | 118/253 [15:39<18:11,  8.08s/it]"
     ]
    },
    {
     "name": "stdout",
     "output_type": "stream",
     "text": [
      "GCN loss on unlabled data: 1.0544066429138184\n",
      "GCN acc on unlabled data: 0.7621814930710773\n",
      "attack loss: 1.0810699462890625\n"
     ]
    },
    {
     "name": "stderr",
     "output_type": "stream",
     "text": [
      "Perturbing graph:  47%|████▋     | 119/253 [15:47<18:03,  8.08s/it]"
     ]
    },
    {
     "name": "stdout",
     "output_type": "stream",
     "text": [
      "GCN loss on unlabled data: 0.9608306288719177\n",
      "GCN acc on unlabled data: 0.7541350022351363\n",
      "attack loss: 0.9419234395027161\n"
     ]
    },
    {
     "name": "stderr",
     "output_type": "stream",
     "text": [
      "Perturbing graph:  47%|████▋     | 120/253 [15:55<17:56,  8.09s/it]"
     ]
    },
    {
     "name": "stdout",
     "output_type": "stream",
     "text": [
      "GCN loss on unlabled data: 1.0005595684051514\n",
      "GCN acc on unlabled data: 0.7523468931604828\n",
      "attack loss: 0.9904713034629822\n"
     ]
    },
    {
     "name": "stderr",
     "output_type": "stream",
     "text": [
      "Perturbing graph:  48%|████▊     | 121/253 [16:03<17:51,  8.11s/it]"
     ]
    },
    {
     "name": "stdout",
     "output_type": "stream",
     "text": [
      "GCN loss on unlabled data: 1.013251543045044\n",
      "GCN acc on unlabled data: 0.753687974966473\n",
      "attack loss: 0.9978153109550476\n"
     ]
    },
    {
     "name": "stderr",
     "output_type": "stream",
     "text": [
      "Perturbing graph:  48%|████▊     | 122/253 [16:12<17:52,  8.19s/it]"
     ]
    },
    {
     "name": "stdout",
     "output_type": "stream",
     "text": [
      "GCN loss on unlabled data: 1.0368037223815918\n",
      "GCN acc on unlabled data: 0.7572641931157801\n",
      "attack loss: 1.0160918235778809\n"
     ]
    },
    {
     "name": "stderr",
     "output_type": "stream",
     "text": [
      "Perturbing graph:  49%|████▊     | 123/253 [16:20<17:49,  8.23s/it]"
     ]
    },
    {
     "name": "stdout",
     "output_type": "stream",
     "text": [
      "GCN loss on unlabled data: 0.9500102400779724\n",
      "GCN acc on unlabled data: 0.761734465802414\n",
      "attack loss: 0.9514308571815491\n"
     ]
    },
    {
     "name": "stderr",
     "output_type": "stream",
     "text": [
      "Perturbing graph:  49%|████▉     | 124/253 [16:28<17:42,  8.24s/it]"
     ]
    },
    {
     "name": "stdout",
     "output_type": "stream",
     "text": [
      "GCN loss on unlabled data: 0.9815918803215027\n",
      "GCN acc on unlabled data: 0.767545820295038\n",
      "attack loss: 0.9937882423400879\n"
     ]
    },
    {
     "name": "stderr",
     "output_type": "stream",
     "text": [
      "Perturbing graph:  49%|████▉     | 125/253 [16:36<17:32,  8.22s/it]"
     ]
    },
    {
     "name": "stdout",
     "output_type": "stream",
     "text": [
      "GCN loss on unlabled data: 0.969699501991272\n",
      "GCN acc on unlabled data: 0.7679928475637013\n",
      "attack loss: 0.9716005921363831\n"
     ]
    },
    {
     "name": "stderr",
     "output_type": "stream",
     "text": [
      "Perturbing graph:  50%|████▉     | 126/253 [16:45<17:30,  8.27s/it]"
     ]
    },
    {
     "name": "stdout",
     "output_type": "stream",
     "text": [
      "GCN loss on unlabled data: 1.0119500160217285\n",
      "GCN acc on unlabled data: 0.7465355386678587\n",
      "attack loss: 0.9865809082984924\n"
     ]
    },
    {
     "name": "stderr",
     "output_type": "stream",
     "text": [
      "Perturbing graph:  50%|█████     | 127/253 [16:53<17:18,  8.24s/it]"
     ]
    },
    {
     "name": "stdout",
     "output_type": "stream",
     "text": [
      "GCN loss on unlabled data: 1.03069269657135\n",
      "GCN acc on unlabled data: 0.7639696021457308\n",
      "attack loss: 1.0453801155090332\n"
     ]
    },
    {
     "name": "stderr",
     "output_type": "stream",
     "text": [
      "Perturbing graph:  51%|█████     | 128/253 [17:01<17:22,  8.34s/it]"
     ]
    },
    {
     "name": "stdout",
     "output_type": "stream",
     "text": [
      "GCN loss on unlabled data: 1.1159882545471191\n",
      "GCN acc on unlabled data: 0.7492177022798391\n",
      "attack loss: 1.1270052194595337\n"
     ]
    },
    {
     "name": "stderr",
     "output_type": "stream",
     "text": [
      "Perturbing graph:  51%|█████     | 129/253 [17:10<17:05,  8.27s/it]"
     ]
    },
    {
     "name": "stdout",
     "output_type": "stream",
     "text": [
      "GCN loss on unlabled data: 1.0033644437789917\n",
      "GCN acc on unlabled data: 0.75592311130979\n",
      "attack loss: 0.9822222590446472\n"
     ]
    },
    {
     "name": "stderr",
     "output_type": "stream",
     "text": [
      "Perturbing graph:  51%|█████▏    | 130/253 [17:18<17:15,  8.42s/it]"
     ]
    },
    {
     "name": "stdout",
     "output_type": "stream",
     "text": [
      "GCN loss on unlabled data: 1.0321111679077148\n",
      "GCN acc on unlabled data: 0.7460885113991953\n",
      "attack loss: 1.0071873664855957\n"
     ]
    },
    {
     "name": "stderr",
     "output_type": "stream",
     "text": [
      "Perturbing graph:  52%|█████▏    | 131/253 [17:26<16:58,  8.35s/it]"
     ]
    },
    {
     "name": "stdout",
     "output_type": "stream",
     "text": [
      "GCN loss on unlabled data: 1.0518074035644531\n",
      "GCN acc on unlabled data: 0.753687974966473\n",
      "attack loss: 1.028444766998291\n"
     ]
    },
    {
     "name": "stderr",
     "output_type": "stream",
     "text": [
      "Perturbing graph:  52%|█████▏    | 132/253 [17:35<16:59,  8.43s/it]"
     ]
    },
    {
     "name": "stdout",
     "output_type": "stream",
     "text": [
      "GCN loss on unlabled data: 1.0180447101593018\n",
      "GCN acc on unlabled data: 0.7612874385337506\n",
      "attack loss: 1.0106253623962402\n"
     ]
    },
    {
     "name": "stderr",
     "output_type": "stream",
     "text": [
      "Perturbing graph:  53%|█████▎    | 133/253 [17:43<16:41,  8.35s/it]"
     ]
    },
    {
     "name": "stdout",
     "output_type": "stream",
     "text": [
      "GCN loss on unlabled data: 1.0221558809280396\n",
      "GCN acc on unlabled data: 0.7599463567277603\n",
      "attack loss: 1.0208228826522827\n"
     ]
    },
    {
     "name": "stderr",
     "output_type": "stream",
     "text": [
      "Perturbing graph:  53%|█████▎    | 134/253 [17:52<16:34,  8.36s/it]"
     ]
    },
    {
     "name": "stdout",
     "output_type": "stream",
     "text": [
      "GCN loss on unlabled data: 1.0622594356536865\n",
      "GCN acc on unlabled data: 0.7541350022351363\n",
      "attack loss: 1.0532777309417725\n"
     ]
    },
    {
     "name": "stderr",
     "output_type": "stream",
     "text": [
      "Perturbing graph:  53%|█████▎    | 135/253 [18:00<16:24,  8.34s/it]"
     ]
    },
    {
     "name": "stdout",
     "output_type": "stream",
     "text": [
      "GCN loss on unlabled data: 1.0746978521347046\n",
      "GCN acc on unlabled data: 0.7523468931604828\n",
      "attack loss: 1.0419830083847046\n"
     ]
    },
    {
     "name": "stderr",
     "output_type": "stream",
     "text": [
      "Perturbing graph:  54%|█████▍    | 136/253 [18:08<16:18,  8.36s/it]"
     ]
    },
    {
     "name": "stdout",
     "output_type": "stream",
     "text": [
      "GCN loss on unlabled data: 1.0695819854736328\n",
      "GCN acc on unlabled data: 0.7541350022351363\n",
      "attack loss: 1.0621843338012695\n"
     ]
    },
    {
     "name": "stderr",
     "output_type": "stream",
     "text": [
      "Perturbing graph:  54%|█████▍    | 137/253 [18:16<16:00,  8.28s/it]"
     ]
    },
    {
     "name": "stdout",
     "output_type": "stream",
     "text": [
      "GCN loss on unlabled data: 1.052012324333191\n",
      "GCN acc on unlabled data: 0.7630755476084041\n",
      "attack loss: 1.041058897972107\n"
     ]
    },
    {
     "name": "stderr",
     "output_type": "stream",
     "text": [
      "Perturbing graph:  55%|█████▍    | 138/253 [18:25<15:47,  8.24s/it]"
     ]
    },
    {
     "name": "stdout",
     "output_type": "stream",
     "text": [
      "GCN loss on unlabled data: 1.0615017414093018\n",
      "GCN acc on unlabled data: 0.7626285203397407\n",
      "attack loss: 1.0652059316635132\n"
     ]
    },
    {
     "name": "stderr",
     "output_type": "stream",
     "text": [
      "Perturbing graph:  55%|█████▍    | 139/253 [18:33<15:57,  8.40s/it]"
     ]
    },
    {
     "name": "stdout",
     "output_type": "stream",
     "text": [
      "GCN loss on unlabled data: 1.0640255212783813\n",
      "GCN acc on unlabled data: 0.7518998658918195\n",
      "attack loss: 1.070299744606018\n"
     ]
    },
    {
     "name": "stderr",
     "output_type": "stream",
     "text": [
      "Perturbing graph:  55%|█████▌    | 140/253 [18:42<16:00,  8.50s/it]"
     ]
    },
    {
     "name": "stdout",
     "output_type": "stream",
     "text": [
      "GCN loss on unlabled data: 1.0614285469055176\n",
      "GCN acc on unlabled data: 0.7666517657577112\n",
      "attack loss: 1.0754671096801758\n"
     ]
    },
    {
     "name": "stderr",
     "output_type": "stream",
     "text": [
      "Perturbing graph:  56%|█████▌    | 141/253 [18:50<15:43,  8.42s/it]"
     ]
    },
    {
     "name": "stdout",
     "output_type": "stream",
     "text": [
      "GCN loss on unlabled data: 1.1353130340576172\n",
      "GCN acc on unlabled data: 0.751452838623156\n",
      "attack loss: 1.1482908725738525\n"
     ]
    },
    {
     "name": "stderr",
     "output_type": "stream",
     "text": [
      "Perturbing graph:  56%|█████▌    | 142/253 [18:59<15:37,  8.44s/it]"
     ]
    },
    {
     "name": "stdout",
     "output_type": "stream",
     "text": [
      "GCN loss on unlabled data: 1.0268224477767944\n",
      "GCN acc on unlabled data: 0.7635225748770675\n",
      "attack loss: 1.0495836734771729\n"
     ]
    },
    {
     "name": "stderr",
     "output_type": "stream",
     "text": [
      "Perturbing graph:  57%|█████▋    | 143/253 [19:07<15:32,  8.47s/it]"
     ]
    },
    {
     "name": "stdout",
     "output_type": "stream",
     "text": [
      "GCN loss on unlabled data: 1.0386356115341187\n",
      "GCN acc on unlabled data: 0.7586052749217702\n",
      "attack loss: 1.0538297891616821\n"
     ]
    },
    {
     "name": "stderr",
     "output_type": "stream",
     "text": [
      "Perturbing graph:  57%|█████▋    | 144/253 [19:16<15:30,  8.54s/it]"
     ]
    },
    {
     "name": "stdout",
     "output_type": "stream",
     "text": [
      "GCN loss on unlabled data: 1.0071327686309814\n",
      "GCN acc on unlabled data: 0.7541350022351363\n",
      "attack loss: 0.9861049652099609\n"
     ]
    },
    {
     "name": "stderr",
     "output_type": "stream",
     "text": [
      "Perturbing graph:  57%|█████▋    | 145/253 [19:25<15:46,  8.77s/it]"
     ]
    },
    {
     "name": "stdout",
     "output_type": "stream",
     "text": [
      "GCN loss on unlabled data: 1.075314998626709\n",
      "GCN acc on unlabled data: 0.7635225748770675\n",
      "attack loss: 1.091790795326233\n"
     ]
    },
    {
     "name": "stderr",
     "output_type": "stream",
     "text": [
      "Perturbing graph:  58%|█████▊    | 146/253 [19:34<15:39,  8.78s/it]"
     ]
    },
    {
     "name": "stdout",
     "output_type": "stream",
     "text": [
      "GCN loss on unlabled data: 0.9850063323974609\n",
      "GCN acc on unlabled data: 0.7532409476978096\n",
      "attack loss: 0.9820741415023804\n"
     ]
    },
    {
     "name": "stderr",
     "output_type": "stream",
     "text": [
      "Perturbing graph:  58%|█████▊    | 147/253 [19:42<15:13,  8.62s/it]"
     ]
    },
    {
     "name": "stdout",
     "output_type": "stream",
     "text": [
      "GCN loss on unlabled data: 1.108949899673462\n",
      "GCN acc on unlabled data: 0.7532409476978096\n",
      "attack loss: 1.1261850595474243\n"
     ]
    },
    {
     "name": "stderr",
     "output_type": "stream",
     "text": [
      "Perturbing graph:  58%|█████▊    | 148/253 [19:51<14:55,  8.53s/it]"
     ]
    },
    {
     "name": "stdout",
     "output_type": "stream",
     "text": [
      "GCN loss on unlabled data: 1.0314265489578247\n",
      "GCN acc on unlabled data: 0.7657577112203845\n",
      "attack loss: 1.0398845672607422\n"
     ]
    },
    {
     "name": "stderr",
     "output_type": "stream",
     "text": [
      "Perturbing graph:  59%|█████▉    | 149/253 [19:59<14:34,  8.41s/it]"
     ]
    },
    {
     "name": "stdout",
     "output_type": "stream",
     "text": [
      "GCN loss on unlabled data: 1.1034380197525024\n",
      "GCN acc on unlabled data: 0.75592311130979\n",
      "attack loss: 1.1207659244537354\n"
     ]
    },
    {
     "name": "stderr",
     "output_type": "stream",
     "text": [
      "Perturbing graph:  59%|█████▉    | 150/253 [20:07<14:18,  8.33s/it]"
     ]
    },
    {
     "name": "stdout",
     "output_type": "stream",
     "text": [
      "GCN loss on unlabled data: 1.0867441892623901\n",
      "GCN acc on unlabled data: 0.7554760840411265\n",
      "attack loss: 1.0909929275512695\n"
     ]
    },
    {
     "name": "stderr",
     "output_type": "stream",
     "text": [
      "Perturbing graph:  60%|█████▉    | 151/253 [20:15<14:05,  8.29s/it]"
     ]
    },
    {
     "name": "stdout",
     "output_type": "stream",
     "text": [
      "GCN loss on unlabled data: 1.1070663928985596\n",
      "GCN acc on unlabled data: 0.7505587840858292\n",
      "attack loss: 1.1131001710891724\n"
     ]
    },
    {
     "name": "stderr",
     "output_type": "stream",
     "text": [
      "Perturbing graph:  60%|██████    | 152/253 [20:24<14:00,  8.32s/it]"
     ]
    },
    {
     "name": "stdout",
     "output_type": "stream",
     "text": [
      "GCN loss on unlabled data: 1.0940508842468262\n",
      "GCN acc on unlabled data: 0.7550290567724631\n",
      "attack loss: 1.0942175388336182\n"
     ]
    },
    {
     "name": "stderr",
     "output_type": "stream",
     "text": [
      "Perturbing graph:  60%|██████    | 153/253 [20:32<13:55,  8.36s/it]"
     ]
    },
    {
     "name": "stdout",
     "output_type": "stream",
     "text": [
      "GCN loss on unlabled data: 1.1239789724349976\n",
      "GCN acc on unlabled data: 0.7518998658918195\n",
      "attack loss: 1.1504207849502563\n"
     ]
    },
    {
     "name": "stderr",
     "output_type": "stream",
     "text": [
      "Perturbing graph:  61%|██████    | 154/253 [20:40<13:48,  8.37s/it]"
     ]
    },
    {
     "name": "stdout",
     "output_type": "stream",
     "text": [
      "GCN loss on unlabled data: 1.044603705406189\n",
      "GCN acc on unlabled data: 0.751452838623156\n",
      "attack loss: 1.0516912937164307\n"
     ]
    },
    {
     "name": "stderr",
     "output_type": "stream",
     "text": [
      "Perturbing graph:  61%|██████▏   | 155/253 [20:49<13:48,  8.45s/it]"
     ]
    },
    {
     "name": "stdout",
     "output_type": "stream",
     "text": [
      "GCN loss on unlabled data: 1.158700704574585\n",
      "GCN acc on unlabled data: 0.7581582476531068\n",
      "attack loss: 1.188683032989502\n"
     ]
    },
    {
     "name": "stderr",
     "output_type": "stream",
     "text": [
      "Perturbing graph:  62%|██████▏   | 156/253 [20:57<13:35,  8.41s/it]"
     ]
    },
    {
     "name": "stdout",
     "output_type": "stream",
     "text": [
      "GCN loss on unlabled data: 1.1511510610580444\n",
      "GCN acc on unlabled data: 0.7527939204291462\n",
      "attack loss: 1.1527409553527832\n"
     ]
    },
    {
     "name": "stderr",
     "output_type": "stream",
     "text": [
      "Perturbing graph:  62%|██████▏   | 157/253 [21:06<13:24,  8.38s/it]"
     ]
    },
    {
     "name": "stdout",
     "output_type": "stream",
     "text": [
      "GCN loss on unlabled data: 1.1421434879302979\n",
      "GCN acc on unlabled data: 0.7518998658918195\n",
      "attack loss: 1.1452784538269043\n"
     ]
    },
    {
     "name": "stderr",
     "output_type": "stream",
     "text": [
      "Perturbing graph:  62%|██████▏   | 158/253 [21:14<13:17,  8.39s/it]"
     ]
    },
    {
     "name": "stdout",
     "output_type": "stream",
     "text": [
      "GCN loss on unlabled data: 1.083604097366333\n",
      "GCN acc on unlabled data: 0.7545820295037997\n",
      "attack loss: 1.0956178903579712\n"
     ]
    },
    {
     "name": "stderr",
     "output_type": "stream",
     "text": [
      "Perturbing graph:  63%|██████▎   | 159/253 [21:22<13:06,  8.37s/it]"
     ]
    },
    {
     "name": "stdout",
     "output_type": "stream",
     "text": [
      "GCN loss on unlabled data: 1.1285232305526733\n",
      "GCN acc on unlabled data: 0.7563701385784533\n",
      "attack loss: 1.1538429260253906\n"
     ]
    },
    {
     "name": "stderr",
     "output_type": "stream",
     "text": [
      "Perturbing graph:  63%|██████▎   | 160/253 [21:31<12:56,  8.35s/it]"
     ]
    },
    {
     "name": "stdout",
     "output_type": "stream",
     "text": [
      "GCN loss on unlabled data: 1.175865888595581\n",
      "GCN acc on unlabled data: 0.7407241841752347\n",
      "attack loss: 1.1817841529846191\n"
     ]
    },
    {
     "name": "stderr",
     "output_type": "stream",
     "text": [
      "Perturbing graph:  64%|██████▎   | 161/253 [21:39<12:44,  8.32s/it]"
     ]
    },
    {
     "name": "stdout",
     "output_type": "stream",
     "text": [
      "GCN loss on unlabled data: 1.153525710105896\n",
      "GCN acc on unlabled data: 0.7550290567724631\n",
      "attack loss: 1.155232548713684\n"
     ]
    },
    {
     "name": "stderr",
     "output_type": "stream",
     "text": [
      "Perturbing graph:  64%|██████▍   | 162/253 [21:47<12:34,  8.29s/it]"
     ]
    },
    {
     "name": "stdout",
     "output_type": "stream",
     "text": [
      "GCN loss on unlabled data: 1.138964056968689\n",
      "GCN acc on unlabled data: 0.7496647295485025\n",
      "attack loss: 1.1451594829559326\n"
     ]
    },
    {
     "name": "stderr",
     "output_type": "stream",
     "text": [
      "Perturbing graph:  64%|██████▍   | 163/253 [21:55<12:25,  8.28s/it]"
     ]
    },
    {
     "name": "stdout",
     "output_type": "stream",
     "text": [
      "GCN loss on unlabled data: 1.234471082687378\n",
      "GCN acc on unlabled data: 0.737594993294591\n",
      "attack loss: 1.2451218366622925\n"
     ]
    },
    {
     "name": "stderr",
     "output_type": "stream",
     "text": [
      "Perturbing graph:  65%|██████▍   | 164/253 [22:04<12:17,  8.29s/it]"
     ]
    },
    {
     "name": "stdout",
     "output_type": "stream",
     "text": [
      "GCN loss on unlabled data: 1.1190741062164307\n",
      "GCN acc on unlabled data: 0.7657577112203845\n",
      "attack loss: 1.160154104232788\n"
     ]
    },
    {
     "name": "stderr",
     "output_type": "stream",
     "text": [
      "Perturbing graph:  65%|██████▌   | 165/253 [22:12<12:08,  8.28s/it]"
     ]
    },
    {
     "name": "stdout",
     "output_type": "stream",
     "text": [
      "GCN loss on unlabled data: 1.1603460311889648\n",
      "GCN acc on unlabled data: 0.7612874385337506\n",
      "attack loss: 1.1828665733337402\n"
     ]
    },
    {
     "name": "stderr",
     "output_type": "stream",
     "text": [
      "Perturbing graph:  66%|██████▌   | 166/253 [22:20<12:02,  8.30s/it]"
     ]
    },
    {
     "name": "stdout",
     "output_type": "stream",
     "text": [
      "GCN loss on unlabled data: 1.1017383337020874\n",
      "GCN acc on unlabled data: 0.7563701385784533\n",
      "attack loss: 1.1159747838974\n"
     ]
    },
    {
     "name": "stderr",
     "output_type": "stream",
     "text": [
      "Perturbing graph:  66%|██████▌   | 167/253 [22:29<11:53,  8.29s/it]"
     ]
    },
    {
     "name": "stdout",
     "output_type": "stream",
     "text": [
      "GCN loss on unlabled data: 1.1538485288619995\n",
      "GCN acc on unlabled data: 0.7532409476978096\n",
      "attack loss: 1.1497102975845337\n"
     ]
    },
    {
     "name": "stderr",
     "output_type": "stream",
     "text": [
      "Perturbing graph:  66%|██████▋   | 168/253 [22:37<11:45,  8.30s/it]"
     ]
    },
    {
     "name": "stdout",
     "output_type": "stream",
     "text": [
      "GCN loss on unlabled data: 1.1433751583099365\n",
      "GCN acc on unlabled data: 0.7483236477425123\n",
      "attack loss: 1.1756912469863892\n"
     ]
    },
    {
     "name": "stderr",
     "output_type": "stream",
     "text": [
      "Perturbing graph:  67%|██████▋   | 169/253 [22:45<11:36,  8.29s/it]"
     ]
    },
    {
     "name": "stdout",
     "output_type": "stream",
     "text": [
      "GCN loss on unlabled data: 1.1048575639724731\n",
      "GCN acc on unlabled data: 0.7496647295485025\n",
      "attack loss: 1.1492646932601929\n"
     ]
    },
    {
     "name": "stderr",
     "output_type": "stream",
     "text": [
      "Perturbing graph:  67%|██████▋   | 170/253 [22:54<11:31,  8.33s/it]"
     ]
    },
    {
     "name": "stdout",
     "output_type": "stream",
     "text": [
      "GCN loss on unlabled data: 1.186280369758606\n",
      "GCN acc on unlabled data: 0.7393831023692445\n",
      "attack loss: 1.2217541933059692\n"
     ]
    },
    {
     "name": "stderr",
     "output_type": "stream",
     "text": [
      "Perturbing graph:  68%|██████▊   | 171/253 [23:02<11:21,  8.31s/it]"
     ]
    },
    {
     "name": "stdout",
     "output_type": "stream",
     "text": [
      "GCN loss on unlabled data: 1.1701455116271973\n",
      "GCN acc on unlabled data: 0.7469825659365221\n",
      "attack loss: 1.179816484451294\n"
     ]
    },
    {
     "name": "stderr",
     "output_type": "stream",
     "text": [
      "Perturbing graph:  68%|██████▊   | 172/253 [23:10<11:14,  8.32s/it]"
     ]
    },
    {
     "name": "stdout",
     "output_type": "stream",
     "text": [
      "GCN loss on unlabled data: 1.1085256338119507\n",
      "GCN acc on unlabled data: 0.7510058113544926\n",
      "attack loss: 1.1145446300506592\n"
     ]
    },
    {
     "name": "stderr",
     "output_type": "stream",
     "text": [
      "Perturbing graph:  68%|██████▊   | 173/253 [23:19<11:08,  8.36s/it]"
     ]
    },
    {
     "name": "stdout",
     "output_type": "stream",
     "text": [
      "GCN loss on unlabled data: 1.1686419248580933\n",
      "GCN acc on unlabled data: 0.745641484130532\n",
      "attack loss: 1.1879152059555054\n"
     ]
    },
    {
     "name": "stderr",
     "output_type": "stream",
     "text": [
      "Perturbing graph:  69%|██████▉   | 174/253 [23:27<10:58,  8.34s/it]"
     ]
    },
    {
     "name": "stdout",
     "output_type": "stream",
     "text": [
      "GCN loss on unlabled data: 1.1969449520111084\n",
      "GCN acc on unlabled data: 0.7541350022351363\n",
      "attack loss: 1.2320536375045776\n"
     ]
    },
    {
     "name": "stderr",
     "output_type": "stream",
     "text": [
      "Perturbing graph:  69%|██████▉   | 175/253 [23:36<10:55,  8.41s/it]"
     ]
    },
    {
     "name": "stdout",
     "output_type": "stream",
     "text": [
      "GCN loss on unlabled data: 1.1942319869995117\n",
      "GCN acc on unlabled data: 0.743406347787215\n",
      "attack loss: 1.2194863557815552\n"
     ]
    },
    {
     "name": "stderr",
     "output_type": "stream",
     "text": [
      "Perturbing graph:  70%|██████▉   | 176/253 [23:44<10:41,  8.33s/it]"
     ]
    },
    {
     "name": "stdout",
     "output_type": "stream",
     "text": [
      "GCN loss on unlabled data: 1.1384990215301514\n",
      "GCN acc on unlabled data: 0.7523468931604828\n",
      "attack loss: 1.1539942026138306\n"
     ]
    },
    {
     "name": "stderr",
     "output_type": "stream",
     "text": [
      "Perturbing graph:  70%|██████▉   | 177/253 [23:52<10:33,  8.33s/it]"
     ]
    },
    {
     "name": "stdout",
     "output_type": "stream",
     "text": [
      "GCN loss on unlabled data: 1.1554350852966309\n",
      "GCN acc on unlabled data: 0.7492177022798391\n",
      "attack loss: 1.168086051940918\n"
     ]
    },
    {
     "name": "stderr",
     "output_type": "stream",
     "text": [
      "Perturbing graph:  70%|███████   | 178/253 [24:00<10:25,  8.34s/it]"
     ]
    },
    {
     "name": "stdout",
     "output_type": "stream",
     "text": [
      "GCN loss on unlabled data: 1.143831491470337\n",
      "GCN acc on unlabled data: 0.7487706750111757\n",
      "attack loss: 1.1634747982025146\n"
     ]
    },
    {
     "name": "stderr",
     "output_type": "stream",
     "text": [
      "Perturbing graph:  71%|███████   | 179/253 [24:09<10:20,  8.38s/it]"
     ]
    },
    {
     "name": "stdout",
     "output_type": "stream",
     "text": [
      "GCN loss on unlabled data: 1.2909475564956665\n",
      "GCN acc on unlabled data: 0.7340187751452839\n",
      "attack loss: 1.3170889616012573\n"
     ]
    },
    {
     "name": "stderr",
     "output_type": "stream",
     "text": [
      "Perturbing graph:  71%|███████   | 180/253 [24:17<10:13,  8.41s/it]"
     ]
    },
    {
     "name": "stdout",
     "output_type": "stream",
     "text": [
      "GCN loss on unlabled data: 1.2489300966262817\n",
      "GCN acc on unlabled data: 0.7402771569065713\n",
      "attack loss: 1.285508155822754\n"
     ]
    },
    {
     "name": "stderr",
     "output_type": "stream",
     "text": [
      "Perturbing graph:  72%|███████▏  | 181/253 [24:26<10:09,  8.47s/it]"
     ]
    },
    {
     "name": "stdout",
     "output_type": "stream",
     "text": [
      "GCN loss on unlabled data: 1.1725399494171143\n",
      "GCN acc on unlabled data: 0.7518998658918195\n",
      "attack loss: 1.2144694328308105\n"
     ]
    },
    {
     "name": "stderr",
     "output_type": "stream",
     "text": [
      "Perturbing graph:  72%|███████▏  | 182/253 [24:34<10:01,  8.48s/it]"
     ]
    },
    {
     "name": "stdout",
     "output_type": "stream",
     "text": [
      "GCN loss on unlabled data: 1.1441543102264404\n",
      "GCN acc on unlabled data: 0.7496647295485025\n",
      "attack loss: 1.1798536777496338\n"
     ]
    },
    {
     "name": "stderr",
     "output_type": "stream",
     "text": [
      "Perturbing graph:  72%|███████▏  | 183/253 [24:43<09:52,  8.46s/it]"
     ]
    },
    {
     "name": "stdout",
     "output_type": "stream",
     "text": [
      "GCN loss on unlabled data: 1.1975691318511963\n",
      "GCN acc on unlabled data: 0.7460885113991953\n",
      "attack loss: 1.217363715171814\n"
     ]
    },
    {
     "name": "stderr",
     "output_type": "stream",
     "text": [
      "Perturbing graph:  73%|███████▎  | 184/253 [24:52<09:50,  8.55s/it]"
     ]
    },
    {
     "name": "stdout",
     "output_type": "stream",
     "text": [
      "GCN loss on unlabled data: 1.1703903675079346\n",
      "GCN acc on unlabled data: 0.7438533750558785\n",
      "attack loss: 1.218680739402771\n"
     ]
    },
    {
     "name": "stderr",
     "output_type": "stream",
     "text": [
      "Perturbing graph:  73%|███████▎  | 185/253 [25:00<09:40,  8.54s/it]"
     ]
    },
    {
     "name": "stdout",
     "output_type": "stream",
     "text": [
      "GCN loss on unlabled data: 1.2648428678512573\n",
      "GCN acc on unlabled data: 0.7389360751005811\n",
      "attack loss: 1.2995043992996216\n"
     ]
    },
    {
     "name": "stderr",
     "output_type": "stream",
     "text": [
      "Perturbing graph:  74%|███████▎  | 186/253 [25:09<09:32,  8.55s/it]"
     ]
    },
    {
     "name": "stdout",
     "output_type": "stream",
     "text": [
      "GCN loss on unlabled data: 1.2405306100845337\n",
      "GCN acc on unlabled data: 0.7425122932498882\n",
      "attack loss: 1.2722769975662231\n"
     ]
    },
    {
     "name": "stderr",
     "output_type": "stream",
     "text": [
      "Perturbing graph:  74%|███████▍  | 187/253 [25:17<09:22,  8.52s/it]"
     ]
    },
    {
     "name": "stdout",
     "output_type": "stream",
     "text": [
      "GCN loss on unlabled data: 1.169694423675537\n",
      "GCN acc on unlabled data: 0.7407241841752347\n",
      "attack loss: 1.1459780931472778\n"
     ]
    },
    {
     "name": "stderr",
     "output_type": "stream",
     "text": [
      "Perturbing graph:  74%|███████▍  | 188/253 [25:26<09:10,  8.48s/it]"
     ]
    },
    {
     "name": "stdout",
     "output_type": "stream",
     "text": [
      "GCN loss on unlabled data: 1.206335186958313\n",
      "GCN acc on unlabled data: 0.7344658024139472\n",
      "attack loss: 1.2325083017349243\n"
     ]
    },
    {
     "name": "stderr",
     "output_type": "stream",
     "text": [
      "Perturbing graph:  75%|███████▍  | 189/253 [25:34<09:02,  8.48s/it]"
     ]
    },
    {
     "name": "stdout",
     "output_type": "stream",
     "text": [
      "GCN loss on unlabled data: 1.2474089860916138\n",
      "GCN acc on unlabled data: 0.739830129637908\n",
      "attack loss: 1.2620999813079834\n"
     ]
    },
    {
     "name": "stderr",
     "output_type": "stream",
     "text": [
      "Perturbing graph:  75%|███████▌  | 190/253 [25:43<08:58,  8.54s/it]"
     ]
    },
    {
     "name": "stdout",
     "output_type": "stream",
     "text": [
      "GCN loss on unlabled data: 1.1641643047332764\n",
      "GCN acc on unlabled data: 0.7532409476978096\n",
      "attack loss: 1.206552267074585\n"
     ]
    },
    {
     "name": "stderr",
     "output_type": "stream",
     "text": [
      "Perturbing graph:  75%|███████▌  | 191/253 [25:51<08:48,  8.52s/it]"
     ]
    },
    {
     "name": "stdout",
     "output_type": "stream",
     "text": [
      "GCN loss on unlabled data: 1.145310878753662\n",
      "GCN acc on unlabled data: 0.743406347787215\n",
      "attack loss: 1.180463194847107\n"
     ]
    },
    {
     "name": "stderr",
     "output_type": "stream",
     "text": [
      "Perturbing graph:  76%|███████▌  | 192/253 [26:00<08:41,  8.55s/it]"
     ]
    },
    {
     "name": "stdout",
     "output_type": "stream",
     "text": [
      "GCN loss on unlabled data: 1.2305357456207275\n",
      "GCN acc on unlabled data: 0.743406347787215\n",
      "attack loss: 1.2787189483642578\n"
     ]
    },
    {
     "name": "stderr",
     "output_type": "stream",
     "text": [
      "Perturbing graph:  76%|███████▋  | 193/253 [26:08<08:24,  8.41s/it]"
     ]
    },
    {
     "name": "stdout",
     "output_type": "stream",
     "text": [
      "GCN loss on unlabled data: 1.2559765577316284\n",
      "GCN acc on unlabled data: 0.7393831023692445\n",
      "attack loss: 1.3007893562316895\n"
     ]
    },
    {
     "name": "stderr",
     "output_type": "stream",
     "text": [
      "Perturbing graph:  77%|███████▋  | 194/253 [26:16<08:10,  8.31s/it]"
     ]
    },
    {
     "name": "stdout",
     "output_type": "stream",
     "text": [
      "GCN loss on unlabled data: 1.1980797052383423\n",
      "GCN acc on unlabled data: 0.7358068842199375\n",
      "attack loss: 1.2578672170639038\n"
     ]
    },
    {
     "name": "stderr",
     "output_type": "stream",
     "text": [
      "Perturbing graph:  77%|███████▋  | 195/253 [26:24<08:04,  8.36s/it]"
     ]
    },
    {
     "name": "stdout",
     "output_type": "stream",
     "text": [
      "GCN loss on unlabled data: 1.2378084659576416\n",
      "GCN acc on unlabled data: 0.7384890478319177\n",
      "attack loss: 1.297346830368042\n"
     ]
    },
    {
     "name": "stderr",
     "output_type": "stream",
     "text": [
      "Perturbing graph:  77%|███████▋  | 196/253 [26:33<07:53,  8.32s/it]"
     ]
    },
    {
     "name": "stdout",
     "output_type": "stream",
     "text": [
      "GCN loss on unlabled data: 1.2465198040008545\n",
      "GCN acc on unlabled data: 0.7335717478766205\n",
      "attack loss: 1.2690906524658203\n"
     ]
    },
    {
     "name": "stderr",
     "output_type": "stream",
     "text": [
      "Perturbing graph:  78%|███████▊  | 197/253 [26:41<07:49,  8.39s/it]"
     ]
    },
    {
     "name": "stdout",
     "output_type": "stream",
     "text": [
      "GCN loss on unlabled data: 1.278160810470581\n",
      "GCN acc on unlabled data: 0.7344658024139472\n",
      "attack loss: 1.3192259073257446\n"
     ]
    },
    {
     "name": "stderr",
     "output_type": "stream",
     "text": [
      "Perturbing graph:  78%|███████▊  | 198/253 [26:50<07:40,  8.38s/it]"
     ]
    },
    {
     "name": "stdout",
     "output_type": "stream",
     "text": [
      "GCN loss on unlabled data: 1.3033527135849\n",
      "GCN acc on unlabled data: 0.7402771569065713\n",
      "attack loss: 1.3395774364471436\n"
     ]
    },
    {
     "name": "stderr",
     "output_type": "stream",
     "text": [
      "Perturbing graph:  79%|███████▊  | 199/253 [26:58<07:26,  8.27s/it]"
     ]
    },
    {
     "name": "stdout",
     "output_type": "stream",
     "text": [
      "GCN loss on unlabled data: 1.2876002788543701\n",
      "GCN acc on unlabled data: 0.731783638801967\n",
      "attack loss: 1.338036298751831\n"
     ]
    },
    {
     "name": "stderr",
     "output_type": "stream",
     "text": [
      "Perturbing graph:  79%|███████▉  | 200/253 [27:06<07:13,  8.18s/it]"
     ]
    },
    {
     "name": "stdout",
     "output_type": "stream",
     "text": [
      "GCN loss on unlabled data: 1.1658121347427368\n",
      "GCN acc on unlabled data: 0.7447474295932052\n",
      "attack loss: 1.216153621673584\n"
     ]
    },
    {
     "name": "stderr",
     "output_type": "stream",
     "text": [
      "Perturbing graph:  79%|███████▉  | 201/253 [27:14<07:02,  8.12s/it]"
     ]
    },
    {
     "name": "stdout",
     "output_type": "stream",
     "text": [
      "GCN loss on unlabled data: 1.1978442668914795\n",
      "GCN acc on unlabled data: 0.737594993294591\n",
      "attack loss: 1.220644474029541\n"
     ]
    },
    {
     "name": "stderr",
     "output_type": "stream",
     "text": [
      "Perturbing graph:  80%|███████▉  | 202/253 [27:22<07:01,  8.26s/it]"
     ]
    },
    {
     "name": "stdout",
     "output_type": "stream",
     "text": [
      "GCN loss on unlabled data: 1.1972874402999878\n",
      "GCN acc on unlabled data: 0.7425122932498882\n",
      "attack loss: 1.2463979721069336\n"
     ]
    },
    {
     "name": "stderr",
     "output_type": "stream",
     "text": [
      "Perturbing graph:  80%|████████  | 203/253 [27:31<06:54,  8.29s/it]"
     ]
    },
    {
     "name": "stdout",
     "output_type": "stream",
     "text": [
      "GCN loss on unlabled data: 1.2442158460617065\n",
      "GCN acc on unlabled data: 0.7371479660259276\n",
      "attack loss: 1.2669919729232788\n"
     ]
    },
    {
     "name": "stderr",
     "output_type": "stream",
     "text": [
      "Perturbing graph:  81%|████████  | 204/253 [27:39<06:46,  8.29s/it]"
     ]
    },
    {
     "name": "stdout",
     "output_type": "stream",
     "text": [
      "GCN loss on unlabled data: 1.2144383192062378\n",
      "GCN acc on unlabled data: 0.7416182387125615\n",
      "attack loss: 1.266607403755188\n"
     ]
    },
    {
     "name": "stderr",
     "output_type": "stream",
     "text": [
      "Perturbing graph:  81%|████████  | 205/253 [27:47<06:40,  8.34s/it]"
     ]
    },
    {
     "name": "stdout",
     "output_type": "stream",
     "text": [
      "GCN loss on unlabled data: 1.2596817016601562\n",
      "GCN acc on unlabled data: 0.7367009387572642\n",
      "attack loss: 1.3034350872039795\n"
     ]
    },
    {
     "name": "stderr",
     "output_type": "stream",
     "text": [
      "Perturbing graph:  81%|████████▏ | 206/253 [27:56<06:30,  8.32s/it]"
     ]
    },
    {
     "name": "stdout",
     "output_type": "stream",
     "text": [
      "GCN loss on unlabled data: 1.2285966873168945\n",
      "GCN acc on unlabled data: 0.7358068842199375\n",
      "attack loss: 1.2527399063110352\n"
     ]
    },
    {
     "name": "stderr",
     "output_type": "stream",
     "text": [
      "Perturbing graph:  82%|████████▏ | 207/253 [28:04<06:22,  8.31s/it]"
     ]
    },
    {
     "name": "stdout",
     "output_type": "stream",
     "text": [
      "GCN loss on unlabled data: 1.2830575704574585\n",
      "GCN acc on unlabled data: 0.7223960661600357\n",
      "attack loss: 1.3568648099899292\n"
     ]
    },
    {
     "name": "stderr",
     "output_type": "stream",
     "text": [
      "Perturbing graph:  82%|████████▏ | 208/253 [28:12<06:13,  8.31s/it]"
     ]
    },
    {
     "name": "stdout",
     "output_type": "stream",
     "text": [
      "GCN loss on unlabled data: 1.1919926404953003\n",
      "GCN acc on unlabled data: 0.7416182387125615\n",
      "attack loss: 1.2191894054412842\n"
     ]
    },
    {
     "name": "stderr",
     "output_type": "stream",
     "text": [
      "Perturbing graph:  83%|████████▎ | 209/253 [28:20<06:06,  8.33s/it]"
     ]
    },
    {
     "name": "stdout",
     "output_type": "stream",
     "text": [
      "GCN loss on unlabled data: 1.2891123294830322\n",
      "GCN acc on unlabled data: 0.7291014751899866\n",
      "attack loss: 1.336837887763977\n"
     ]
    },
    {
     "name": "stderr",
     "output_type": "stream",
     "text": [
      "Perturbing graph:  83%|████████▎ | 210/253 [28:29<05:59,  8.37s/it]"
     ]
    },
    {
     "name": "stdout",
     "output_type": "stream",
     "text": [
      "GCN loss on unlabled data: 1.2900216579437256\n",
      "GCN acc on unlabled data: 0.7358068842199375\n",
      "attack loss: 1.3355116844177246\n"
     ]
    },
    {
     "name": "stderr",
     "output_type": "stream",
     "text": [
      "Perturbing graph:  83%|████████▎ | 211/253 [28:37<05:51,  8.38s/it]"
     ]
    },
    {
     "name": "stdout",
     "output_type": "stream",
     "text": [
      "GCN loss on unlabled data: 1.2257813215255737\n",
      "GCN acc on unlabled data: 0.7367009387572642\n",
      "attack loss: 1.2834118604660034\n"
     ]
    },
    {
     "name": "stderr",
     "output_type": "stream",
     "text": [
      "Perturbing graph:  84%|████████▍ | 212/253 [28:46<05:41,  8.34s/it]"
     ]
    },
    {
     "name": "stdout",
     "output_type": "stream",
     "text": [
      "GCN loss on unlabled data: 1.2818677425384521\n",
      "GCN acc on unlabled data: 0.7438533750558785\n",
      "attack loss: 1.3511552810668945\n"
     ]
    },
    {
     "name": "stderr",
     "output_type": "stream",
     "text": [
      "Perturbing graph:  84%|████████▍ | 213/253 [28:54<05:34,  8.36s/it]"
     ]
    },
    {
     "name": "stdout",
     "output_type": "stream",
     "text": [
      "GCN loss on unlabled data: 1.3355847597122192\n",
      "GCN acc on unlabled data: 0.7264193115780062\n",
      "attack loss: 1.3792016506195068\n"
     ]
    },
    {
     "name": "stderr",
     "output_type": "stream",
     "text": [
      "Perturbing graph:  85%|████████▍ | 214/253 [29:02<05:27,  8.39s/it]"
     ]
    },
    {
     "name": "stdout",
     "output_type": "stream",
     "text": [
      "GCN loss on unlabled data: 1.3337241411209106\n",
      "GCN acc on unlabled data: 0.731783638801967\n",
      "attack loss: 1.4012283086776733\n"
     ]
    },
    {
     "name": "stderr",
     "output_type": "stream",
     "text": [
      "Perturbing graph:  85%|████████▍ | 215/253 [29:11<05:19,  8.41s/it]"
     ]
    },
    {
     "name": "stdout",
     "output_type": "stream",
     "text": [
      "GCN loss on unlabled data: 1.3073478937149048\n",
      "GCN acc on unlabled data: 0.7250782297720161\n",
      "attack loss: 1.343945026397705\n"
     ]
    },
    {
     "name": "stderr",
     "output_type": "stream",
     "text": [
      "Perturbing graph:  85%|████████▌ | 216/253 [29:19<05:11,  8.42s/it]"
     ]
    },
    {
     "name": "stdout",
     "output_type": "stream",
     "text": [
      "GCN loss on unlabled data: 1.2548145055770874\n",
      "GCN acc on unlabled data: 0.7326776933392937\n",
      "attack loss: 1.2837141752243042\n"
     ]
    },
    {
     "name": "stderr",
     "output_type": "stream",
     "text": [
      "Perturbing graph:  86%|████████▌ | 217/253 [29:28<05:03,  8.43s/it]"
     ]
    },
    {
     "name": "stdout",
     "output_type": "stream",
     "text": [
      "GCN loss on unlabled data: 1.2372024059295654\n",
      "GCN acc on unlabled data: 0.745641484130532\n",
      "attack loss: 1.2989014387130737\n"
     ]
    },
    {
     "name": "stderr",
     "output_type": "stream",
     "text": [
      "Perturbing graph:  86%|████████▌ | 218/253 [29:36<04:54,  8.43s/it]"
     ]
    },
    {
     "name": "stdout",
     "output_type": "stream",
     "text": [
      "GCN loss on unlabled data: 1.2151862382888794\n",
      "GCN acc on unlabled data: 0.7367009387572642\n",
      "attack loss: 1.290295124053955\n"
     ]
    },
    {
     "name": "stderr",
     "output_type": "stream",
     "text": [
      "Perturbing graph:  87%|████████▋ | 219/253 [29:45<04:46,  8.41s/it]"
     ]
    },
    {
     "name": "stdout",
     "output_type": "stream",
     "text": [
      "GCN loss on unlabled data: 1.326047420501709\n",
      "GCN acc on unlabled data: 0.7268663388466696\n",
      "attack loss: 1.3916621208190918\n"
     ]
    },
    {
     "name": "stderr",
     "output_type": "stream",
     "text": [
      "Perturbing graph:  87%|████████▋ | 220/253 [29:53<04:38,  8.43s/it]"
     ]
    },
    {
     "name": "stdout",
     "output_type": "stream",
     "text": [
      "GCN loss on unlabled data: 1.363474726676941\n",
      "GCN acc on unlabled data: 0.7286544479213232\n",
      "attack loss: 1.420775055885315\n"
     ]
    },
    {
     "name": "stderr",
     "output_type": "stream",
     "text": [
      "Perturbing graph:  87%|████████▋ | 221/253 [30:02<04:30,  8.46s/it]"
     ]
    },
    {
     "name": "stdout",
     "output_type": "stream",
     "text": [
      "GCN loss on unlabled data: 1.2774994373321533\n",
      "GCN acc on unlabled data: 0.7291014751899866\n",
      "attack loss: 1.321439504623413\n"
     ]
    },
    {
     "name": "stderr",
     "output_type": "stream",
     "text": [
      "Perturbing graph:  88%|████████▊ | 222/253 [30:10<04:21,  8.42s/it]"
     ]
    },
    {
     "name": "stdout",
     "output_type": "stream",
     "text": [
      "GCN loss on unlabled data: 1.3281011581420898\n",
      "GCN acc on unlabled data: 0.7241841752346894\n",
      "attack loss: 1.3851938247680664\n"
     ]
    },
    {
     "name": "stderr",
     "output_type": "stream",
     "text": [
      "Perturbing graph:  88%|████████▊ | 223/253 [30:19<04:14,  8.48s/it]"
     ]
    },
    {
     "name": "stdout",
     "output_type": "stream",
     "text": [
      "GCN loss on unlabled data: 1.2723281383514404\n",
      "GCN acc on unlabled data: 0.7393831023692445\n",
      "attack loss: 1.3392082452774048\n"
     ]
    },
    {
     "name": "stderr",
     "output_type": "stream",
     "text": [
      "Perturbing graph:  89%|████████▊ | 224/253 [30:27<04:03,  8.39s/it]"
     ]
    },
    {
     "name": "stdout",
     "output_type": "stream",
     "text": [
      "GCN loss on unlabled data: 1.3243889808654785\n",
      "GCN acc on unlabled data: 0.7201609298167189\n",
      "attack loss: 1.3933244943618774\n"
     ]
    },
    {
     "name": "stderr",
     "output_type": "stream",
     "text": [
      "Perturbing graph:  89%|████████▉ | 225/253 [30:35<03:55,  8.42s/it]"
     ]
    },
    {
     "name": "stdout",
     "output_type": "stream",
     "text": [
      "GCN loss on unlabled data: 1.3083555698394775\n",
      "GCN acc on unlabled data: 0.7286544479213232\n",
      "attack loss: 1.3799020051956177\n"
     ]
    },
    {
     "name": "stderr",
     "output_type": "stream",
     "text": [
      "Perturbing graph:  89%|████████▉ | 226/253 [30:44<03:47,  8.44s/it]"
     ]
    },
    {
     "name": "stdout",
     "output_type": "stream",
     "text": [
      "GCN loss on unlabled data: 1.3110017776489258\n",
      "GCN acc on unlabled data: 0.7277603933839965\n",
      "attack loss: 1.3907092809677124\n"
     ]
    },
    {
     "name": "stderr",
     "output_type": "stream",
     "text": [
      "Perturbing graph:  90%|████████▉ | 227/253 [30:52<03:40,  8.49s/it]"
     ]
    },
    {
     "name": "stdout",
     "output_type": "stream",
     "text": [
      "GCN loss on unlabled data: 1.308970332145691\n",
      "GCN acc on unlabled data: 0.7308895842646401\n",
      "attack loss: 1.3497449159622192\n"
     ]
    },
    {
     "name": "stderr",
     "output_type": "stream",
     "text": [
      "Perturbing graph:  90%|█████████ | 228/253 [31:01<03:32,  8.50s/it]"
     ]
    },
    {
     "name": "stdout",
     "output_type": "stream",
     "text": [
      "GCN loss on unlabled data: 1.2960840463638306\n",
      "GCN acc on unlabled data: 0.7322306660706303\n",
      "attack loss: 1.3320655822753906\n"
     ]
    },
    {
     "name": "stderr",
     "output_type": "stream",
     "text": [
      "Perturbing graph:  91%|█████████ | 229/253 [31:10<03:25,  8.54s/it]"
     ]
    },
    {
     "name": "stdout",
     "output_type": "stream",
     "text": [
      "GCN loss on unlabled data: 1.3563340902328491\n",
      "GCN acc on unlabled data: 0.7299955297273134\n",
      "attack loss: 1.419713020324707\n"
     ]
    },
    {
     "name": "stderr",
     "output_type": "stream",
     "text": [
      "Perturbing graph:  91%|█████████ | 230/253 [31:18<03:14,  8.48s/it]"
     ]
    },
    {
     "name": "stdout",
     "output_type": "stream",
     "text": [
      "GCN loss on unlabled data: 1.3300987482070923\n",
      "GCN acc on unlabled data: 0.7277603933839965\n",
      "attack loss: 1.389298439025879\n"
     ]
    },
    {
     "name": "stderr",
     "output_type": "stream",
     "text": [
      "Perturbing graph:  91%|█████████▏| 231/253 [31:26<03:06,  8.48s/it]"
     ]
    },
    {
     "name": "stdout",
     "output_type": "stream",
     "text": [
      "GCN loss on unlabled data: 1.3274222612380981\n",
      "GCN acc on unlabled data: 0.7246312025033527\n",
      "attack loss: 1.3572787046432495\n"
     ]
    },
    {
     "name": "stderr",
     "output_type": "stream",
     "text": [
      "Perturbing graph:  92%|█████████▏| 232/253 [31:35<02:58,  8.50s/it]"
     ]
    },
    {
     "name": "stdout",
     "output_type": "stream",
     "text": [
      "GCN loss on unlabled data: 1.3794631958007812\n",
      "GCN acc on unlabled data: 0.7201609298167189\n",
      "attack loss: 1.4607585668563843\n"
     ]
    },
    {
     "name": "stderr",
     "output_type": "stream",
     "text": [
      "Perturbing graph:  92%|█████████▏| 233/253 [31:43<02:47,  8.37s/it]"
     ]
    },
    {
     "name": "stdout",
     "output_type": "stream",
     "text": [
      "GCN loss on unlabled data: 1.3239670991897583\n",
      "GCN acc on unlabled data: 0.7282074206526599\n",
      "attack loss: 1.3744800090789795\n"
     ]
    },
    {
     "name": "stderr",
     "output_type": "stream",
     "text": [
      "Perturbing graph:  92%|█████████▏| 234/253 [31:51<02:37,  8.28s/it]"
     ]
    },
    {
     "name": "stdout",
     "output_type": "stream",
     "text": [
      "GCN loss on unlabled data: 1.311367392539978\n",
      "GCN acc on unlabled data: 0.7340187751452839\n",
      "attack loss: 1.367074728012085\n"
     ]
    },
    {
     "name": "stderr",
     "output_type": "stream",
     "text": [
      "Perturbing graph:  93%|█████████▎| 235/253 [31:59<02:29,  8.30s/it]"
     ]
    },
    {
     "name": "stdout",
     "output_type": "stream",
     "text": [
      "GCN loss on unlabled data: 1.3248231410980225\n",
      "GCN acc on unlabled data: 0.7223960661600357\n",
      "attack loss: 1.3564929962158203\n"
     ]
    },
    {
     "name": "stderr",
     "output_type": "stream",
     "text": [
      "Perturbing graph:  93%|█████████▎| 236/253 [32:07<02:19,  8.23s/it]"
     ]
    },
    {
     "name": "stdout",
     "output_type": "stream",
     "text": [
      "GCN loss on unlabled data: 1.3120478391647339\n",
      "GCN acc on unlabled data: 0.7291014751899866\n",
      "attack loss: 1.3869587182998657\n"
     ]
    },
    {
     "name": "stderr",
     "output_type": "stream",
     "text": [
      "Perturbing graph:  94%|█████████▎| 237/253 [32:15<02:10,  8.18s/it]"
     ]
    },
    {
     "name": "stdout",
     "output_type": "stream",
     "text": [
      "GCN loss on unlabled data: 1.3589272499084473\n",
      "GCN acc on unlabled data: 0.7268663388466696\n",
      "attack loss: 1.4289777278900146\n"
     ]
    },
    {
     "name": "stderr",
     "output_type": "stream",
     "text": [
      "Perturbing graph:  94%|█████████▍| 238/253 [32:24<02:02,  8.17s/it]"
     ]
    },
    {
     "name": "stdout",
     "output_type": "stream",
     "text": [
      "GCN loss on unlabled data: 1.4338501691818237\n",
      "GCN acc on unlabled data: 0.7219490388913724\n",
      "attack loss: 1.5098581314086914\n"
     ]
    },
    {
     "name": "stderr",
     "output_type": "stream",
     "text": [
      "Perturbing graph:  94%|█████████▍| 239/253 [32:32<01:54,  8.17s/it]"
     ]
    },
    {
     "name": "stdout",
     "output_type": "stream",
     "text": [
      "GCN loss on unlabled data: 1.3523163795471191\n",
      "GCN acc on unlabled data: 0.727313366115333\n",
      "attack loss: 1.4091558456420898\n"
     ]
    },
    {
     "name": "stderr",
     "output_type": "stream",
     "text": [
      "Perturbing graph:  95%|█████████▍| 240/253 [32:40<01:45,  8.14s/it]"
     ]
    },
    {
     "name": "stdout",
     "output_type": "stream",
     "text": [
      "GCN loss on unlabled data: 1.336400032043457\n",
      "GCN acc on unlabled data: 0.7165847116674117\n",
      "attack loss: 1.384530782699585\n"
     ]
    },
    {
     "name": "stderr",
     "output_type": "stream",
     "text": [
      "Perturbing graph:  95%|█████████▌| 241/253 [32:48<01:37,  8.13s/it]"
     ]
    },
    {
     "name": "stdout",
     "output_type": "stream",
     "text": [
      "GCN loss on unlabled data: 1.3666856288909912\n",
      "GCN acc on unlabled data: 0.7313366115333035\n",
      "attack loss: 1.4488261938095093\n"
     ]
    },
    {
     "name": "stderr",
     "output_type": "stream",
     "text": [
      "Perturbing graph:  96%|█████████▌| 242/253 [32:56<01:29,  8.14s/it]"
     ]
    },
    {
     "name": "stdout",
     "output_type": "stream",
     "text": [
      "GCN loss on unlabled data: 1.3036528825759888\n",
      "GCN acc on unlabled data: 0.7299955297273134\n",
      "attack loss: 1.364824891090393\n"
     ]
    },
    {
     "name": "stderr",
     "output_type": "stream",
     "text": [
      "Perturbing graph:  96%|█████████▌| 243/253 [33:04<01:21,  8.20s/it]"
     ]
    },
    {
     "name": "stdout",
     "output_type": "stream",
     "text": [
      "GCN loss on unlabled data: 1.318687081336975\n",
      "GCN acc on unlabled data: 0.7371479660259276\n",
      "attack loss: 1.3842769861221313\n"
     ]
    },
    {
     "name": "stderr",
     "output_type": "stream",
     "text": [
      "Perturbing graph:  96%|█████████▋| 244/253 [33:13<01:13,  8.18s/it]"
     ]
    },
    {
     "name": "stdout",
     "output_type": "stream",
     "text": [
      "GCN loss on unlabled data: 1.3900506496429443\n",
      "GCN acc on unlabled data: 0.7255252570406795\n",
      "attack loss: 1.461228609085083\n"
     ]
    },
    {
     "name": "stderr",
     "output_type": "stream",
     "text": [
      "Perturbing graph:  97%|█████████▋| 245/253 [33:21<01:05,  8.16s/it]"
     ]
    },
    {
     "name": "stdout",
     "output_type": "stream",
     "text": [
      "GCN loss on unlabled data: 1.3534249067306519\n",
      "GCN acc on unlabled data: 0.7259722843093429\n",
      "attack loss: 1.3742105960845947\n"
     ]
    },
    {
     "name": "stderr",
     "output_type": "stream",
     "text": [
      "Perturbing graph:  97%|█████████▋| 246/253 [33:29<00:56,  8.12s/it]"
     ]
    },
    {
     "name": "stdout",
     "output_type": "stream",
     "text": [
      "GCN loss on unlabled data: 1.2263307571411133\n",
      "GCN acc on unlabled data: 0.7313366115333035\n",
      "attack loss: 1.2691653966903687\n"
     ]
    },
    {
     "name": "stderr",
     "output_type": "stream",
     "text": [
      "Perturbing graph:  98%|█████████▊| 247/253 [33:37<00:48,  8.08s/it]"
     ]
    },
    {
     "name": "stdout",
     "output_type": "stream",
     "text": [
      "GCN loss on unlabled data: 1.297669529914856\n",
      "GCN acc on unlabled data: 0.7362539114886008\n",
      "attack loss: 1.3548017740249634\n"
     ]
    },
    {
     "name": "stderr",
     "output_type": "stream",
     "text": [
      "Perturbing graph:  98%|█████████▊| 248/253 [33:45<00:40,  8.07s/it]"
     ]
    },
    {
     "name": "stdout",
     "output_type": "stream",
     "text": [
      "GCN loss on unlabled data: 1.3341073989868164\n",
      "GCN acc on unlabled data: 0.735359856951274\n",
      "attack loss: 1.4036201238632202\n"
     ]
    },
    {
     "name": "stderr",
     "output_type": "stream",
     "text": [
      "Perturbing graph:  98%|█████████▊| 249/253 [33:53<00:32,  8.05s/it]"
     ]
    },
    {
     "name": "stdout",
     "output_type": "stream",
     "text": [
      "GCN loss on unlabled data: 1.3784666061401367\n",
      "GCN acc on unlabled data: 0.7232901206973625\n",
      "attack loss: 1.41984224319458\n"
     ]
    },
    {
     "name": "stderr",
     "output_type": "stream",
     "text": [
      "Perturbing graph:  99%|█████████▉| 250/253 [34:01<00:24,  8.04s/it]"
     ]
    },
    {
     "name": "stdout",
     "output_type": "stream",
     "text": [
      "GCN loss on unlabled data: 1.3824290037155151\n",
      "GCN acc on unlabled data: 0.7219490388913724\n",
      "attack loss: 1.451899528503418\n"
     ]
    },
    {
     "name": "stderr",
     "output_type": "stream",
     "text": [
      "Perturbing graph:  99%|█████████▉| 251/253 [34:09<00:16,  8.03s/it]"
     ]
    },
    {
     "name": "stdout",
     "output_type": "stream",
     "text": [
      "GCN loss on unlabled data: 1.4231394529342651\n",
      "GCN acc on unlabled data: 0.7179257934734019\n",
      "attack loss: 1.4961013793945312\n"
     ]
    },
    {
     "name": "stderr",
     "output_type": "stream",
     "text": [
      "Perturbing graph: 100%|█████████▉| 252/253 [34:17<00:08,  8.02s/it]"
     ]
    },
    {
     "name": "stdout",
     "output_type": "stream",
     "text": [
      "GCN loss on unlabled data: 1.3907556533813477\n",
      "GCN acc on unlabled data: 0.7165847116674117\n",
      "attack loss: 1.4691990613937378\n"
     ]
    },
    {
     "name": "stderr",
     "output_type": "stream",
     "text": [
      "Perturbing graph: 100%|██████████| 253/253 [34:25<00:00,  8.16s/it]\n"
     ]
    },
    {
     "ename": "FileNotFoundError",
     "evalue": "[Errno 2] No such file or directory: 'saved_pk/mettack_modified_adj_cora2484_0.05fake.pk'",
     "output_type": "error",
     "traceback": [
      "\u001b[1;31m---------------------------------------------------------------------------\u001b[0m",
      "\u001b[1;31mFileNotFoundError\u001b[0m                         Traceback (most recent call last)",
      "\u001b[1;32m~\\AppData\\Local\\Temp\\ipykernel_7404\\509858236.py\u001b[0m in \u001b[0;36m<module>\u001b[1;34m\u001b[0m\n\u001b[0;32m      3\u001b[0m \u001b[0mmodel\u001b[0m\u001b[1;33m.\u001b[0m\u001b[0mattack\u001b[0m\u001b[1;33m(\u001b[0m\u001b[0mfeatures\u001b[0m\u001b[1;33m,\u001b[0m \u001b[0madj\u001b[0m\u001b[1;33m,\u001b[0m \u001b[0mlabels\u001b[0m\u001b[1;33m,\u001b[0m \u001b[0midx_train\u001b[0m\u001b[1;33m,\u001b[0m \u001b[0midx_unlabeled\u001b[0m\u001b[1;33m,\u001b[0m \u001b[0mperturbations\u001b[0m\u001b[1;33m,\u001b[0m \u001b[0mll_constraint\u001b[0m\u001b[1;33m=\u001b[0m\u001b[1;32mFalse\u001b[0m\u001b[1;33m)\u001b[0m\u001b[1;33m\u001b[0m\u001b[1;33m\u001b[0m\u001b[0m\n\u001b[0;32m      4\u001b[0m \u001b[0mmodified_adj\u001b[0m \u001b[1;33m=\u001b[0m \u001b[0mmodel\u001b[0m\u001b[1;33m.\u001b[0m\u001b[0mmodified_adj\u001b[0m\u001b[1;33m\u001b[0m\u001b[1;33m\u001b[0m\u001b[0m\n\u001b[1;32m----> 5\u001b[1;33m \u001b[0mpickle\u001b[0m\u001b[1;33m.\u001b[0m\u001b[0mdump\u001b[0m\u001b[1;33m(\u001b[0m\u001b[0mmodified_adj\u001b[0m\u001b[1;33m,\u001b[0m \u001b[0mopen\u001b[0m\u001b[1;33m(\u001b[0m\u001b[1;34m'saved_pk/mettack_modified_adj_cora2484_0.05fake.pk'\u001b[0m\u001b[1;33m,\u001b[0m \u001b[1;34m'wb'\u001b[0m\u001b[1;33m)\u001b[0m\u001b[1;33m)\u001b[0m\u001b[1;33m\u001b[0m\u001b[1;33m\u001b[0m\u001b[0m\n\u001b[0m\u001b[0;32m      6\u001b[0m \u001b[0mprint\u001b[0m\u001b[1;33m(\u001b[0m\u001b[1;34m'modified_adj saved'\u001b[0m\u001b[1;33m)\u001b[0m\u001b[1;33m\u001b[0m\u001b[1;33m\u001b[0m\u001b[0m\n",
      "\u001b[1;31mFileNotFoundError\u001b[0m: [Errno 2] No such file or directory: 'saved_pk/mettack_modified_adj_cora2484_0.05fake.pk'"
     ]
    }
   ],
   "source": [
    "# Setup GCN as the Surrogate Model\n",
    "surrogate = GCN_attack(nfeat=features.shape[1], nclass=labels.max().item()+1, nhid=16,\n",
    "        dropout=0.5, with_relu=False, with_bias=True, weight_decay=5e-4, device=device)\n",
    "\n",
    "surrogate = surrogate.to(device)\n",
    "surrogate.fit(features, adj, labels, idx_train, train_iters=201)\n",
    "\n",
    "# Setup Attack Model\n",
    "if 'Self' in MODEL:\n",
    "    lambda_ = 0\n",
    "if 'Train' in MODEL:\n",
    "    lambda_ = 1\n",
    "if 'Both' in MODEL:\n",
    "    lambda_ = 0.5\n",
    "\n",
    "if 'A' in MODEL:\n",
    "    model = MetaApprox(model=surrogate, nnodes=adj.shape[0], feature_shape=features.shape, attack_structure=True, attack_features=False, device=device, lambda_=lambda_)\n",
    "\n",
    "else:\n",
    "    model = Metattack(model=surrogate, nnodes=adj.shape[0], feature_shape=features.shape,  attack_structure=True, attack_features=False, device=device, lambda_=lambda_)\n",
    "\n",
    "model = model.to(device)\n",
    "\n",
    "attention = GNNGUARD # if True, our method; if False, run baselines\n",
    "\n",
    "# save the mettacked adj\n",
    "\n",
    "model.attack(features, adj, labels, idx_train, idx_unlabeled, perturbations, ll_constraint=False)\n",
    "modified_adj = model.modified_adj\n",
    "pickle.dump(modified_adj, open('saved_pk/mettack_modified_adj_cora2484_0.05fake.pk', 'wb'))\n",
    "print('modified_adj saved')\n"
   ]
  },
  {
   "cell_type": "code",
   "execution_count": 21,
   "metadata": {},
   "outputs": [
    {
     "name": "stdout",
     "output_type": "stream",
     "text": [
      "=== training gcn model ===\n",
      "Epoch 0, training loss: 1.9819684028625488\n",
      "Epoch 10, training loss: 1.1804733276367188\n",
      "Epoch 20, training loss: 0.5908041596412659\n",
      "Epoch 30, training loss: 0.3222294747829437\n",
      "Epoch 40, training loss: 0.15581312775611877\n",
      "Epoch 50, training loss: 0.11106248199939728\n",
      "Epoch 60, training loss: 0.08716487139463425\n",
      "Epoch 70, training loss: 0.08035001158714294\n",
      "Epoch 80, training loss: 0.07265067845582962\n",
      "Epoch 90, training loss: 0.09728260338306427\n",
      "Epoch 100, training loss: 0.08143855631351471\n",
      "Epoch 110, training loss: 0.0835583433508873\n",
      "Epoch 120, training loss: 0.06565006077289581\n",
      "Epoch 130, training loss: 0.042687300592660904\n",
      "Epoch 140, training loss: 0.039915770292282104\n",
      "Epoch 150, training loss: 0.06322012096643448\n",
      "Epoch 160, training loss: 0.0405743308365345\n",
      "Epoch 170, training loss: 0.043181657791137695\n",
      "Epoch 180, training loss: 0.046466391533613205\n",
      "Epoch 190, training loss: 0.03725040704011917\n",
      "Epoch 200, training loss: 0.05468853563070297\n",
      "=== picking the best model according to the performance on validation ===\n",
      "Test set results: loss= 0.5941 accuracy= 0.8280\n",
      "0.8279678068410463\n",
      "=== training gcn model ===\n",
      "Epoch 0, training loss: 1.942915916442871\n",
      "Epoch 10, training loss: 1.2177642583847046\n",
      "Epoch 20, training loss: 0.6008744835853577\n",
      "Epoch 30, training loss: 0.2873357832431793\n",
      "Epoch 40, training loss: 0.1633385270833969\n",
      "Epoch 50, training loss: 0.13642291724681854\n",
      "Epoch 60, training loss: 0.11688107252120972\n",
      "Epoch 70, training loss: 0.09153248369693756\n",
      "Epoch 80, training loss: 0.07341258227825165\n",
      "Epoch 90, training loss: 0.059444181621074677\n",
      "Epoch 100, training loss: 0.06429218500852585\n",
      "Epoch 110, training loss: 0.06727518886327744\n",
      "Epoch 120, training loss: 0.0705210492014885\n",
      "Epoch 130, training loss: 0.06596773117780685\n",
      "Epoch 140, training loss: 0.04661313816905022\n",
      "Epoch 150, training loss: 0.06172241270542145\n",
      "Epoch 160, training loss: 0.05217921361327171\n",
      "Epoch 170, training loss: 0.051286350935697556\n",
      "Epoch 180, training loss: 0.06219147890806198\n",
      "Epoch 190, training loss: 0.04969741404056549\n",
      "Epoch 200, training loss: 0.03789065405726433\n",
      "=== picking the best model according to the performance on validation ===\n",
      "Test set results: loss= 0.7023 accuracy= 0.7827\n",
      "0.7826961770623743\n"
     ]
    }
   ],
   "source": [
    "\n",
    "def test(adj):\n",
    "    # \"\"\"defense models\"\"\"\n",
    "    # classifier = globals()[args.defensemodel](nnodes=adj.shape[0], nfeat=features.shape[1], nhid=16,\n",
    "    #                                           nclass=labels.max().item() + 1, dropout=0.5, device=device)\n",
    "\n",
    "    ''' testing model '''\n",
    "    classifier = globals()[MODELNAME](nfeat=features.shape[1], nhid=16, nclass=labels.max().item() + 1, dropout=0.5, device=device)\n",
    "\n",
    "    classifier = classifier.to(device)\n",
    "\n",
    "    classifier.fit(features, adj, labels, idx_train, train_iters=201,\n",
    "                   idx_val=idx_val,\n",
    "                   idx_test=idx_test,\n",
    "                   verbose=True, \n",
    "                   attention=attention)\n",
    "                    # idx_val=idx_val, idx_test=idx_test , model_name=model_name\n",
    "    classifier.eval()\n",
    "\n",
    "    # classifier.fit(features, adj, labels, idx_train, idx_val) # train with validation model picking\n",
    "    acc_test = classifier.test(idx_test)\n",
    "    print(acc_test)\n",
    "    # return acc_test.item()\n",
    "\n",
    "test(adj)\n",
    "\n",
    "test(modified_adj)"
   ]
  }
 ],
 "metadata": {
  "interpreter": {
   "hash": "a56855c9ea11010bc304316a44db751546a045ca14ebeaff59a03465560bb0ff"
  },
  "kernelspec": {
   "display_name": "Python 3.7.11 ('torch-py37')",
   "language": "python",
   "name": "python3"
  },
  "language_info": {
   "codemirror_mode": {
    "name": "ipython",
    "version": 3
   },
   "file_extension": ".py",
   "mimetype": "text/x-python",
   "name": "python",
   "nbconvert_exporter": "python",
   "pygments_lexer": "ipython3",
   "version": "3.7.11"
  },
  "orig_nbformat": 4
 },
 "nbformat": 4,
 "nbformat_minor": 2
}
